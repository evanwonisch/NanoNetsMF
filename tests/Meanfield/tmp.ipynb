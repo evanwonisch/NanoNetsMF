{
 "cells": [
  {
   "cell_type": "code",
   "execution_count": 10,
   "metadata": {},
   "outputs": [],
   "source": [
    "import os\n",
    "import sys\n",
    "sys.path.insert(0, os.path.abspath('../..'))\n",
    "\n",
    "import numpy as np\n",
    "from matplotlib import pyplot as plt\n",
    "\n",
    "from module.simulation.meanfield import MeanField as MeanField\n",
    "from module.base.network import Network as Network"
   ]
  },
  {
   "cell_type": "code",
   "execution_count": 11,
   "metadata": {},
   "outputs": [],
   "source": [
    "net = Network(2,2,1,[[0,0,0],[1,1,0]])"
   ]
  },
  {
   "cell_type": "code",
   "execution_count": 12,
   "metadata": {},
   "outputs": [],
   "source": [
    "mf = MeanField(net)"
   ]
  },
  {
   "cell_type": "code",
   "execution_count": 22,
   "metadata": {},
   "outputs": [],
   "source": [
    "island_index = np.array([[0,1],[2,3]])\n",
    "microstates = np.array([[False,True],[False,True]])"
   ]
  },
  {
   "cell_type": "code",
   "execution_count": 23,
   "metadata": {},
   "outputs": [],
   "source": [
    "occ = np.array([[[16.17410522, 18.49276232, 23.45403068, 11.1422785 ],\n",
    "  [10.16361653, 28.2023101,   5.33504647, 25.85101559]],\n",
    "\n",
    " [[ 9.14831688, 19.33463189, 21.3374962,  12.9502747 ],\n",
    "  [17.87378285, 14.48118671,  6.5975802,  15.22911196]]])"
   ]
  },
  {
   "cell_type": "code",
   "execution_count": 24,
   "metadata": {},
   "outputs": [
    {
     "data": {
      "text/plain": [
       "array([[[16.        , 18.49276232, 23.45403068, 11.1422785 ],\n",
       "        [10.16361653, 29.        ,  5.33504647, 25.85101559]],\n",
       "\n",
       "       [[ 9.14831688, 19.33463189, 21.        , 12.9502747 ],\n",
       "        [17.87378285, 14.48118671,  6.5975802 , 16.        ]]])"
      ]
     },
     "execution_count": 24,
     "metadata": {},
     "output_type": "execute_result"
    }
   ],
   "source": [
    "mf.effective_operator(occ, island_index, microstates)"
   ]
  },
  {
   "cell_type": "code",
   "execution_count": null,
   "metadata": {},
   "outputs": [],
   "source": []
  }
 ],
 "metadata": {
  "kernelspec": {
   "display_name": ".venv",
   "language": "python",
   "name": "python3"
  },
  "language_info": {
   "codemirror_mode": {
    "name": "ipython",
    "version": 3
   },
   "file_extension": ".py",
   "mimetype": "text/x-python",
   "name": "python",
   "nbconvert_exporter": "python",
   "pygments_lexer": "ipython3",
   "version": "3.8.10"
  },
  "orig_nbformat": 4,
  "vscode": {
   "interpreter": {
    "hash": "4dcf8d330e8256cb9c4ac02604f5b2e307895e35cc67c636e02a803567f9c267"
   }
  }
 },
 "nbformat": 4,
 "nbformat_minor": 2
}

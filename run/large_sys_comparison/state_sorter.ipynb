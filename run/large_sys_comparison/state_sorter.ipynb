{
 "cells": [
  {
   "cell_type": "code",
   "execution_count": 1,
   "metadata": {},
   "outputs": [],
   "source": [
    "import sys\n",
    "sys.path.insert(0, \"../..\")\n",
    "\n",
    "import numpy as np\n",
    "from matplotlib import pyplot as plt\n",
    "\n",
    "from module.base.network import Network\n",
    "from module.simulation.meanfield import MeanField\n",
    "import module.components.CONST as CONST"
   ]
  },
  {
   "cell_type": "markdown",
   "metadata": {},
   "source": [
    "## Comparison of states and currents for larger systems\n",
    "Four electrodes are attached to the flat system at all edges."
   ]
  },
  {
   "cell_type": "code",
   "execution_count": 2,
   "metadata": {},
   "outputs": [],
   "source": [
    "net_sizes = np.arange(2, 11)\n",
    "nets = [Network(size, size, 1, [[0,0,0], [size - 1, 0, 0],[0, size - 1, 0],[size - 1, size - 1, 0]]) for size in net_sizes]\n",
    "mfs = [MeanField(net) for net in nets]"
   ]
  },
  {
   "cell_type": "code",
   "execution_count": 3,
   "metadata": {},
   "outputs": [],
   "source": [
    "voltage_configs = np.loadtxt(\"../../data/large_sys/voltage_configs.csv\")"
   ]
  },
  {
   "cell_type": "code",
   "execution_count": 4,
   "metadata": {},
   "outputs": [],
   "source": [
    "states_mf_e4 = []\n",
    "for i in range(len(net_sizes)):\n",
    "    size = net_sizes[i]\n",
    "    state = np.loadtxt(\"../../data/large_sys/mf_1e-4/states\"+str(size)+\"x\"+str(size)+\".csv\")\n",
    "    states_mf_e4.append(state)\n",
    "    \n",
    "currents_mf_e4 = []\n",
    "for i in range(len(net_sizes)):\n",
    "    size = net_sizes[i]\n",
    "    current = np.loadtxt(\"../../data/large_sys/mf_1e-4/currents\"+str(size)+\"x\"+str(size)+\".csv\")\n",
    "    currents_mf_e4.append(current)"
   ]
  },
  {
   "cell_type": "code",
   "execution_count": 5,
   "metadata": {},
   "outputs": [],
   "source": [
    "states_mf_e3 = []\n",
    "for i in range(len(net_sizes)):\n",
    "    size = net_sizes[i]\n",
    "    state = np.loadtxt(\"../../data/large_sys/mf_3e-3/states\"+str(size)+\"x\"+str(size)+\".csv\")\n",
    "    states_mf_e3.append(state)\n",
    "    \n",
    "currents_mf_e3 = []\n",
    "for i in range(len(net_sizes)):\n",
    "    size = net_sizes[i]\n",
    "    current = np.loadtxt(\"../../data/large_sys/mf_3e-3/currents\"+str(size)+\"x\"+str(size)+\".csv\")\n",
    "    currents_mf_e3.append(current)"
   ]
  },
  {
   "cell_type": "code",
   "execution_count": 9,
   "metadata": {},
   "outputs": [],
   "source": [
    "states_kmc = []\n",
    "for i in range(len(net_sizes)):\n",
    "    state = np.loadtxt(\"../../data/large_sys/kmc2/mean_state_Nx=\"+str(net_sizes[i])+\"_Ny=\"+str(net_sizes[i])+\"_Nz=1_Ne=4.csv\", delimiter=\",\", skiprows=1)\n",
    "    states_kmc.append(state)\n",
    "    \n",
    "currents_kmc = []\n",
    "for i in range(len(net_sizes)):\n",
    "    net_size = net_sizes[i]\n",
    "    data = np.loadtxt(\"../../data/large_sys/kmc2/Nx=\"+str(net_size)+\"_Ny=\"+str(net_size)+\"_Nz=1_Ne=4.csv\", delimiter = \",\", skiprows = 1)\n",
    "    currents_kmc.append(data)"
   ]
  },
  {
   "cell_type": "code",
   "execution_count": 10,
   "metadata": {},
   "outputs": [],
   "source": [
    "voltages = voltage_configs[0]\n",
    "net = nets[0]\n",
    "mf = mfs[0]\n",
    "net.set_voltage_config([voltages[0], voltages[1], voltages[2], voltages[3]], voltages[4])"
   ]
  },
  {
   "cell_type": "code",
   "execution_count": 11,
   "metadata": {},
   "outputs": [],
   "source": [
    "for size_index in range(9):\n",
    "    size = net_sizes[size_index]\n",
    "\n",
    "    mf_sort_indices = np.argsort(voltage_configs[:,0], axis = 0)\n",
    "    kmc_sort_indices = np.argsort(currents_kmc[size_index][:,0], axis = 0)\n",
    "\n",
    "    sorted_mf_states = states_mf_e4[size_index][mf_sort_indices]\n",
    "    sorted_mf_currents = currents_mf_e4[size_index][mf_sort_indices]\n",
    "\n",
    "    sorted_voltage_config = voltage_configs[mf_sort_indices]\n",
    "\n",
    "    # convergence metrics\n",
    "    sorted_mf_convergence = []\n",
    "    for i, state in enumerate(sorted_mf_states):\n",
    "        nets[size_index].set_voltage_config([sorted_voltage_config[i, 0], sorted_voltage_config[i, 1], sorted_voltage_config[i, 2], sorted_voltage_config[i, 3]], sorted_voltage_config[i, 4])\n",
    "        metric = mfs[size_index].convergence_metric((state - nets[size_index].dq) / CONST.electron_charge)\n",
    "        sorted_mf_convergence.append(metric)\n",
    "    sorted_mf_convergence = np.array(sorted_mf_convergence)\n",
    "   \n",
    "\n",
    "    sorted_kmc_states = states_kmc[size_index][kmc_sort_indices]\n",
    "    sorted_kmc_currents = currents_kmc[size_index][kmc_sort_indices][:, 6] / 1000 * CONST.electron_charge\n",
    "    sorted_kmc_errs = currents_kmc[size_index][kmc_sort_indices][:, 7] / 1000 * CONST.electron_charge\n",
    "    sorted_kmc_steps = currents_kmc[size_index][kmc_sort_indices][:, 5]\n",
    "\n",
    "    np.savetxt(\"../../data/large_sys/sorted/mf/mf_states\"+str(size)+\"x\"+str(size)+\".csv\", sorted_mf_states)\n",
    "    np.savetxt(\"../../data/large_sys/sorted/mf/mf_currents\"+str(size)+\"x\"+str(size)+\".csv\", sorted_mf_currents)\n",
    "    np.savetxt(\"../../data/large_sys/sorted/mf/mf_convergence\"+str(size)+\"x\"+str(size)+\".csv\", sorted_mf_convergence)\n",
    "\n",
    "    np.savetxt(\"../../data/large_sys/sorted/kmc/kmc_states\"+str(size)+\"x\"+str(size)+\".csv\", sorted_kmc_states)\n",
    "    np.savetxt(\"../../data/large_sys/sorted/kmc/kmc_currents\"+str(size)+\"x\"+str(size)+\".csv\", sorted_kmc_currents)\n",
    "    np.savetxt(\"../../data/large_sys/sorted/kmc/kmc_errs\"+str(size)+\"x\"+str(size)+\".csv\", sorted_kmc_errs)\n",
    "    np.savetxt(\"../../data/large_sys/sorted/kmc/kmc_steps\"+str(size)+\"x\"+str(size)+\".csv\", sorted_kmc_steps)\n",
    "\n",
    "    np.savetxt(\"../../data/large_sys/sorted/voltage_configs.csv\", sorted_voltage_config)"
   ]
  },
  {
   "cell_type": "code",
   "execution_count": null,
   "metadata": {},
   "outputs": [],
   "source": []
  }
 ],
 "metadata": {
  "kernelspec": {
   "display_name": "Python 3 (ipykernel)",
   "language": "python",
   "name": "python3"
  },
  "language_info": {
   "codemirror_mode": {
    "name": "ipython",
    "version": 3
   },
   "file_extension": ".py",
   "mimetype": "text/x-python",
   "name": "python",
   "nbconvert_exporter": "python",
   "pygments_lexer": "ipython3",
   "version": "3.8.10"
  }
 },
 "nbformat": 4,
 "nbformat_minor": 2
}

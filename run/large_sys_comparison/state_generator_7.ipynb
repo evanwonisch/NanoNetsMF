{
 "cells": [
  {
   "cell_type": "code",
   "execution_count": 1,
   "metadata": {},
   "outputs": [],
   "source": [
    "import sys\n",
    "sys.path.insert(0, \"../../\")\n",
    "from IPython.display import clear_output\n",
    "\n",
    "import numpy as np\n",
    "from matplotlib import pyplot as plt\n",
    "\n",
    "from module.base.network import Network\n",
    "\n",
    "from module.simulation.meanfield import MeanField\n",
    "from module.simulation.quick_meanfield2 import QuickMeanField2\n",
    "from module.simulation.meanfield2 import MeanField2\n",
    "from module.simulation.set_meanfield2 import SetMeanField2\n",
    "\n",
    "import module.components.CONST as CONST\n",
    "from module.components.lawrence_dist import LawrenceDist\n",
    "\n",
    "from module.components.Adam import Adam"
   ]
  },
  {
   "cell_type": "code",
   "execution_count": 2,
   "metadata": {},
   "outputs": [],
   "source": [
    "## Comparison of states and currents for larger systems\n",
    "size = 7\n",
    "net = Network(size, size, 1, [[0,0,0], [size - 1, 0, 0],[0, size - 1, 0],[size - 1, size - 1, 0]])\n",
    "mf = QuickMeanField2(net)\n",
    "voltage_configs = np.loadtxt(\"../../data/large_sys/voltage_configs.csv\")"
   ]
  },
  {
   "cell_type": "code",
   "execution_count": 3,
   "metadata": {},
   "outputs": [],
   "source": [
    "size_str = str(size)+\"x\"+str(size)+\".csv\""
   ]
  },
  {
   "cell_type": "code",
   "execution_count": 4,
   "metadata": {},
   "outputs": [],
   "source": [
    "means_array = np.loadtxt(\"../../data/large_sys/mf2/entropy_means\"+size_str)\n",
    "vars_array = np.loadtxt(\"../../data/large_sys/mf2/entropy_vars\"+size_str)\n",
    "current_array = np.loadtxt(\"../../data/large_sys/mf/entropy_currents\"+size_str)\n",
    "\n",
    "conv_means_array = np.zeros(100)\n",
    "conv_vars_array = np.zeros(100)"
   ]
  },
  {
   "attachments": {},
   "cell_type": "markdown",
   "metadata": {},
   "source": [
    "---\n",
    "## LOOP"
   ]
  },
  {
   "cell_type": "code",
   "execution_count": 5,
   "metadata": {},
   "outputs": [
    {
     "name": "stdout",
     "output_type": "stream",
     "text": [
      "doing i = 99\n",
      "ADAM convergence: (0.012487894059349101, 0.020423157941318285)\n",
      "ADAM convergence: (0.024159092510839406, 0.036063219359285484)\n",
      "ADAM convergence: (0.006620082793685137, 0.011760004996006023)\n",
      "ADAM convergence: (0.00890105868943213, 0.02286328838167174)\n",
      "ADAM convergence: (0.0149243456358627, 0.025925661828573688)\n",
      "ADAM convergence: (0.013452608897949258, 0.01922521629140351)\n",
      "ADAM convergence: (0.0062182660379198245, 0.017850937229288797)\n",
      "ADAM convergence: (0.02391938971700658, 0.0369163038963372)\n",
      "ADAM convergence: (0.010497403506485866, 0.024583281369303718)\n",
      "ADAM convergence: (0.01054638319522859, 0.01917761241498271)\n"
     ]
    }
   ],
   "source": [
    "for i in range(0, 100):\n",
    "    clear_output()\n",
    "    print(\"doing i =\", i)\n",
    "    voltages = voltage_configs[i]\n",
    "    net.set_voltage_config([voltages[0], voltages[1], voltages[2], voltages[3]], voltages[4])\n",
    "    mf.ADAM_solve(N = 0, reset = True)\n",
    "    mf.means = means_array[i]\n",
    "    mf.vars = vars_array[i]\n",
    "    for j in range(10):\n",
    "        mf.ADAM_solve(N = 60, learning_rate = 0.05, reset = False, verbose = True)\n",
    "    conv_mean, conv_var = mf.ADAM_convergence_metric()\n",
    "    means_array[i] = mf.means\n",
    "    vars_array[i] = mf.vars\n",
    "    conv_means_array[i] = conv_mean\n",
    "    conv_vars_array[i] = conv_var\n",
    "    current_array[i] = -mf.calc_expected_electrode_current(3)\n",
    "    np.savetxt(\"../../data/large_sys/mf2/entropy_means\"+size_str, means_array)\n",
    "    np.savetxt(\"../../data/large_sys/mf2/entropy_vars\"+size_str, vars_array)\n",
    "    np.savetxt(\"../../data/large_sys/mf2/entropy_conv_means\"+size_str, conv_means_array)\n",
    "    np.savetxt(\"../../data/large_sys/mf2/entropy_conv_vars\"+size_str, conv_vars_array)\n",
    "    np.savetxt(\"../../data/large_sys/mf2/entropy_currents\"+size_str, current_array)"
   ]
  },
  {
   "cell_type": "code",
   "execution_count": null,
   "metadata": {},
   "outputs": [],
   "source": []
  }
 ],
 "metadata": {
  "kernelspec": {
   "display_name": ".venv",
   "language": "python",
   "name": "python3"
  },
  "language_info": {
   "codemirror_mode": {
    "name": "ipython",
    "version": 3
   },
   "file_extension": ".py",
   "mimetype": "text/x-python",
   "name": "python",
   "nbconvert_exporter": "python",
   "pygments_lexer": "ipython3",
   "version": "3.8.10"
  },
  "orig_nbformat": 4
 },
 "nbformat": 4,
 "nbformat_minor": 2
}

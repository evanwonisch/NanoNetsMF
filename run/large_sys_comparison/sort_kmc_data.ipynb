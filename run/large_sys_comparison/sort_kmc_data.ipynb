{
 "cells": [
  {
   "cell_type": "code",
   "execution_count": 15,
   "metadata": {},
   "outputs": [
    {
     "name": "stderr",
     "output_type": "stream",
     "text": [
      "/tmp/ipykernel_1686/4136295701.py:6: MatplotlibDeprecationWarning: The seaborn styles shipped by Matplotlib are deprecated since 3.6, as they no longer correspond to the styles shipped by seaborn. However, they will remain available as 'seaborn-v0_8-<style>'. Alternatively, directly use the seaborn API instead.\n",
      "  plt.style.use('seaborn')\n"
     ]
    }
   ],
   "source": [
    "import sys\n",
    "sys.path.insert(0, \"../..\")\n",
    "\n",
    "import numpy as np\n",
    "from matplotlib import pyplot as plt\n",
    "plt.style.use('seaborn')\n",
    "\n",
    "from module.base.network import Network\n",
    "from module.simulation.meanfield import MeanField\n",
    "import module.components.CONST as CONST"
   ]
  },
  {
   "cell_type": "code",
   "execution_count": 29,
   "metadata": {},
   "outputs": [],
   "source": [
    "voltage_configs = np.loadtxt(\"../../data/large_sys/voltage_configs.csv\")"
   ]
  },
  {
   "cell_type": "code",
   "execution_count": 130,
   "metadata": {},
   "outputs": [],
   "source": [
    "size = 3"
   ]
  },
  {
   "cell_type": "code",
   "execution_count": 131,
   "metadata": {},
   "outputs": [],
   "source": [
    "currents = np.loadtxt(\"../../data/large_sys/kmc2_unsorted/Nx=\"+str(size)+\"_Ny=\"+str(size)+\"_Nz=1_Ne=4.csv\", skiprows=1, delimiter=\",\")\n",
    "states = np.loadtxt(\"../../data/large_sys/kmc2_unsorted/mean_state_Nx=\"+str(size)+\"_Ny=\"+str(size)+\"_Nz=1_Ne=4.csv\", skiprows=1, delimiter=\",\")"
   ]
  },
  {
   "cell_type": "code",
   "execution_count": 132,
   "metadata": {},
   "outputs": [],
   "source": [
    "sorting = np.argsort(currents[:, 0])"
   ]
  },
  {
   "cell_type": "code",
   "execution_count": 133,
   "metadata": {},
   "outputs": [],
   "source": [
    "sorted_currents = currents[sorting]\n",
    "sorted_states = states[sorting]"
   ]
  },
  {
   "cell_type": "code",
   "execution_count": 134,
   "metadata": {},
   "outputs": [],
   "source": [
    "kmc_means = np.zeros((100, size*size))"
   ]
  },
  {
   "cell_type": "code",
   "execution_count": 135,
   "metadata": {},
   "outputs": [],
   "source": [
    "for i in range(100):\n",
    "    net = Network(size, size, 1, [[0,0,0],[size-1, 0,0],[0,size-1,0],[size-1, size-1,0]])\n",
    "    net.set_voltage_config(voltage_configs[i][0:4], voltage_configs[i][4])\n",
    "    kmc_means[i] = sorted_states[i] - net.dq / CONST.electron_charge"
   ]
  },
  {
   "cell_type": "code",
   "execution_count": 136,
   "metadata": {},
   "outputs": [],
   "source": [
    "kmc_currents = sorted_currents[:, 7] * CONST.electron_charge / 1000"
   ]
  },
  {
   "cell_type": "code",
   "execution_count": 137,
   "metadata": {},
   "outputs": [],
   "source": [
    "np.savetxt(\"../../data/large_sys/kmc2/kmc_states\"+str(size)+\"x\"+str(size)+\".csv\", kmc_means)\n",
    "np.savetxt(\"../../data/large_sys/kmc2/kmc_currents\"+str(size)+\"x\"+str(size)+\".csv\", kmc_currents)\n",
    "np.savetxt(\"../../data/large_sys/kmc2/kmc_steps\"+str(size)+\"x\"+str(size)+\".csv\", sorted_currents[:, 6])"
   ]
  },
  {
   "cell_type": "code",
   "execution_count": 139,
   "metadata": {},
   "outputs": [],
   "source": [
    "for size in range(3, 10):\n",
    "    currents = np.loadtxt(\"../../data/large_sys/kmc2_unsorted/Nx=\"+str(size)+\"_Ny=\"+str(size)+\"_Nz=1_Ne=4.csv\", skiprows=1, delimiter=\",\")\n",
    "    states = np.loadtxt(\"../../data/large_sys/kmc2_unsorted/mean_state_Nx=\"+str(size)+\"_Ny=\"+str(size)+\"_Nz=1_Ne=4.csv\", skiprows=1, delimiter=\",\")\n",
    "    sorting = np.argsort(currents[:, 0])\n",
    "    sorted_currents = currents[sorting]\n",
    "    sorted_states = states[sorting]\n",
    "    kmc_means = np.zeros((100, size*size))\n",
    "    for i in range(100):\n",
    "        net = Network(size, size, 1, [[0,0,0],[size-1, 0,0],[0,size-1,0],[size-1, size-1,0]])\n",
    "        net.set_voltage_config(voltage_configs[i][0:4], voltage_configs[i][4])\n",
    "        kmc_means[i] = sorted_states[i] - net.dq / CONST.electron_charge\n",
    "    kmc_currents = sorted_currents[:, 7] * CONST.electron_charge / 1000\n",
    "    np.savetxt(\"../../data/large_sys/kmc2/kmc_states\"+str(size)+\"x\"+str(size)+\".csv\", kmc_means)\n",
    "    np.savetxt(\"../../data/large_sys/kmc2/kmc_currents\"+str(size)+\"x\"+str(size)+\".csv\", kmc_currents)\n",
    "    np.savetxt(\"../../data/large_sys/kmc2/kmc_steps\"+str(size)+\"x\"+str(size)+\".csv\", sorted_currents[:, 6])"
   ]
  },
  {
   "cell_type": "code",
   "execution_count": null,
   "metadata": {},
   "outputs": [],
   "source": []
  },
  {
   "cell_type": "code",
   "execution_count": null,
   "metadata": {},
   "outputs": [],
   "source": []
  }
 ],
 "metadata": {
  "kernelspec": {
   "display_name": ".venv",
   "language": "python",
   "name": "python3"
  },
  "language_info": {
   "codemirror_mode": {
    "name": "ipython",
    "version": 3
   },
   "file_extension": ".py",
   "mimetype": "text/x-python",
   "name": "python",
   "nbconvert_exporter": "python",
   "pygments_lexer": "ipython3",
   "version": "3.8.10"
  },
  "orig_nbformat": 4
 },
 "nbformat": 4,
 "nbformat_minor": 2
}

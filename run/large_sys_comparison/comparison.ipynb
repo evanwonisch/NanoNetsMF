{
 "cells": [
  {
   "cell_type": "code",
   "execution_count": 1,
   "metadata": {},
   "outputs": [
    {
     "name": "stderr",
     "output_type": "stream",
     "text": [
      "/tmp/ipykernel_457/4136295701.py:6: MatplotlibDeprecationWarning: The seaborn styles shipped by Matplotlib are deprecated since 3.6, as they no longer correspond to the styles shipped by seaborn. However, they will remain available as 'seaborn-v0_8-<style>'. Alternatively, directly use the seaborn API instead.\n",
      "  plt.style.use('seaborn')\n"
     ]
    }
   ],
   "source": [
    "import sys\n",
    "sys.path.insert(0, \"../..\")\n",
    "\n",
    "import numpy as np\n",
    "from matplotlib import pyplot as plt\n",
    "plt.style.use('seaborn')\n",
    "\n",
    "from module.base.network import Network\n",
    "from module.simulation.meanfield import MeanField\n",
    "import module.components.CONST as CONST"
   ]
  },
  {
   "cell_type": "code",
   "execution_count": 2,
   "metadata": {},
   "outputs": [],
   "source": [
    "def set_size(width = \"thesis\", fraction=1, subplots=(1, 1)):\n",
    "    if width == 'thesis':\n",
    "        width_pt = 426.79135\n",
    "    elif width == 'beamer':\n",
    "        width_pt = 307.28987\n",
    "    else:\n",
    "        width_pt = width\n",
    "\n",
    "    # Width of figure (in pts)\n",
    "    fig_width_pt = width_pt * fraction\n",
    "\n",
    "    # Convert from pt to inches\n",
    "    inches_per_pt = 1 / 72.27\n",
    "\n",
    "    # Golden ratio to set aesthetic figure height\n",
    "    golden_ratio = (5**0.5 - 1) / 2\n",
    "\n",
    "    # Figure width in inches\n",
    "    fig_width_in = fig_width_pt * inches_per_pt\n",
    "    # Figure height in inches\n",
    "    fig_height_in = fig_height_in = fig_width_in * golden_ratio * (subplots[0] / subplots[1])\n",
    "\n",
    "    fig_dim = (fig_width_in, fig_height_in)\n",
    "\n",
    "    return fig_dim"
   ]
  },
  {
   "cell_type": "code",
   "execution_count": 3,
   "metadata": {},
   "outputs": [],
   "source": [
    "all_kmc_means = []\n",
    "all_mf_means = []\n",
    "all_mf2_means = []\n",
    "all_mf2_vars = []\n",
    "\n",
    "all_kmc_currents = []\n",
    "all_mf_currents = []\n",
    "all_mf2_currents = []\n",
    "\n",
    "all_kmc_steps = []"
   ]
  },
  {
   "cell_type": "code",
   "execution_count": 4,
   "metadata": {},
   "outputs": [],
   "source": [
    "MAEs = []\n",
    "\n",
    "rel_errs = []\n",
    "u_rel_errs = []\n",
    "\n",
    "MAEs_2 = []\n",
    "\n",
    "rel_errs_2 = []\n",
    "u_rel_errs_2 = []"
   ]
  },
  {
   "cell_type": "code",
   "execution_count": 5,
   "metadata": {},
   "outputs": [],
   "source": [
    "net_sizes = np.arange(2, 11)"
   ]
  },
  {
   "cell_type": "code",
   "execution_count": 6,
   "metadata": {},
   "outputs": [],
   "source": [
    "KMC_acc = 0.005"
   ]
  },
  {
   "cell_type": "code",
   "execution_count": 7,
   "metadata": {},
   "outputs": [],
   "source": [
    "for size_index in range(0, 9):\n",
    "    N = net_sizes[size_index]\n",
    "    size_str = str(N) + \"x\" + str(N) + \".csv\"\n",
    "\n",
    "    ## Load MF data\n",
    "    mf_means = np.loadtxt(\"../../data/large_sys/mf/mf_states\" + size_str)\n",
    "    mf_convergence = np.loadtxt(\"../../data/large_sys/mf/mf_convergence\" + size_str)\n",
    "    mf_currents = np.loadtxt(\"../../data/large_sys/mf/mf_currents\" + size_str)\n",
    "\n",
    "    ## Load MF2 data\n",
    "    mf2_means = np.loadtxt(\"../../data/large_sys/mf2/entropy_means\" + size_str)\n",
    "    mf2_currents = np.loadtxt(\"../../data/large_sys/mf2/entropy_currents\" + size_str)\n",
    "    mf2_vars = np.loadtxt(\"../../data/large_sys/mf2/entropy_vars\"+ size_str)\n",
    "\n",
    "    ## Load KMC data\n",
    "    kmc_means = np.loadtxt(\"../../data/large_sys/kmc_combined/kmc_states\" + size_str)\n",
    "    kmc_steps = np.loadtxt(\"../../data/large_sys/kmc/kmc_steps\" + size_str)\n",
    "    kmc_currents = np.loadtxt(\"../../data/large_sys/kmc_combined/kmc_currents\" + size_str)\n",
    "    kmc_errs = np.loadtxt(\"../../data/large_sys/kmc/kmc_errs\" + size_str)\n",
    "\n",
    "\n",
    "    ## means for images\n",
    "    all_kmc_means.append(kmc_means)\n",
    "    all_mf_means.append(mf_means)\n",
    "    all_mf2_means.append(mf2_means)\n",
    "    all_kmc_steps.append(kmc_steps)\n",
    "\n",
    "    ## variances\n",
    "    all_mf2_vars.append(mf2_vars)\n",
    "\n",
    "    ## currents\n",
    "    all_kmc_currents.append(kmc_currents)\n",
    "    all_mf_currents.append(mf_currents)\n",
    "    all_mf2_currents.append(mf2_currents)\n",
    "\n",
    "    ## accuracies\n",
    "    MAE = np.abs(mf_means - kmc_means)\n",
    "\n",
    "    MAE2 = np.abs(mf2_means - kmc_means)\n",
    "\n",
    "    rel_err = np.abs((mf_currents - kmc_currents)/kmc_currents)\n",
    "    u_rel_err = np.abs(mf_currents / kmc_currents) * KMC_acc\n",
    "\n",
    "    rel_err2 = np.abs((mf2_currents - kmc_currents)/kmc_currents)\n",
    "    u_rel_err2 = np.abs(mf2_currents / kmc_currents) * KMC_acc\n",
    "\n",
    "    \n",
    "    cond1 = np.abs(kmc_currents) > 0.01\n",
    "    cond2 = rel_err < 0.6\n",
    "    cond3 = rel_err2 < 0.6\n",
    "    cond4 = np.abs(kmc_currents) < 20\n",
    "    cond = np.logical_and(np.logical_and(np.logical_and(cond1, cond2), cond3), cond4)\n",
    "    valid = np.where(cond)[0]\n",
    "\n",
    "    MAEs.append(MAE[valid].flatten())       # flatten out island dimension\n",
    "\n",
    "    rel_errs.append(rel_err[valid])\n",
    "    u_rel_errs.append(u_rel_err[valid])\n",
    "\n",
    "    MAEs_2.append(MAE2[valid].flatten())\n",
    "\n",
    "    rel_errs_2.append(rel_err2[valid])\n",
    "    u_rel_errs_2.append(u_rel_err2[valid])\n"
   ]
  },
  {
   "cell_type": "code",
   "execution_count": 8,
   "metadata": {},
   "outputs": [],
   "source": [
    "mf_MAEs = [np.mean(maes) for maes in MAEs]\n",
    "qmf2_MAEs = [np.mean(maes) for maes in MAEs_2]"
   ]
  },
  {
   "cell_type": "code",
   "execution_count": 9,
   "metadata": {},
   "outputs": [],
   "source": [
    "mf_errs = [np.mean(rel_err) for rel_err in rel_errs]\n",
    "u_mf_errs = [1/len(rel_errs[i])*np.sqrt(np.sum(u_rel_errs[i]**2)) for i in range(len(rel_errs))]\n",
    "\n",
    "qmf2_errs = [np.mean(rel_err) for rel_err in rel_errs_2]\n",
    "u_qmf2_errs = [1/len(rel_errs_2[i])*np.sqrt(np.sum(u_rel_errs_2[i]**2)) for i in range(len(rel_errs_2))]"
   ]
  },
  {
   "cell_type": "code",
   "execution_count": 10,
   "metadata": {},
   "outputs": [
    {
     "name": "stdout",
     "output_type": "stream",
     "text": [
      "0.10475690852489537\n",
      "0.00016334612213288392\n"
     ]
    }
   ],
   "source": [
    "print(np.mean(mf_errs))\n",
    "print(1/len(u_mf_errs)*np.sqrt(np.sum(np.array(u_mf_errs)**2)))"
   ]
  },
  {
   "cell_type": "code",
   "execution_count": 11,
   "metadata": {},
   "outputs": [
    {
     "name": "stdout",
     "output_type": "stream",
     "text": [
      "0.03525351001306554\n",
      "0.00017983388382027113\n"
     ]
    }
   ],
   "source": [
    "print(np.mean(qmf2_errs))\n",
    "print(1/len(u_qmf2_errs)*np.sqrt(np.sum(np.array(u_qmf2_errs)**2)))"
   ]
  },
  {
   "cell_type": "code",
   "execution_count": 12,
   "metadata": {},
   "outputs": [
    {
     "data": {
      "text/plain": [
       "0.060519772297840696"
      ]
     },
     "execution_count": 12,
     "metadata": {},
     "output_type": "execute_result"
    }
   ],
   "source": [
    "np.mean(mf_MAEs)"
   ]
  },
  {
   "cell_type": "code",
   "execution_count": 13,
   "metadata": {},
   "outputs": [
    {
     "data": {
      "text/plain": [
       "0.041323159017188714"
      ]
     },
     "execution_count": 13,
     "metadata": {},
     "output_type": "execute_result"
    }
   ],
   "source": [
    "np.mean(qmf2_MAEs)"
   ]
  },
  {
   "cell_type": "code",
   "execution_count": 14,
   "metadata": {},
   "outputs": [
    {
     "name": "stdout",
     "output_type": "stream",
     "text": [
      "N = 10 MF1 RE = 6.728061690285786 0.04920086905077374 QMF2 RE = 2.8937744883148433 0.05088145636728235\n",
      "N = 10 MF1 RE = 7.819941328284333 0.050297635469913185 QMF2 RE = 2.290385046443447 0.05336626212440825\n",
      "N = 10 MF1 RE = 9.201581507629713 0.04858201264946773 QMF2 RE = 2.5071857678694833 0.05186914461683002\n",
      "N = 10 MF1 RE = 10.533357277824962 0.048130969764513 QMF2 RE = 3.0197132052984443 0.05250463476397448\n",
      "N = 10 MF1 RE = 11.660817105882005 0.04927271555704943 QMF2 RE = 3.440544116175622 0.05486072743950976\n",
      "N = 10 MF1 RE = 12.041219975103475 0.047743461643035535 QMF2 RE = 3.290454661114392 0.0535753723115634\n",
      "N = 10 MF1 RE = 12.38871945390653 0.050012540748984334 QMF2 RE = 4.1364830541736675 0.057170699255548935\n",
      "N = 10 MF1 RE = 12.39801167111006 0.04960298166259802 QMF2 RE = 4.623996635739365 0.05635579220441584\n",
      "N = 10 MF1 RE = 11.509507662378967 0.048125414762507986 QMF2 RE = 5.52562203662972 0.05465412520174323\n"
     ]
    }
   ],
   "source": [
    "for i in range(0, 9):\n",
    "    N = net_sizes[size_index]\n",
    "\n",
    "    print(\"N =\", N, \"MF1 RE =\", mf_errs[i]*100, u_mf_errs[i]*100, \"QMF2 RE =\", qmf2_errs[i]*100, u_qmf2_errs[i]*100)"
   ]
  },
  {
   "cell_type": "code",
   "execution_count": 15,
   "metadata": {},
   "outputs": [
    {
     "name": "stdout",
     "output_type": "stream",
     "text": [
      "N = 4 MF1 MAE = 5.4050993271435255 QMF2 MAE = 5.540001040143707\n",
      "N = 9 MF1 MAE = 4.308940738784981 QMF2 MAE = 2.930962487348263\n",
      "N = 16 MF1 MAE = 5.119269978554296 QMF2 MAE = 2.9629802745555716\n",
      "N = 25 MF1 MAE = 5.050756294439037 QMF2 MAE = 2.5390840947923565\n",
      "N = 36 MF1 MAE = 5.745376879967994 QMF2 MAE = 3.1446357514816308\n",
      "N = 49 MF1 MAE = 6.330080944993634 QMF2 MAE = 3.9192615950792193\n",
      "N = 64 MF1 MAE = 7.0526682218515155 QMF2 MAE = 4.575720539994362\n",
      "N = 81 MF1 MAE = 7.549678455592035 QMF2 MAE = 5.564186151285747\n",
      "N = 100 MF1 MAE = 7.905924226729607 QMF2 MAE = 6.01401118078898\n"
     ]
    }
   ],
   "source": [
    "for i in range(0, 9):\n",
    "    N = net_sizes[i]\n",
    "\n",
    "    print(\"N =\", N**2, \"MF1 MAE =\", mf_MAEs[i]*100, \"QMF2 MAE =\", qmf2_MAEs[i]*100)"
   ]
  },
  {
   "attachments": {},
   "cell_type": "markdown",
   "metadata": {},
   "source": [
    "### Accuracy wrt. KMC"
   ]
  },
  {
   "cell_type": "code",
   "execution_count": 16,
   "metadata": {},
   "outputs": [
    {
     "data": {
      "image/png": "[encoded data removed]",
      "text/plain": [
       "<Figure size 413.386x255.486 with 1 Axes>"
      ]
     },
     "metadata": {},
     "output_type": "display_data"
    }
   ],
   "source": [
    "plt.figure(figsize=set_size(fraction=0.7))\n",
    "plt.errorbar(net_sizes**2, np.array(mf_errs)*100, yerr = 0.5, label = \"MF1\", linestyle = \"dotted\")\n",
    "plt.errorbar(net_sizes**2, np.array(qmf2_errs)*100,yerr = 0.5, label = \"QMF2\", linestyle = \"dotted\")\n",
    "plt.ylabel(\"RE of output currents [%]\")\n",
    "plt.xlabel(\"System Size $N$\")\n",
    "\n",
    "plt.ylim(0,15)\n",
    "plt.title(\"Comparison to KMC Data\")\n",
    "plt.legend()\n",
    "plt.tight_layout(pad = 1)\n",
    "plt.savefig(\"../../output/large_sys/accuracy_current.pdf\")"
   ]
  },
  {
   "cell_type": "code",
   "execution_count": 17,
   "metadata": {},
   "outputs": [
    {
     "ename": "ValueError",
     "evalue": "setting an array element with a sequence. The requested array has an inhomogeneous shape after 1 dimensions. The detected shape was (9,) + inhomogeneous part.",
     "output_type": "error",
     "traceback": [
      "\u001b[0;31m---------------------------------------------------------------------------\u001b[0m",
      "\u001b[0;31mValueError\u001b[0m                                Traceback (most recent call last)",
      "Cell \u001b[0;32mIn[17], line 2\u001b[0m\n\u001b[1;32m      1\u001b[0m plt\u001b[39m.\u001b[39mfigure(figsize\u001b[39m=\u001b[39mset_size(fraction\u001b[39m=\u001b[39m\u001b[39m0.7\u001b[39m))\n\u001b[0;32m----> 2\u001b[0m plt\u001b[39m.\u001b[39;49mplot(net_sizes\u001b[39m*\u001b[39;49m\u001b[39m*\u001b[39;49m\u001b[39m2\u001b[39;49m, MAEs, marker \u001b[39m=\u001b[39;49m \u001b[39m\"\u001b[39;49m\u001b[39mo\u001b[39;49m\u001b[39m\"\u001b[39;49m, label \u001b[39m=\u001b[39;49m \u001b[39m\"\u001b[39;49m\u001b[39mMF1\u001b[39;49m\u001b[39m\"\u001b[39;49m)\n\u001b[1;32m      3\u001b[0m plt\u001b[39m.\u001b[39mplot(net_sizes\u001b[39m*\u001b[39m\u001b[39m*\u001b[39m\u001b[39m2\u001b[39m, MAEs_2, marker \u001b[39m=\u001b[39m \u001b[39m\"\u001b[39m\u001b[39mo\u001b[39m\u001b[39m\"\u001b[39m, label \u001b[39m=\u001b[39m \u001b[39m\"\u001b[39m\u001b[39mQMF2\u001b[39m\u001b[39m\"\u001b[39m)\n\u001b[1;32m      4\u001b[0m plt\u001b[39m.\u001b[39mxlabel(\u001b[39m\"\u001b[39m\u001b[39mSystem Size $N$\u001b[39m\u001b[39m\"\u001b[39m)\n",
      "File \u001b[0;32m~/NanoNetsMF/.venv/lib/python3.8/site-packages/matplotlib/pyplot.py:2785\u001b[0m, in \u001b[0;36mplot\u001b[0;34m(scalex, scaley, data, *args, **kwargs)\u001b[0m\n\u001b[1;32m   2783\u001b[0m \u001b[39m@_copy_docstring_and_deprecators\u001b[39m(Axes\u001b[39m.\u001b[39mplot)\n\u001b[1;32m   2784\u001b[0m \u001b[39mdef\u001b[39;00m \u001b[39mplot\u001b[39m(\u001b[39m*\u001b[39margs, scalex\u001b[39m=\u001b[39m\u001b[39mTrue\u001b[39;00m, scaley\u001b[39m=\u001b[39m\u001b[39mTrue\u001b[39;00m, data\u001b[39m=\u001b[39m\u001b[39mNone\u001b[39;00m, \u001b[39m*\u001b[39m\u001b[39m*\u001b[39mkwargs):\n\u001b[0;32m-> 2785\u001b[0m     \u001b[39mreturn\u001b[39;00m gca()\u001b[39m.\u001b[39;49mplot(\n\u001b[1;32m   2786\u001b[0m         \u001b[39m*\u001b[39;49margs, scalex\u001b[39m=\u001b[39;49mscalex, scaley\u001b[39m=\u001b[39;49mscaley,\n\u001b[1;32m   2787\u001b[0m         \u001b[39m*\u001b[39;49m\u001b[39m*\u001b[39;49m({\u001b[39m\"\u001b[39;49m\u001b[39mdata\u001b[39;49m\u001b[39m\"\u001b[39;49m: data} \u001b[39mif\u001b[39;49;00m data \u001b[39mis\u001b[39;49;00m \u001b[39mnot\u001b[39;49;00m \u001b[39mNone\u001b[39;49;00m \u001b[39melse\u001b[39;49;00m {}), \u001b[39m*\u001b[39;49m\u001b[39m*\u001b[39;49mkwargs)\n",
      "File \u001b[0;32m~/NanoNetsMF/.venv/lib/python3.8/site-packages/matplotlib/axes/_axes.py:1688\u001b[0m, in \u001b[0;36mAxes.plot\u001b[0;34m(self, scalex, scaley, data, *args, **kwargs)\u001b[0m\n\u001b[1;32m   1445\u001b[0m \u001b[39m\u001b[39m\u001b[39m\"\"\"\u001b[39;00m\n\u001b[1;32m   1446\u001b[0m \u001b[39mPlot y versus x as lines and/or markers.\u001b[39;00m\n\u001b[1;32m   1447\u001b[0m \n\u001b[0;32m   (...)\u001b[0m\n\u001b[1;32m   1685\u001b[0m \u001b[39m(``'green'``) or hex strings (``'#008000'``).\u001b[39;00m\n\u001b[1;32m   1686\u001b[0m \u001b[39m\"\"\"\u001b[39;00m\n\u001b[1;32m   1687\u001b[0m kwargs \u001b[39m=\u001b[39m cbook\u001b[39m.\u001b[39mnormalize_kwargs(kwargs, mlines\u001b[39m.\u001b[39mLine2D)\n\u001b[0;32m-> 1688\u001b[0m lines \u001b[39m=\u001b[39m [\u001b[39m*\u001b[39m\u001b[39mself\u001b[39m\u001b[39m.\u001b[39m_get_lines(\u001b[39m*\u001b[39margs, data\u001b[39m=\u001b[39mdata, \u001b[39m*\u001b[39m\u001b[39m*\u001b[39mkwargs)]\n\u001b[1;32m   1689\u001b[0m \u001b[39mfor\u001b[39;00m line \u001b[39min\u001b[39;00m lines:\n\u001b[1;32m   1690\u001b[0m     \u001b[39mself\u001b[39m\u001b[39m.\u001b[39madd_line(line)\n",
      "File \u001b[0;32m~/NanoNetsMF/.venv/lib/python3.8/site-packages/matplotlib/axes/_base.py:311\u001b[0m, in \u001b[0;36m_process_plot_var_args.__call__\u001b[0;34m(self, data, *args, **kwargs)\u001b[0m\n\u001b[1;32m    309\u001b[0m     this \u001b[39m+\u001b[39m\u001b[39m=\u001b[39m args[\u001b[39m0\u001b[39m],\n\u001b[1;32m    310\u001b[0m     args \u001b[39m=\u001b[39m args[\u001b[39m1\u001b[39m:]\n\u001b[0;32m--> 311\u001b[0m \u001b[39myield from\u001b[39;00m \u001b[39mself\u001b[39;49m\u001b[39m.\u001b[39;49m_plot_args(\n\u001b[1;32m    312\u001b[0m     this, kwargs, ambiguous_fmt_datakey\u001b[39m=\u001b[39;49mambiguous_fmt_datakey)\n",
      "File \u001b[0;32m~/NanoNetsMF/.venv/lib/python3.8/site-packages/matplotlib/axes/_base.py:494\u001b[0m, in \u001b[0;36m_process_plot_var_args._plot_args\u001b[0;34m(self, tup, kwargs, return_kwargs, ambiguous_fmt_datakey)\u001b[0m\n\u001b[1;32m    492\u001b[0m \u001b[39mif\u001b[39;00m \u001b[39mlen\u001b[39m(xy) \u001b[39m==\u001b[39m \u001b[39m2\u001b[39m:\n\u001b[1;32m    493\u001b[0m     x \u001b[39m=\u001b[39m _check_1d(xy[\u001b[39m0\u001b[39m])\n\u001b[0;32m--> 494\u001b[0m     y \u001b[39m=\u001b[39m _check_1d(xy[\u001b[39m1\u001b[39;49m])\n\u001b[1;32m    495\u001b[0m \u001b[39melse\u001b[39;00m:\n\u001b[1;32m    496\u001b[0m     x, y \u001b[39m=\u001b[39m index_of(xy[\u001b[39m-\u001b[39m\u001b[39m1\u001b[39m])\n",
      "File \u001b[0;32m~/NanoNetsMF/.venv/lib/python3.8/site-packages/matplotlib/cbook/__init__.py:1348\u001b[0m, in \u001b[0;36m_check_1d\u001b[0;34m(x)\u001b[0m\n\u001b[1;32m   1342\u001b[0m \u001b[39m# plot requires `shape` and `ndim`.  If passed an\u001b[39;00m\n\u001b[1;32m   1343\u001b[0m \u001b[39m# object that doesn't provide them, then force to numpy array.\u001b[39;00m\n\u001b[1;32m   1344\u001b[0m \u001b[39m# Note this will strip unit information.\u001b[39;00m\n\u001b[1;32m   1345\u001b[0m \u001b[39mif\u001b[39;00m (\u001b[39mnot\u001b[39;00m \u001b[39mhasattr\u001b[39m(x, \u001b[39m'\u001b[39m\u001b[39mshape\u001b[39m\u001b[39m'\u001b[39m) \u001b[39mor\u001b[39;00m\n\u001b[1;32m   1346\u001b[0m         \u001b[39mnot\u001b[39;00m \u001b[39mhasattr\u001b[39m(x, \u001b[39m'\u001b[39m\u001b[39mndim\u001b[39m\u001b[39m'\u001b[39m) \u001b[39mor\u001b[39;00m\n\u001b[1;32m   1347\u001b[0m         \u001b[39mlen\u001b[39m(x\u001b[39m.\u001b[39mshape) \u001b[39m<\u001b[39m \u001b[39m1\u001b[39m):\n\u001b[0;32m-> 1348\u001b[0m     \u001b[39mreturn\u001b[39;00m np\u001b[39m.\u001b[39;49matleast_1d(x)\n\u001b[1;32m   1349\u001b[0m \u001b[39melse\u001b[39;00m:\n\u001b[1;32m   1350\u001b[0m     \u001b[39mreturn\u001b[39;00m x\n",
      "File \u001b[0;32m<__array_function__ internals>:200\u001b[0m, in \u001b[0;36matleast_1d\u001b[0;34m(*args, **kwargs)\u001b[0m\n",
      "File \u001b[0;32m~/NanoNetsMF/.venv/lib/python3.8/site-packages/numpy/core/shape_base.py:65\u001b[0m, in \u001b[0;36matleast_1d\u001b[0;34m(*arys)\u001b[0m\n\u001b[1;32m     63\u001b[0m res \u001b[39m=\u001b[39m []\n\u001b[1;32m     64\u001b[0m \u001b[39mfor\u001b[39;00m ary \u001b[39min\u001b[39;00m arys:\n\u001b[0;32m---> 65\u001b[0m     ary \u001b[39m=\u001b[39m asanyarray(ary)\n\u001b[1;32m     66\u001b[0m     \u001b[39mif\u001b[39;00m ary\u001b[39m.\u001b[39mndim \u001b[39m==\u001b[39m \u001b[39m0\u001b[39m:\n\u001b[1;32m     67\u001b[0m         result \u001b[39m=\u001b[39m ary\u001b[39m.\u001b[39mreshape(\u001b[39m1\u001b[39m)\n",
      "\u001b[0;31mValueError\u001b[0m: setting an array element with a sequence. The requested array has an inhomogeneous shape after 1 dimensions. The detected shape was (9,) + inhomogeneous part."
     ]
    },
    {
     "data": {
      "image/png": "[encoded data removed]",
      "text/plain": [
       "<Figure size 413.386x255.486 with 1 Axes>"
      ]
     },
     "metadata": {},
     "output_type": "display_data"
    }
   ],
   "source": [
    "plt.figure(figsize=set_size(fraction=0.7))\n",
    "plt.plot(net_sizes**2, MAEs, marker = \"o\", label = \"MF1\")\n",
    "plt.plot(net_sizes**2, MAEs_2, marker = \"o\", label = \"QMF2\")\n",
    "plt.xlabel(\"System Size $N$\")\n",
    "plt.ylabel(\"MAE of $\\\\langle n \\\\rangle$\")\n",
    "\n",
    "plt.ylim(0,0.1)\n",
    "plt.title(\"Comparison to KMC Data\")\n",
    "plt.legend()\n",
    "plt.tight_layout(pad = 1)\n",
    "plt.savefig(\"../../output/large_sys/accuracy_mean.pdf\")"
   ]
  },
  {
   "attachments": {},
   "cell_type": "markdown",
   "metadata": {},
   "source": [
    "### Visual Mean Comparison"
   ]
  },
  {
   "cell_type": "code",
   "execution_count": 18,
   "metadata": {},
   "outputs": [],
   "source": [
    "size_index = 8\n",
    "size = net_sizes[size_index]"
   ]
  },
  {
   "cell_type": "code",
   "execution_count": 79,
   "metadata": {},
   "outputs": [],
   "source": [
    "i = np.random.randint(0, 100)\n",
    "i = 20\n",
    "\n",
    "kmc_im = all_kmc_means[size_index][i].reshape(size, size)\n",
    "mf_im = all_mf_means[size_index][i].reshape(size, size)\n",
    "mf2_im = all_mf2_means[size_index][i].reshape(size, size)\n",
    "large_im = np.concatenate((kmc_im, mf_im, mf2_im), axis = 1)"
   ]
  },
  {
   "cell_type": "code",
   "execution_count": 80,
   "metadata": {},
   "outputs": [
    {
     "name": "stdout",
     "output_type": "stream",
     "text": [
      "[-0.10144854 -0.08662581 -0.11540644  0.17801101  0.04419941]\n"
     ]
    }
   ],
   "source": [
    "v = np.loadtxt(\"../../data/large_sys/voltage_configs.csv\")\n",
    "print(v[i])"
   ]
  },
  {
   "cell_type": "code",
   "execution_count": 81,
   "metadata": {},
   "outputs": [
    {
     "data": {
      "image/png": "[encoded data removed]",
      "text/plain": [
       "<Figure size 472.441x291.985 with 2 Axes>"
      ]
     },
     "metadata": {},
     "output_type": "display_data"
    }
   ],
   "source": [
    "plt.figure(figsize=set_size(fraction = 0.8))\n",
    "plt.imshow(large_im, cmap = \"magma\")\n",
    "plt.yticks(np.arange(size), np.arange(size, 0, - 1))\n",
    "plt.xticks(np.arange(size * 3), np.arange(size * 3) % size + 1 )\n",
    "plt.axvline(size-0.5, color = \"black\", linewidth = 3)\n",
    "plt.axvline(2*size-0.5, color = \"black\", linewidth = 3)\n",
    "plt.grid()\n",
    "plt.title(\"$\\\\langle n \\\\rangle$ of \"+str(size)+\"x\"+str(size)+\" system\")\n",
    "cbar = plt.colorbar(orientation = \"horizontal\")\n",
    "# cbar.ax.get_xaxis().labelpad = 15\n",
    "# cbar.ax.set_xlabel('$\\\\langle n \\\\rangle$', rotation = 00)\n",
    "plt.tight_layout()\n",
    "plt.savefig(\"../../output/large_sys/visual_states\"+str(size)+\"x\"+str(size)+\".pdf\")"
   ]
  },
  {
   "attachments": {},
   "cell_type": "markdown",
   "metadata": {},
   "source": [
    "---"
   ]
  },
  {
   "cell_type": "code",
   "execution_count": 38,
   "metadata": {},
   "outputs": [
    {
     "data": {
      "image/png": "[encoded data removed]",
      "text/plain": [
       "<Figure size 590.551x364.981 with 1 Axes>"
      ]
     },
     "metadata": {},
     "output_type": "display_data"
    }
   ],
   "source": [
    "plt.figure(figsize=set_size())\n",
    "\n",
    "plt.scatter(all_kmc_currents[-1], np.abs((all_kmc_currents[-1] - all_mf_currents[-1])/all_kmc_currents[-1]), marker = \"+\", label = \"MF1\")\n",
    "plt.scatter(all_kmc_currents[-1], np.abs((all_kmc_currents[-1] - all_mf2_currents[-1])/all_kmc_currents[-1]), marker = \"+\", label = \"QMF2\")\n",
    "\n",
    "plt.xlabel(\"KMC current [nA]\")\n",
    "plt.ylabel(\"Relative Error RE\")\n",
    "plt.yscale(\"log\")\n",
    "plt.xscale(\"log\")\n",
    "plt.title(\"Relative Errors for small Currents\")\n",
    "plt.legend()\n",
    "plt.tight_layout()\n",
    "plt.savefig(\"../../output/large_sys/small_current_errors.pdf\")"
   ]
  }
 ],
 "metadata": {
  "kernelspec": {
   "display_name": ".venv",
   "language": "python",
   "name": "python3"
  },
  "language_info": {
   "codemirror_mode": {
    "name": "ipython",
    "version": 3
   },
   "file_extension": ".py",
   "mimetype": "text/x-python",
   "name": "python",
   "nbconvert_exporter": "python",
   "pygments_lexer": "ipython3",
   "version": "3.8.10"
  },
  "orig_nbformat": 4
 },
 "nbformat": 4,
 "nbformat_minor": 2
}

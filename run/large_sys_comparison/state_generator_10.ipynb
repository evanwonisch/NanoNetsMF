{
 "cells": [
  {
   "cell_type": "code",
   "execution_count": 1,
   "metadata": {},
   "outputs": [],
   "source": [
    "import sys\n",
    "sys.path.insert(0, \"../../\")\n",
    "from IPython.display import clear_output\n",
    "\n",
    "import numpy as np\n",
    "from matplotlib import pyplot as plt\n",
    "\n",
    "from module.base.network import Network\n",
    "\n",
    "from module.simulation.meanfield import MeanField\n",
    "from module.simulation.quick_meanfield2 import QuickMeanField2\n",
    "from module.simulation.meanfield2 import MeanField2\n",
    "from module.simulation.set_meanfield2 import SetMeanField2\n",
    "\n",
    "import module.components.CONST as CONST\n",
    "from module.components.lawrence_dist import LawrenceDist\n",
    "\n",
    "from module.components.Adam import Adam"
   ]
  },
  {
   "cell_type": "code",
   "execution_count": 2,
   "metadata": {},
   "outputs": [],
   "source": [
    "## Comparison of states and currents for larger systems\n",
    "size = 10\n",
    "net = Network(size, size, 1, [[0,0,0], [size - 1, 0, 0],[0, size - 1, 0],[size - 1, size - 1, 0]])\n",
    "mf = QuickMeanField2(net)\n",
    "voltage_configs = np.loadtxt(\"../../data/large_sys/voltage_configs.csv\")"
   ]
  },
  {
   "cell_type": "code",
   "execution_count": 3,
   "metadata": {},
   "outputs": [],
   "source": [
    "size_str = str(size)+\"x\"+str(size)+\".csv\""
   ]
  },
  {
   "cell_type": "code",
   "execution_count": 4,
   "metadata": {},
   "outputs": [],
   "source": [
    "means_array = np.loadtxt(\"../../data/large_sys/mf2/entropy_means\"+size_str)\n",
    "vars_array = np.loadtxt(\"../../data/large_sys/mf2/entropy_vars\"+size_str)\n",
    "current_array = np.loadtxt(\"../../data/large_sys/mf2/entropy_currents\"+size_str)\n",
    "\n",
    "conv_means_array = np.zeros(100)\n",
    "conv_vars_array = np.zeros(100)"
   ]
  },
  {
   "attachments": {},
   "cell_type": "markdown",
   "metadata": {},
   "source": [
    "---\n",
    "## LOOP"
   ]
  },
  {
   "cell_type": "code",
   "execution_count": 5,
   "metadata": {},
   "outputs": [
    {
     "name": "stdout",
     "output_type": "stream",
     "text": [
      "doing i = 99\n",
      "ADAM convergence: (0.20803805206928372, 0.28491209516650057)\n",
      "ADAM convergence: (0.1483853081402131, 0.20859333092707616)\n",
      "ADAM convergence: (0.06820564466050676, 0.10632832289665681)\n",
      "ADAM convergence: (0.037350119029811356, 0.0616427023676039)\n",
      "ADAM convergence: (0.02625787219044514, 0.0984869475223233)\n",
      "ADAM convergence: (0.014680134307808027, 0.04324966548887373)\n",
      "ADAM convergence: (0.006616595917476568, 0.024756408790089876)\n",
      "ADAM convergence: (0.010077831041506728, 0.040349105381731185)\n",
      "ADAM convergence: (0.01054129098373368, 0.05160011160298472)\n",
      "ADAM convergence: (0.017975300949683515, 0.06977270376250994)\n"
     ]
    }
   ],
   "source": [
    "for i in range(60, 100):\n",
    "    clear_output()\n",
    "    print(\"doing i =\", i)\n",
    "    voltages = voltage_configs[i]\n",
    "    net.set_voltage_config([voltages[0], voltages[1], voltages[2], voltages[3]], voltages[4])\n",
    "    mf.ADAM_solve(N = 0, reset = True)\n",
    "    mf.means = means_array[i]\n",
    "    mf.vars = vars_array[i]\n",
    "    for j in range(10):\n",
    "        mf.ADAM_solve(N = 60, learning_rate = 0.05, reset = False, verbose = True)\n",
    "    conv_mean, conv_var = mf.ADAM_convergence_metric()\n",
    "    means_array[i] = mf.means\n",
    "    vars_array[i] = mf.vars\n",
    "    conv_means_array[i] = conv_mean\n",
    "    conv_vars_array[i] = conv_var\n",
    "    current_array[i] = -mf.calc_expected_electrode_current(3)\n",
    "    np.savetxt(\"../../data/large_sys/mf2/entropy_means\"+size_str, means_array)\n",
    "    np.savetxt(\"../../data/large_sys/mf2/entropy_vars\"+size_str, vars_array)\n",
    "    np.savetxt(\"../../data/large_sys/mf2/entropy_conv_means\"+size_str, conv_means_array)\n",
    "    np.savetxt(\"../../data/large_sys/mf2/entropy_conv_vars\"+size_str, conv_vars_array)\n",
    "    np.savetxt(\"../../data/large_sys/mf2/entropy_currents\"+size_str, current_array)"
   ]
  },
  {
   "cell_type": "code",
   "execution_count": null,
   "metadata": {},
   "outputs": [],
   "source": [
    "60#weitermachen :)"
   ]
  }
 ],
 "metadata": {
  "kernelspec": {
   "display_name": ".venv",
   "language": "python",
   "name": "python3"
  },
  "language_info": {
   "codemirror_mode": {
    "name": "ipython",
    "version": 3
   },
   "file_extension": ".py",
   "mimetype": "text/x-python",
   "name": "python",
   "nbconvert_exporter": "python",
   "pygments_lexer": "ipython3",
   "version": "3.8.10"
  },
  "orig_nbformat": 4
 },
 "nbformat": 4,
 "nbformat_minor": 2
}

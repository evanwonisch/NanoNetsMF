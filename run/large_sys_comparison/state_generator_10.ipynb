{
 "cells": [
  {
   "cell_type": "code",
   "execution_count": 1,
   "metadata": {},
   "outputs": [],
   "source": [
    "import sys\n",
    "sys.path.insert(0, \"../../\")\n",
    "from IPython.display import clear_output\n",
    "\n",
    "import numpy as np\n",
    "from matplotlib import pyplot as plt\n",
    "\n",
    "from module.base.network import Network\n",
    "\n",
    "from module.simulation.meanfield import MeanField\n",
    "from module.simulation.quick_meanfield2 import QuickMeanField2\n",
    "from module.simulation.meanfield2 import MeanField2\n",
    "from module.simulation.set_meanfield2 import SetMeanField2\n",
    "\n",
    "import module.components.CONST as CONST\n",
    "from module.components.lawrence_dist import LawrenceDist\n",
    "\n",
    "from module.components.Adam import Adam"
   ]
  },
  {
   "cell_type": "code",
   "execution_count": 2,
   "metadata": {},
   "outputs": [],
   "source": [
    "## Comparison of states and currents for larger systems\n",
    "size = 10\n",
    "net = Network(size, size, 1, [[0,0,0], [size - 1, 0, 0],[0, size - 1, 0],[size - 1, size - 1, 0]])\n",
    "mf = QuickMeanField2(net)\n",
    "voltage_configs = np.loadtxt(\"../../data/large_sys/voltage_configs.csv\")"
   ]
  },
  {
   "cell_type": "code",
   "execution_count": 3,
   "metadata": {},
   "outputs": [],
   "source": [
    "size_str = str(size)+\"x\"+str(size)+\".csv\""
   ]
  },
  {
   "cell_type": "code",
   "execution_count": 4,
   "metadata": {},
   "outputs": [],
   "source": [
    "means_array = np.loadtxt(\"../../data/large_sys/mf2/entropy_means\"+size_str)\n",
    "vars_array = np.loadtxt(\"../../data/large_sys/mf2/entropy_vars\"+size_str)\n",
    "current_array = np.loadtxt(\"../../data/large_sys/mf2/entropy_currents\"+size_str)\n",
    "\n",
    "conv_means_array = np.zeros(100)\n",
    "conv_vars_array = np.zeros(100)"
   ]
  },
  {
   "attachments": {},
   "cell_type": "markdown",
   "metadata": {},
   "source": [
    "---\n",
    "## LOOP"
   ]
  },
  {
   "cell_type": "code",
   "execution_count": 5,
   "metadata": {},
   "outputs": [
    {
     "name": "stdout",
     "output_type": "stream",
     "text": [
      "doing i = 99\n",
      "ADAM convergence: (0.004422750369430796, 0.014565156077351028)\n",
      "ADAM convergence: (0.011944340798010036, 0.05905827860014512)\n",
      "ADAM convergence: (0.0067808712476635, 0.030651012077584104)\n",
      "ADAM convergence: (0.009785876266245932, 0.03670469366240235)\n",
      "ADAM convergence: (0.007947845150647313, 0.038324120404883)\n",
      "ADAM convergence: (0.00854777108448468, 0.03662958380064953)\n",
      "ADAM convergence: (0.008010940100395329, 0.03861920099053179)\n",
      "ADAM convergence: (0.01491009820832003, 0.04412053435009872)\n",
      "ADAM convergence: (0.0080651754070788, 0.03892256337858271)\n",
      "ADAM convergence: (0.007700350732078692, 0.03722541383201053)\n"
     ]
    }
   ],
   "source": [
    "for i in range(0, 100):\n",
    "    clear_output()\n",
    "    print(\"doing i =\", i)\n",
    "    voltages = voltage_configs[i]\n",
    "    net.set_voltage_config([voltages[0], voltages[1], voltages[2], voltages[3]], voltages[4])\n",
    "    mf.ADAM_solve(N = 0, reset = True)\n",
    "    mf.means = means_array[i]\n",
    "    mf.vars = vars_array[i]\n",
    "    for j in range(10):\n",
    "        mf.ADAM_solve(N = 60, learning_rate = 0.05, reset = False, verbose = True)\n",
    "    conv_mean, conv_var = mf.ADAM_convergence_metric()\n",
    "    means_array[i] = mf.means\n",
    "    vars_array[i] = mf.vars\n",
    "    conv_means_array[i] = conv_mean\n",
    "    conv_vars_array[i] = conv_var\n",
    "    current_array[i] = -mf.calc_expected_electrode_current(3)\n",
    "    np.savetxt(\"../../data/large_sys/mf2/entropy_means\"+size_str, means_array)\n",
    "    np.savetxt(\"../../data/large_sys/mf2/entropy_vars\"+size_str, vars_array)\n",
    "    np.savetxt(\"../../data/large_sys/mf2/entropy_conv_means\"+size_str, conv_means_array)\n",
    "    np.savetxt(\"../../data/large_sys/mf2/entropy_conv_vars\"+size_str, conv_vars_array)\n",
    "    np.savetxt(\"../../data/large_sys/mf2/entropy_currents\"+size_str, current_array)"
   ]
  },
  {
   "cell_type": "code",
   "execution_count": null,
   "metadata": {},
   "outputs": [],
   "source": [
    "0#weitermachen :)"
   ]
  }
 ],
 "metadata": {
  "kernelspec": {
   "display_name": ".venv",
   "language": "python",
   "name": "python3"
  },
  "language_info": {
   "codemirror_mode": {
    "name": "ipython",
    "version": 3
   },
   "file_extension": ".py",
   "mimetype": "text/x-python",
   "name": "python",
   "nbconvert_exporter": "python",
   "pygments_lexer": "ipython3",
   "version": "3.8.10"
  },
  "orig_nbformat": 4
 },
 "nbformat": 4,
 "nbformat_minor": 2
}

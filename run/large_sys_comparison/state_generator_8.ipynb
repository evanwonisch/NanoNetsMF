{
 "cells": [
  {
   "cell_type": "code",
   "execution_count": 1,
   "metadata": {},
   "outputs": [],
   "source": [
    "import sys\n",
    "sys.path.insert(0, \"../../\")\n",
    "from IPython.display import clear_output\n",
    "\n",
    "import numpy as np\n",
    "from matplotlib import pyplot as plt\n",
    "\n",
    "from module.base.network import Network\n",
    "\n",
    "from module.simulation.meanfield import MeanField\n",
    "from module.simulation.quick_meanfield2 import QuickMeanField2\n",
    "from module.simulation.meanfield2 import MeanField2\n",
    "from module.simulation.set_meanfield2 import SetMeanField2\n",
    "\n",
    "import module.components.CONST as CONST\n",
    "from module.components.lawrence_dist import LawrenceDist\n",
    "\n",
    "from module.components.Adam import Adam"
   ]
  },
  {
   "cell_type": "code",
   "execution_count": 2,
   "metadata": {},
   "outputs": [],
   "source": [
    "## Comparison of states and currents for larger systems\n",
    "size = 8\n",
    "net = Network(size, size, 1, [[0,0,0], [size - 1, 0, 0],[0, size - 1, 0],[size - 1, size - 1, 0]])\n",
    "mf = QuickMeanField2(net)\n",
    "voltage_configs = np.loadtxt(\"../../data/large_sys/voltage_configs.csv\")"
   ]
  },
  {
   "cell_type": "code",
   "execution_count": 3,
   "metadata": {},
   "outputs": [],
   "source": [
    "size_str = str(size)+\"x\"+str(size)+\".csv\""
   ]
  },
  {
   "cell_type": "code",
   "execution_count": 4,
   "metadata": {},
   "outputs": [],
   "source": [
    "means_array = np.loadtxt(\"../../data/large_sys/mf2/entropy_means\"+size_str)\n",
    "vars_array = np.loadtxt(\"../../data/large_sys/mf2/entropy_vars\"+size_str)\n",
    "current_array = np.loadtxt(\"../../data/large_sys/mf/entropy_currents\"+size_str)\n",
    "\n",
    "conv_means_array = np.zeros(100)\n",
    "conv_vars_array = np.zeros(100)"
   ]
  },
  {
   "attachments": {},
   "cell_type": "markdown",
   "metadata": {},
   "source": [
    "---\n",
    "## LOOP"
   ]
  },
  {
   "cell_type": "code",
   "execution_count": 5,
   "metadata": {},
   "outputs": [
    {
     "name": "stdout",
     "output_type": "stream",
     "text": [
      "doing i = 99\n",
      "ADAM convergence: (0.005340724191807898, 0.02765974714145262)\n",
      "ADAM convergence: (0.004960797881596949, 0.021004087925361528)\n",
      "ADAM convergence: (0.014661371877199618, 0.0676742906933774)\n",
      "ADAM convergence: (0.010822452835987977, 0.05028655825424213)\n",
      "ADAM convergence: (0.0010519549880377236, 0.004072950866452936)\n",
      "ADAM convergence: (0.0004425015223643077, 0.002234297127010565)\n",
      "ADAM convergence: (0.000490701405646457, 0.002223624861966214)\n",
      "ADAM convergence: (0.0004814999618747099, 0.0022133158054897448)\n",
      "ADAM convergence: (0.00048113900508568556, 0.002215601130147224)\n",
      "ADAM convergence: (0.0004819743615002009, 0.0022191336591811314)\n"
     ]
    }
   ],
   "source": [
    "for i in range(0, 100):\n",
    "    clear_output()\n",
    "    print(\"doing i =\", i)\n",
    "    voltages = voltage_configs[i]\n",
    "    net.set_voltage_config([voltages[0], voltages[1], voltages[2], voltages[3]], voltages[4])\n",
    "    mf.ADAM_solve(N = 0, reset = True)\n",
    "    mf.means = means_array[i]\n",
    "    mf.vars = vars_array[i]\n",
    "    for j in range(10):\n",
    "        mf.ADAM_solve(N = 60, learning_rate = 0.05, reset = False, verbose = True)\n",
    "    conv_mean, conv_var = mf.ADAM_convergence_metric()\n",
    "    means_array[i] = mf.means\n",
    "    vars_array[i] = mf.vars\n",
    "    conv_means_array[i] = conv_mean\n",
    "    conv_vars_array[i] = conv_var\n",
    "    current_array[i] = -mf.calc_expected_electrode_current(3)\n",
    "    np.savetxt(\"../../data/large_sys/mf2/entropy_means\"+size_str, means_array)\n",
    "    np.savetxt(\"../../data/large_sys/mf2/entropy_vars\"+size_str, vars_array)\n",
    "    np.savetxt(\"../../data/large_sys/mf2/entropy_conv_means\"+size_str, conv_means_array)\n",
    "    np.savetxt(\"../../data/large_sys/mf2/entropy_conv_vars\"+size_str, conv_vars_array)\n",
    "    np.savetxt(\"../../data/large_sys/mf2/entropy_currents\"+size_str, current_array)"
   ]
  },
  {
   "cell_type": "code",
   "execution_count": null,
   "metadata": {},
   "outputs": [],
   "source": []
  }
 ],
 "metadata": {
  "kernelspec": {
   "display_name": ".venv",
   "language": "python",
   "name": "python3"
  },
  "language_info": {
   "codemirror_mode": {
    "name": "ipython",
    "version": 3
   },
   "file_extension": ".py",
   "mimetype": "text/x-python",
   "name": "python",
   "nbconvert_exporter": "python",
   "pygments_lexer": "ipython3",
   "version": "3.8.10"
  },
  "orig_nbformat": 4
 },
 "nbformat": 4,
 "nbformat_minor": 2
}

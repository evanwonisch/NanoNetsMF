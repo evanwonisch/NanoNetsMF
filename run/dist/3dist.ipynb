{
 "cells": [
  {
   "cell_type": "code",
   "execution_count": 222,
   "metadata": {},
   "outputs": [],
   "source": [
    "import numpy as np\n",
    "from matplotlib import pyplot as plt"
   ]
  },
  {
   "cell_type": "code",
   "execution_count": 338,
   "metadata": {},
   "outputs": [],
   "source": [
    "mean = 11.234567\n",
    "var = 0.8765432\n",
    "\n",
    "d = mean - np.floor(mean)"
   ]
  },
  {
   "cell_type": "code",
   "execution_count": 339,
   "metadata": {},
   "outputs": [],
   "source": [
    "phase_space = np.arange(np.floor(mean) - 1, np.floor(mean) + 3)\n",
    "probs = np.zeros(phase_space.shape)"
   ]
  },
  {
   "cell_type": "code",
   "execution_count": 340,
   "metadata": {},
   "outputs": [],
   "source": [
    "alpha = 0.5 * (var - d * (1 - d))\n",
    "alpha = np.clip(alpha, 0, 1)"
   ]
  },
  {
   "cell_type": "code",
   "execution_count": 342,
   "metadata": {},
   "outputs": [],
   "source": [
    "probs[0] = alpha * (2 - d) / 3\n",
    "probs[1] = (1 - alpha) * (1 - d)\n",
    "probs[2] = (1- alpha) * d\n",
    "probs[3] = alpha * (1 -  (2 - d) / 3)"
   ]
  },
  {
   "cell_type": "code",
   "execution_count": 343,
   "metadata": {},
   "outputs": [
    {
     "name": "stdout",
     "output_type": "stream",
     "text": [
      "[0.20508384 0.49868041 0.15282065 0.1434151 ]\n",
      "1.0\n",
      "11.234567000000002\n",
      "0.876543199999972\n"
     ]
    }
   ],
   "source": [
    "print(probs)\n",
    "print(np.sum(probs))\n",
    "print(np.sum(probs * phase_space))\n",
    "print(np.sum(probs * phase_space**2) - np.sum(probs * phase_space)**2)"
   ]
  },
  {
   "cell_type": "code",
   "execution_count": 344,
   "metadata": {},
   "outputs": [
    {
     "data": {
      "text/plain": [
       "<BarContainer object of 4 artists>"
      ]
     },
     "execution_count": 344,
     "metadata": {},
     "output_type": "execute_result"
    },
    {
     "data": {
      "image/png": "[encoded data removed]",
      "text/plain": [
       "<Figure size 640x480 with 1 Axes>"
      ]
     },
     "metadata": {},
     "output_type": "display_data"
    }
   ],
   "source": [
    "plt.bar(phase_space, probs)"
   ]
  },
  {
   "cell_type": "code",
   "execution_count": null,
   "metadata": {},
   "outputs": [],
   "source": []
  }
 ],
 "metadata": {
  "kernelspec": {
   "display_name": ".venv",
   "language": "python",
   "name": "python3"
  },
  "language_info": {
   "codemirror_mode": {
    "name": "ipython",
    "version": 3
   },
   "file_extension": ".py",
   "mimetype": "text/x-python",
   "name": "python",
   "nbconvert_exporter": "python",
   "pygments_lexer": "ipython3",
   "version": "3.8.10"
  },
  "orig_nbformat": 4
 },
 "nbformat": 4,
 "nbformat_minor": 2
}

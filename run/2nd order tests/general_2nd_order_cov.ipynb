{
 "cells": [
  {
   "cell_type": "code",
   "execution_count": 1,
   "metadata": {},
   "outputs": [],
   "source": [
    "import sys\n",
    "sys.path.insert(0, \"../..\")"
   ]
  },
  {
   "cell_type": "code",
   "execution_count": 2,
   "metadata": {},
   "outputs": [],
   "source": [
    "import numpy as np\n",
    "from matplotlib import pyplot as plt\n",
    "\n",
    "from module.base.network import Network\n",
    "\n",
    "from module.components.discrete_gaussian1D import DiscreteGaussian1D\n",
    "from module.components.discrete_gaussian2D import DiscreteGaussian2D\n",
    "from module.components.lawrence_dist import LawrenceDist\n",
    "\n",
    "from module.simulation.meanfield import MeanField\n",
    "from module.simulation.set_meanfield2 import SetMeanField2\n",
    "\n",
    "import module.components.CONST as CONST\n",
    "\n",
    "from module.simulation.meanfield2 import MeanField2"
   ]
  },
  {
   "cell_type": "code",
   "execution_count": 3,
   "metadata": {},
   "outputs": [],
   "source": [
    "net = Network(3,3,1, [[0,0,0], [2,0,0], [0,2,0], [2,2,0]])\n",
    "net.set_voltage_config([-2.625876307246630126e-01, -9.355253310870321679e-03, 1.687528930716121478e-02, -1.963316637927263186e-01], 5.020559674550297523e-03)\n",
    "net.set_voltage_config([0.1,0,-0.02,0.01],0.03)\n",
    "\n",
    "mf = MeanField(net)\n",
    "\n",
    "g2 = DiscreteGaussian2D(phase_space_bounds_n=(-5,5), phase_space_bounds_m=(-5,5))\n",
    "g1 = DiscreteGaussian1D(phase_space_min=-5, phase_space_max=5)"
   ]
  },
  {
   "cell_type": "code",
   "execution_count": 4,
   "metadata": {},
   "outputs": [],
   "source": [
    "neighbour_table = net.get_nearest_neighbours(np.arange(0, net.N_particles))\n",
    "\n",
    "covs = np.zeros((net.N_particles, 6))\n",
    "def get_cov(i, j):\n",
    "    table_index = np.where(neighbour_table[i] == j)[0]\n",
    "    if table_index.shape[0] == 0:\n",
    "        return 0\n",
    "\n",
    "    return covs[i, table_index[0]]\n",
    "\n",
    "def set_cov(i, j, value):\n",
    "    table_index = np.where(neighbour_table[i] == j)[0]\n",
    "    if table_index.shape[0] == 1:\n",
    "        covs[i, table_index[0]] = value\n",
    "\n",
    "    table_index = np.where(neighbour_table[j] == i)[0]\n",
    "    if table_index.shape[0] == 1:\n",
    "        covs[j, table_index[0]] = value\n",
    "\n",
    "dcovs = np.zeros((net.N_particles, 6))\n",
    "def get_dcov(i, j):\n",
    "    table_index = np.where(neighbour_table[i] == j)[0]\n",
    "    if table_index.shape[0] == 0:\n",
    "        return 0\n",
    "\n",
    "    return dcovs[i, table_index[0]]\n",
    "\n",
    "def set_dcov(i, j, value):\n",
    "    table_index = np.where(neighbour_table[i] == j)[0]\n",
    "    if table_index.shape[0] == 1:\n",
    "        dcovs[i, table_index[0]] = value\n",
    "\n",
    "    table_index = np.where(neighbour_table[j] == i)[0]\n",
    "    if table_index.shape[0] == 1:\n",
    "        dcovs[j, table_index[0]] = value"
   ]
  },
  {
   "attachments": {},
   "cell_type": "markdown",
   "metadata": {},
   "source": [
    "---"
   ]
  },
  {
   "cell_type": "code",
   "execution_count": 5,
   "metadata": {},
   "outputs": [],
   "source": [
    "def calc_effective_states(i, j):\n",
    "    phase_space = g2.phase_space\n",
    "    states = np.repeat(np.expand_dims(means, axis = [0, 1]), phase_space.shape[0], axis = 0)\n",
    "    states = np.repeat(states, phase_space.shape[1], axis = 1)\n",
    "\n",
    "    states[:,:,i] = phase_space[:,:,0]\n",
    "    states[:,:,j] = phase_space[:,:,1]\n",
    "    \n",
    "    return states"
   ]
  },
  {
   "attachments": {},
   "cell_type": "markdown",
   "metadata": {},
   "source": [
    "---\n",
    "$$\n",
    "\\langle I_{ij} \\rangle\n",
    "$$"
   ]
  },
  {
   "cell_type": "code",
   "execution_count": 6,
   "metadata": {},
   "outputs": [],
   "source": [
    "def calc_R_island(i, j):\n",
    "    states = calc_effective_states(i, j)\n",
    "    rates = net.calc_rate_island(states, i, j)\n",
    "    return rates\n",
    "\n",
    "def calc_R_island_inv(i, j):\n",
    "    states = calc_effective_states(i, j)\n",
    "    rates = net.calc_rate_island(states, j, i)\n",
    "    return rates"
   ]
  },
  {
   "attachments": {},
   "cell_type": "markdown",
   "metadata": {},
   "source": [
    "---\n",
    "$$\n",
    "\\langle I_{ei} \\rangle\n",
    "$$"
   ]
  },
  {
   "cell_type": "code",
   "execution_count": 7,
   "metadata": {},
   "outputs": [],
   "source": [
    "def calc_R_from_electrode(electrode_index):\n",
    "    phase_space = g1.phase_space\n",
    "    states = np.expand_dims(means, axis = 0)\n",
    "    states = np.repeat(states, phase_space.shape[0], axis = 0)\n",
    "\n",
    "    island_index = net.get_linear_indices(net.electrode_pos[electrode_index])\n",
    "    states[:, island_index] = phase_space\n",
    "    rates = net.calc_rate_from_electrode(states, electrode_index)\n",
    "    return rates\n",
    "\n",
    "def calc_R_to_electrode(electrode_index):\n",
    "    phase_space = g1.phase_space\n",
    "    states = np.expand_dims(means, axis = 0)\n",
    "    states = np.repeat(states, phase_space.shape[0], axis = 0)\n",
    "\n",
    "    island_index = net.get_linear_indices(net.electrode_pos[electrode_index])\n",
    "    states[:, island_index] = phase_space\n",
    "    rates = net.calc_rate_to_electrode(states, electrode_index)\n",
    "    return rates"
   ]
  },
  {
   "attachments": {},
   "cell_type": "markdown",
   "metadata": {},
   "source": [
    "---\n",
    "$$\n",
    "\\langle n_i I_{ei} \\rangle\n",
    "$$"
   ]
  },
  {
   "cell_type": "code",
   "execution_count": 8,
   "metadata": {},
   "outputs": [],
   "source": [
    "def calc_nR_to_electrode(electrode_index):\n",
    "    phase_space = g1.phase_space\n",
    "    rates = calc_R_to_electrode(electrode_index)\n",
    "    values = rates * phase_space \n",
    "    return values\n",
    "\n",
    "def calc_nR_from_electrode(electrode_index):\n",
    "    phase_space = g1.phase_space\n",
    "    rates = calc_R_from_electrode(electrode_index)\n",
    "    values = rates * phase_space \n",
    "    return values"
   ]
  },
  {
   "attachments": {},
   "cell_type": "markdown",
   "metadata": {},
   "source": [
    "---\n",
    "$$\n",
    "\\langle n_i I_{ej} \\rangle\n",
    "$$"
   ]
  },
  {
   "cell_type": "code",
   "execution_count": 9,
   "metadata": {},
   "outputs": [],
   "source": [
    "def calc_nR_from_electrode_2(i, electrode_index):\n",
    "    phase_space = g2.phase_space\n",
    "    island_index = net.get_linear_indices(net.electrode_pos[electrode_index])\n",
    "\n",
    "    states = calc_effective_states(i, island_index)\n",
    "    rates = net.calc_rate_from_electrode(states, electrode_index)\n",
    "\n",
    "    return rates * phase_space[:,:,0]\n",
    "\n",
    "def calc_nR_to_electrode_2(i, electrode_index):\n",
    "    phase_space = g2.phase_space\n",
    "    island_index = net.get_linear_indices(net.electrode_pos[electrode_index])\n",
    "\n",
    "    states = calc_effective_states(i, island_index)\n",
    "    rates = net.calc_rate_to_electrode(states, electrode_index)\n",
    "\n",
    "    return rates * phase_space[:,:,0]"
   ]
  },
  {
   "attachments": {},
   "cell_type": "markdown",
   "metadata": {},
   "source": [
    "---\n",
    "$$\n",
    "\\langle n_j I_{ij} \\rangle\n",
    "$$"
   ]
  },
  {
   "cell_type": "code",
   "execution_count": 10,
   "metadata": {},
   "outputs": [],
   "source": [
    "def calc_nR_island(i, j):\n",
    "    phase_space = g2.phase_space\n",
    "    rates = calc_R_island(i, j)\n",
    "    values = rates * phase_space[:,:,1] \n",
    "    return values\n",
    "\n",
    "def calc_nR_island_inv(i, j):\n",
    "    phase_space = g2.phase_space\n",
    "    rates = calc_R_island_inv(i, j)\n",
    "    values = rates * phase_space[:,:,1] \n",
    "    return values"
   ]
  },
  {
   "attachments": {},
   "cell_type": "markdown",
   "metadata": {},
   "source": [
    "---\n",
    "$$\n",
    "\\langle n_i I_{ij} \\rangle\n",
    "$$"
   ]
  },
  {
   "cell_type": "code",
   "execution_count": 11,
   "metadata": {},
   "outputs": [],
   "source": [
    "def calc_nR_island_alt(i, j):\n",
    "    phase_space = g2.phase_space\n",
    "    rates = calc_R_island(i, j)\n",
    "    values = rates * phase_space[:,:,0] \n",
    "    return values\n",
    "\n",
    "def calc_nR_island_inv_alt(i, j):\n",
    "    phase_space = g2.phase_space\n",
    "    rates = calc_R_island_inv(i, j)\n",
    "    values = rates * phase_space[:,:,0] \n",
    "    return values"
   ]
  },
  {
   "attachments": {},
   "cell_type": "markdown",
   "metadata": {},
   "source": [
    "---\n",
    "## Run"
   ]
  },
  {
   "cell_type": "code",
   "execution_count": 28,
   "metadata": {},
   "outputs": [],
   "source": [
    "mf_means = mf.numeric_integration_solve(N = 30)\n",
    "\n",
    "means = np.copy(mf_means)\n",
    "vars = np.ones(net.N_particles)\n",
    "covs = np.zeros((net.N_particles, 6))"
   ]
  },
  {
   "cell_type": "code",
   "execution_count": 29,
   "metadata": {},
   "outputs": [
    {
     "name": "stdout",
     "output_type": "stream",
     "text": [
      "2.073654138885941 8.716554547732084 2.229202826985741\n",
      "0.4919202318017213 1.7192192448359167 1.1757109480790093\n",
      "0.1931019462632897 1.1811300141055348 0.5159628825786058\n",
      "0.14488593627443447 0.4494517825908577 0.3313258159351238\n",
      "0.12001349081539114 0.3362181440786046 0.20861123855422675\n",
      "0.09587430638411676 0.2557613144717991 0.15945760688622868\n",
      "0.07607001254814272 0.19580403431891885 0.14363945541179712\n",
      "0.05898757172105873 0.1497263324211599 0.1317461096655582\n",
      "0.04498091642509516 0.11401102688172443 0.12251627278476102\n",
      "0.0355998923329468 0.08636509919736526 0.11513663430601856\n",
      "0.034593802639050764 0.06514996754971797 0.1090979778258605\n",
      "0.03344676936244578 0.049018188409353375 0.10399394792014503\n",
      "0.032248435659666175 0.036875295235505846 0.09960057029287389\n",
      "0.031069204431198094 0.027794154077604032 0.09591656519824496\n",
      "0.029937768314868107 0.022249460202530356 0.09485280644357584\n",
      "0.029053681061431635 0.02063892537137335 0.08945337937242884\n",
      "0.0283310602076845 0.01870780643833585 0.08562924555406656\n",
      "0.027389364128109384 0.01700246558402619 0.0824122692636986\n",
      "0.026354217909674404 0.015499776464709231 0.07969768777542656\n",
      "0.02531110386738339 0.014168919249886124 0.0773798404213395\n"
     ]
    }
   ],
   "source": [
    "dt = 0.07\n",
    "for epoch in range(20):\n",
    "    l_R = np.zeros(net.N_particles)\n",
    "    r_R = np.zeros(net.N_particles)\n",
    "    l_nR = np.zeros(net.N_particles)\n",
    "    r_nR = np.zeros(net.N_particles)\n",
    "\n",
    "    for i in range(net.N_particles):\n",
    "        for j in neighbour_table[i]:\n",
    "            if not j == -1: # all neighbour relations\n",
    "                probs = g2.calc_prob(means[j], means[i], vars[j], vars[i],get_cov(i, j))\n",
    "                l_R[i] += np.sum(probs * calc_R_island(j, i))\n",
    "                l_nR[i] += np.sum(probs * calc_nR_island(j, i))\n",
    "                r_R[i] += np.sum(probs * calc_R_island_inv(j, i))\n",
    "                r_nR[i] += np.sum(probs * calc_nR_island_inv(j, i))\n",
    "                \n",
    "    l_R_electrodes = np.zeros(net.N_particles)\n",
    "    r_R_electrodes = np.zeros(net.N_particles)\n",
    "    l_nR_electrodes = np.zeros(net.N_particles)\n",
    "    r_nR_electrodes = np.zeros(net.N_particles)\n",
    "\n",
    "    for electrode_index, pos in enumerate(net.electrode_pos):\n",
    "        i = net.get_linear_indices(pos)\n",
    "\n",
    "        probs = g1.calc_prob(means[i], vars[i])\n",
    "        l_R_electrodes[i] += np.sum(probs * calc_R_from_electrode(electrode_index)) \n",
    "        l_nR_electrodes[i] += np.sum(probs * calc_nR_from_electrode(electrode_index))\n",
    "\n",
    "        r_R_electrodes[i] += np.sum(probs * calc_R_to_electrode(electrode_index)) \n",
    "        r_nR_electrodes[i] += np.sum(probs * calc_nR_to_electrode(electrode_index))\n",
    "\n",
    "    # islands\n",
    "    I_islands = l_R - r_R\n",
    "    I_dag_islands = l_R + r_R\n",
    "\n",
    "    nI_islands = l_nR - r_nR\n",
    "\n",
    "    # electrodes\n",
    "    I_electrodes = l_R_electrodes - r_R_electrodes\n",
    "    I_dag_electrodes = l_R_electrodes + r_R_electrodes\n",
    "\n",
    "    nI_electrodes = l_nR_electrodes - r_nR_electrodes\n",
    "\n",
    "    # total\n",
    "    I = I_islands + I_electrodes\n",
    "    I_dag = I_dag_islands + I_dag_electrodes\n",
    "    nI = nI_islands + nI_electrodes\n",
    "    \n",
    "    d_mean = I\n",
    "    d_var = (2 * nI + I_dag) - 2 * means * I\n",
    "\n",
    "    dcovs = np.zeros((net.N_particles, 6)) # reset dcovs\n",
    "  \n",
    "    for i in range(net.N_particles):\n",
    "        for j in neighbour_table[i]:\n",
    "            if not j == -1:\n",
    "                probs = g2.calc_prob(means[i], means[j], vars[i], vars[j], get_cov(i, j))\n",
    "                probs2 = g2.calc_prob(means[j], means[i], vars[j], vars[i], get_cov(i, j))\n",
    "                island_indices = net.get_linear_indices(net.electrode_pos)\n",
    "\n",
    "\n",
    "                # < ni Ij >\n",
    "                dcov = means[i] * I_islands[j]\n",
    "                dcov -= means[i] * np.sum(probs * (calc_R_island(i, j) - calc_R_island_inv(i, j)))\n",
    "                dcov += np.sum(probs * (calc_nR_island_alt(i, j) - calc_nR_island_inv_alt(i, j)))\n",
    "\n",
    "                electrode_index = np.where(island_indices == j)[0]\n",
    "                if electrode_index.shape[0] == 1:\n",
    "                    dcov += np.sum(probs * (calc_nR_from_electrode_2(i, electrode_index[0]) - calc_nR_to_electrode_2(i, electrode_index[0])))\n",
    "\n",
    "\n",
    "                # < nj Ii >\n",
    "                dcov += means[j] * I_islands[i]\n",
    "                dcov -= means[j] * np.sum(probs2 * (calc_R_island(j, i) - calc_R_island_inv(j, i)))\n",
    "                dcov += np.sum(probs2 * (calc_nR_island_alt(j, i) - calc_nR_island_inv_alt(j, i)))\n",
    "\n",
    "                electrode_index = np.where(island_indices == i)[0]\n",
    "                if electrode_index.shape[0] == 1:\n",
    "                    dcov += np.sum(probs2 * (calc_nR_from_electrode_2(j, electrode_index[0]) - calc_nR_to_electrode_2(j, electrode_index[0])))\n",
    "\n",
    "                # < I^dag_ij >\n",
    "                dcov -= np.sum(probs * (calc_R_island(i, j) + calc_R_island_inv(i, j)))\n",
    "\n",
    "                set_dcov(i, j, dcov - d_mean[i] * means[j] - means[i] * d_mean[j])\n",
    "\n",
    "    means += dt * d_mean\n",
    "    vars += dt * d_var\n",
    "    covs += dt * dcovs\n",
    "\n",
    "    vars = np.where(vars < 0, 0, vars)\n",
    "\n",
    "    if  epoch % 1 == 0:\n",
    "        print(np.abs(d_mean).max() , np.abs(d_var).max(), np.abs(dcovs).max())"
   ]
  },
  {
   "cell_type": "code",
   "execution_count": 31,
   "metadata": {},
   "outputs": [
    {
     "data": {
      "text/plain": [
       "array([ 1.04378846,  0.28500306, -0.41355683,  0.14132274, -0.07578889,\n",
       "       -0.29040089, -0.75628474, -0.39812275, -0.52754405])"
      ]
     },
     "execution_count": 31,
     "metadata": {},
     "output_type": "execute_result"
    }
   ],
   "source": [
    "means"
   ]
  },
  {
   "cell_type": "code",
   "execution_count": 32,
   "metadata": {},
   "outputs": [
    {
     "data": {
      "text/plain": [
       "array([ 1.14150097,  0.30730644, -0.45897255,  0.17305524, -0.04159311,\n",
       "       -0.18970848, -0.81723591, -0.25285378, -0.68534517])"
      ]
     },
     "execution_count": 32,
     "metadata": {},
     "output_type": "execute_result"
    }
   ],
   "source": [
    "mf_means"
   ]
  }
 ],
 "metadata": {
  "kernelspec": {
   "display_name": ".venv",
   "language": "python",
   "name": "python3"
  },
  "language_info": {
   "codemirror_mode": {
    "name": "ipython",
    "version": 3
   },
   "file_extension": ".py",
   "mimetype": "text/x-python",
   "name": "python",
   "nbconvert_exporter": "python",
   "pygments_lexer": "ipython3",
   "version": "3.8.10"
  },
  "orig_nbformat": 4
 },
 "nbformat": 4,
 "nbformat_minor": 2
}

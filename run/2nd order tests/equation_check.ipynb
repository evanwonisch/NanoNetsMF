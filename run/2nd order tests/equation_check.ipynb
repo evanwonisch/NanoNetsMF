{
 "cells": [
  {
   "cell_type": "code",
   "execution_count": 36,
   "metadata": {},
   "outputs": [],
   "source": [
    "import sys\n",
    "sys.path.insert(0, \"../..\")"
   ]
  },
  {
   "cell_type": "code",
   "execution_count": 37,
   "metadata": {},
   "outputs": [
    {
     "name": "stderr",
     "output_type": "stream",
     "text": [
      "/tmp/ipykernel_1262/4240333005.py:3: MatplotlibDeprecationWarning: The seaborn styles shipped by Matplotlib are deprecated since 3.6, as they no longer correspond to the styles shipped by seaborn. However, they will remain available as 'seaborn-v0_8-<style>'. Alternatively, directly use the seaborn API instead.\n",
      "  plt.style.use('seaborn')\n"
     ]
    }
   ],
   "source": [
    "import numpy as np\n",
    "from matplotlib import pyplot as plt\n",
    "plt.style.use('seaborn')\n",
    "from module.base.network import Network\n",
    "from module.simulation.meanfield import MeanField\n",
    "from module.simulation.masterequation import MasterEquation\n",
    "import module.components.CONST as CONST"
   ]
  },
  {
   "cell_type": "code",
   "execution_count": 38,
   "metadata": {},
   "outputs": [],
   "source": [
    "def set_size(width = \"thesis\", fraction=1, subplots=(1, 1)):\n",
    "    if width == 'thesis':\n",
    "        width_pt = 426.79135\n",
    "    elif width == 'beamer':\n",
    "        width_pt = 307.28987\n",
    "    else:\n",
    "        width_pt = width\n",
    "\n",
    "    # Width of figure (in pts)\n",
    "    fig_width_pt = width_pt * fraction\n",
    "\n",
    "    # Convert from pt to inches\n",
    "    inches_per_pt = 1 / 72.27\n",
    "\n",
    "    # Golden ratio to set aesthetic figure height\n",
    "    golden_ratio = (5**0.5 - 1) / 2\n",
    "\n",
    "    # Figure width in inches\n",
    "    fig_width_in = fig_width_pt * inches_per_pt\n",
    "    # Figure height in inches\n",
    "    fig_height_in = fig_height_in = fig_width_in * golden_ratio * (subplots[0] / subplots[1])\n",
    "\n",
    "    fig_dim = (fig_width_in, fig_height_in)\n",
    "\n",
    "    return fig_dim"
   ]
  },
  {
   "cell_type": "code",
   "execution_count": 52,
   "metadata": {},
   "outputs": [],
   "source": [
    "me = MasterEquation(0.05, 0)\n",
    "net = me.net\n",
    "\n",
    "phase_space = np.expand_dims(me.phase_space, axis = -1)\n",
    "\n",
    "probs = me.solve(N = 5000)"
   ]
  },
  {
   "cell_type": "code",
   "execution_count": 53,
   "metadata": {},
   "outputs": [],
   "source": [
    "def rate_to_particle(n):\n",
    "    return net.calc_rate_from_electrode(n, 0) + net.calc_rate_from_electrode(n, 1)\n",
    "\n",
    "def rate_from_particle(n):\n",
    "    return net.calc_rate_to_electrode(n, 0) + net.calc_rate_to_electrode(n, 1)\n",
    "\n",
    "def I(n):\n",
    "    return rate_to_particle(n) - rate_from_particle(n)\n",
    "\n",
    "def I_dag(n):\n",
    "    return rate_to_particle(n) + rate_from_particle(n)\n",
    "\n",
    "def dn2(n):\n",
    "    return 2 * n[:, 0] * I(n) + I_dag(n)\n",
    "\n",
    "def mean(n):\n",
    "    return n[:, 0]"
   ]
  },
  {
   "cell_type": "code",
   "execution_count": 54,
   "metadata": {},
   "outputs": [],
   "source": [
    "def expect(func, probs):\n",
    "    return np.sum(func(phase_space) * probs)"
   ]
  },
  {
   "attachments": {},
   "cell_type": "markdown",
   "metadata": {},
   "source": [
    "## Explanation\n",
    "We solve the single-electron-transistor by master equation until convergence. Thus, we have found the correct distribution. To check for validity of our equations, we calculate the expectation values of the time derivatives of the first two moments. They should equate to zero, what, joyfully, they do (eps = 1e-11).\n",
    "\n",
    "Apparently, the change in masterequation and change in first moment have the same order of magnitude."
   ]
  },
  {
   "cell_type": "code",
   "execution_count": 55,
   "metadata": {},
   "outputs": [
    {
     "data": {
      "text/plain": [
       "3.441691376338079e-14"
      ]
     },
     "execution_count": 55,
     "metadata": {},
     "output_type": "execute_result"
    }
   ],
   "source": [
    "expect(I, probs)"
   ]
  },
  {
   "cell_type": "code",
   "execution_count": 56,
   "metadata": {},
   "outputs": [
    {
     "data": {
      "text/plain": [
       "4.8405723873655885e-14"
      ]
     },
     "execution_count": 56,
     "metadata": {},
     "output_type": "execute_result"
    }
   ],
   "source": [
    "expect(dn2, probs)"
   ]
  },
  {
   "attachments": {},
   "cell_type": "markdown",
   "metadata": {},
   "source": [
    "### Bonum!\n",
    "---"
   ]
  },
  {
   "cell_type": "code",
   "execution_count": 58,
   "metadata": {},
   "outputs": [
    {
     "data": {
      "image/png": "[encoded data removed]",
      "text/plain": [
       "<Figure size 590.551x364.981 with 1 Axes>"
      ]
     },
     "metadata": {},
     "output_type": "display_data"
    }
   ],
   "source": [
    "plt.figure(figsize=set_size())\n",
    "plt.bar(phase_space[10:30, 0], probs[10:30], label = \"distribution\")\n",
    "plt.scatter(phase_space[10:30, 0], I(phase_space)[10:30] / 200, marker = \"+\", label = \"$\\\\partial_t \\\\langle n \\\\rangle$\")\n",
    "plt.scatter(phase_space[10:30, 0], dn2(phase_space)[10:30] / 8000, marker = \"+\", label = \"$\\\\partial_t \\\\langle n^2 \\\\rangle$\")\n",
    "plt.legend()\n",
    "plt.xlabel(\"Phase Space $\\Omega$\")\n",
    "plt.xticks(np.arange(-10,11, 2), np.arange(-10,11,2))\n",
    "plt.ylabel(\"a.u.\")\n",
    "plt.title(\"Convergent Distribution\")\n",
    "plt.tight_layout()\n",
    "plt.savefig(\"../../output/misc/convergent_distribution.pdf\")\n"
   ]
  },
  {
   "cell_type": "code",
   "execution_count": null,
   "metadata": {},
   "outputs": [],
   "source": []
  },
  {
   "cell_type": "code",
   "execution_count": null,
   "metadata": {},
   "outputs": [],
   "source": []
  }
 ],
 "metadata": {
  "kernelspec": {
   "display_name": ".venv",
   "language": "python",
   "name": "python3"
  },
  "language_info": {
   "codemirror_mode": {
    "name": "ipython",
    "version": 3
   },
   "file_extension": ".py",
   "mimetype": "text/x-python",
   "name": "python",
   "nbconvert_exporter": "python",
   "pygments_lexer": "ipython3",
   "version": "3.8.10"
  },
  "orig_nbformat": 4
 },
 "nbformat": 4,
 "nbformat_minor": 2
}

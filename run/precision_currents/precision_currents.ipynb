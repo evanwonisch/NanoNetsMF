{
 "cells": [
  {
   "cell_type": "code",
   "execution_count": 1,
   "metadata": {},
   "outputs": [
    {
     "name": "stderr",
     "output_type": "stream",
     "text": [
      "/tmp/ipykernel_10349/2397363.py:30: MatplotlibDeprecationWarning: The seaborn styles shipped by Matplotlib are deprecated since 3.6, as they no longer correspond to the styles shipped by seaborn. However, they will remain available as 'seaborn-v0_8-<style>'. Alternatively, directly use the seaborn API instead.\n",
      "  plt.style.use('seaborn')\n"
     ]
    }
   ],
   "source": [
    "import sys\n",
    "sys.path.insert(0, \"../..\")\n",
    "def set_size(width = \"thesis\", fraction=1, subplots=(1, 1)):\n",
    "    if width == 'thesis':\n",
    "        width_pt = 426.79135\n",
    "    elif width == 'beamer':\n",
    "        width_pt = 307.28987\n",
    "    else:\n",
    "        width_pt = width\n",
    "\n",
    "    # Width of figure (in pts)\n",
    "    fig_width_pt = width_pt * fraction\n",
    "\n",
    "    # Convert from pt to inches\n",
    "    inches_per_pt = 1 / 72.27\n",
    "\n",
    "    # Golden ratio to set aesthetic figure height\n",
    "    golden_ratio = (5**0.5 - 1) / 2\n",
    "\n",
    "    # Figure width in inches\n",
    "    fig_width_in = fig_width_pt * inches_per_pt\n",
    "    # Figure height in inches\n",
    "    fig_height_in = fig_height_in = fig_width_in * golden_ratio * (subplots[0] / subplots[1])\n",
    "\n",
    "    fig_dim = (fig_width_in, fig_height_in)\n",
    "\n",
    "    return fig_dim\n",
    "import numpy as np\n",
    "from matplotlib import pyplot as plt\n",
    "plt.style.use('seaborn')\n",
    "\n",
    "from os import listdir\n",
    "from os.path import isfile, join\n",
    "\n",
    "from module.base.network import Network\n",
    "from module.simulation.meanfield import MeanField\n",
    "import module.components.CONST as CONST\n",
    "from module.simulation.set_meanfield2 import SetMeanField2\n",
    "from module.simulation.masterequation import MasterEquation\n",
    "from module.simulation.quick_meanfield2 import QuickMeanField2\n",
    "from module.simulation.meanfield2 import MeanField2\n",
    "from module.components.lawrence_dist import LawrenceDist\n",
    "from module.components.discrete_gaussian1D import DiscreteGaussian1D\n",
    "\n",
    "from module.components.restricted_gaussian1D import RestrictedGaussian1D\n",
    "from module.components.p2_4dist import p2_4dist"
   ]
  },
  {
   "cell_type": "code",
   "execution_count": 2,
   "metadata": {},
   "outputs": [],
   "source": [
    "voltages = np.loadtxt(\"../../data/cont_comparison/voltage_configs.csv\")"
   ]
  },
  {
   "cell_type": "code",
   "execution_count": 13,
   "metadata": {},
   "outputs": [],
   "source": [
    "kmc_data = np.loadtxt(\"../../data/precision_currents/Nx=4_Ny=4_Nz=1_Ne=4.csv\", delimiter=\",\", skiprows=1)[0:20]\n",
    "kmc_currents = kmc_data[:, 7] * CONST.electron_charge / 1000"
   ]
  },
  {
   "attachments": {},
   "cell_type": "markdown",
   "metadata": {},
   "source": [
    "## MF1"
   ]
  },
  {
   "cell_type": "code",
   "execution_count": 4,
   "metadata": {},
   "outputs": [
    {
     "name": "stdout",
     "output_type": "stream",
     "text": [
      "convergence: 0.0031580597200012023\n",
      "convergence: 0.0032091071687270906\n",
      "convergence: 0.0032651767891341416\n",
      "convergence: 0.0033249051339031693\n",
      "convergence: 0.0033870976903149635\n",
      "convergence: 0.003451244723538034\n",
      "convergence: 0.003517230035030648\n",
      "convergence: 0.0035830573127744736\n",
      "convergence: 0.003650376965712465\n",
      "convergence: 0.0037164414200167514\n",
      "convergence: 0.0037826976221305084\n",
      "convergence: 0.003847419260220794\n",
      "convergence: 0.0039101077543867435\n",
      "convergence: 0.0039704182562476376\n",
      "convergence: 0.004027540130138084\n",
      "convergence: 0.00408102135847762\n",
      "convergence: 0.0041318046535898795\n",
      "convergence: 0.0041774608406195055\n",
      "convergence: 0.004217013076679245\n",
      "convergence: 0.004250910388621826\n"
     ]
    }
   ],
   "source": [
    "mf_currents = []\n",
    "\n",
    "for i in range(20):\n",
    "    net = Network(4,4,1,[[0,0,0],[3,0,0],[0,3,0],[3,3,0]])\n",
    "    net.set_voltage_config(voltages[i], 0)\n",
    "    mf = MeanField(net)\n",
    "    mean = mf.numeric_integration_solve(verbose = True, N = 50)\n",
    "    mf_currents.append(-mf.calc_expected_electrode_rates(mean, 3) * CONST.electron_charge)\n",
    "\n",
    "mf_currents = np.array(mf_currents)"
   ]
  },
  {
   "attachments": {},
   "cell_type": "markdown",
   "metadata": {},
   "source": [
    "### QMF2"
   ]
  },
  {
   "cell_type": "code",
   "execution_count": 5,
   "metadata": {},
   "outputs": [],
   "source": [
    "qmf2_currents = []"
   ]
  },
  {
   "cell_type": "code",
   "execution_count": 6,
   "metadata": {},
   "outputs": [
    {
     "name": "stdout",
     "output_type": "stream",
     "text": [
      "ADAM convergence: (0.011207590034048776, 0.03899986217831519)\n",
      "ADAM convergence: (0.017273300679160223, 0.05653201997997563)\n",
      "ADAM convergence: (0.01736954730532817, 0.059057426522304585)\n",
      "ADAM convergence: (0.0086615670563411, 0.02785074924729887)\n",
      "ADAM convergence: (0.01276042526563451, 0.04325567447027918)\n",
      "ADAM convergence: (0.02237371134214294, 0.07563462073410572)\n",
      "ADAM convergence: (0.02402077072657972, 0.07384743061580787)\n",
      "ADAM convergence: (0.019007113991451816, 0.06020235887075706)\n",
      "ADAM convergence: (0.026629219476423552, 0.0786920798752338)\n",
      "ADAM convergence: (0.014906278262828584, 0.04554946776693407)\n",
      "ADAM convergence: (0.021963925000697136, 0.07479047951554674)\n",
      "ADAM convergence: (0.013547329534348933, 0.02289875396118642)\n",
      "ADAM convergence: (0.01717186865056399, 0.04639356617282219)\n",
      "ADAM convergence: (0.02208520309524237, 0.06387266949670686)\n",
      "ADAM convergence: (0.02104056990114161, 0.05177350916519344)\n",
      "ADAM convergence: (0.012505349199245624, 0.062490836231746616)\n",
      "ADAM convergence: (0.011277890340206657, 0.01969720167021613)\n",
      "ADAM convergence: (0.015875739853163054, 0.04581130536233729)\n",
      "ADAM convergence: (0.010398355544771084, 0.01792423268828961)\n",
      "ADAM convergence: (0.0116507587999964, 0.047434589980779936)\n"
     ]
    }
   ],
   "source": [
    "for i in range(20):\n",
    "    net = Network(4,4,1,[[0,0,0],[3,0,0],[0,3,0],[3,3,0]])\n",
    "    net.set_voltage_config(voltages[i], 0)\n",
    "    qmf2 = QuickMeanField2(net)\n",
    "    qmf2.ADAM_solve(verbose = True, N = 300)\n",
    "    qmf2_currents.append(-qmf2.calc_expected_electrode_current(3))"
   ]
  },
  {
   "cell_type": "code",
   "execution_count": 7,
   "metadata": {},
   "outputs": [],
   "source": [
    "qmf2_currents = np.array(qmf2_currents)"
   ]
  },
  {
   "attachments": {},
   "cell_type": "markdown",
   "metadata": {},
   "source": [
    "### MF2"
   ]
  },
  {
   "cell_type": "code",
   "execution_count": 10,
   "metadata": {},
   "outputs": [],
   "source": [
    "nets = []\n",
    "mfs = []\n",
    "\n",
    "for i in range(20):\n",
    "    net = Network(4,4,1,[[0,0,0],[3,0,0],[0,3,0],[3,3,0]])\n",
    "    net.set_voltage_config(voltages[i], 0)\n",
    "    mf2 = MeanField2(net, include_covs = False)\n",
    "    mf2.ADAM_solve(N = 0)\n",
    "\n",
    "    nets.append(net)\n",
    "    mfs.append(mf2)"
   ]
  },
  {
   "cell_type": "code",
   "execution_count": 25,
   "metadata": {},
   "outputs": [
    {
     "name": "stdout",
     "output_type": "stream",
     "text": [
      "Adam convergence: (0.00963996892902556, 0.007080547761809002, 0.0)\n",
      "Adam convergence: (0.00867187865917662, 0.007250064783362497, 0.0)\n",
      "Adam convergence: (0.0076189054230557055, 0.0073814489686823154, 0.0)\n",
      "Adam convergence: (0.006962960606180367, 0.007473386378459747, 0.0)\n",
      "Adam convergence: (0.006702382845148528, 0.007523583592345432, 0.0)\n",
      "Adam convergence: (0.006342389647692825, 0.007535117482307681, 0.0)\n",
      "Adam convergence: (0.005874414725545727, 0.007518735020661964, 0.0)\n",
      "Adam convergence: (0.005304302881355069, 0.00744256219390502, 0.0)\n",
      "Adam convergence: (0.004863401265854231, 0.007329430528417875, 0.0)\n",
      "Adam convergence: (0.004594205140003681, 0.0076879061824134285, 0.0)\n",
      "Adam convergence: (0.0047482220310415294, 0.008139184385870085, 0.0)\n",
      "Adam convergence: (0.004863221952054199, 0.008359652203307434, 0.0)\n",
      "Adam convergence: (0.0049587108276561275, 0.00834561246067274, 0.0)\n",
      "Adam convergence: (0.00502858829804854, 0.008091259375890187, 0.0)\n",
      "Adam convergence: (0.0050496816578749874, 0.007609444775705352, 0.0)\n",
      "Adam convergence: (0.0054485164262602056, 0.006940641065738798, 0.0)\n",
      "Adam convergence: (0.005696144424931783, 0.006121205748956493, 0.0)\n",
      "Adam convergence: (0.005799660455381994, 0.005301308864217261, 0.0)\n",
      "Adam convergence: (0.005774090084687307, 0.005280617841008525, 0.0)\n",
      "Adam convergence: (0.005639266579556653, 0.005817816594988192, 0.0)\n"
     ]
    }
   ],
   "source": [
    "mf2_currents = []\n",
    "for i in range(20):\n",
    "    mfs[i].ADAM_solve(verbose = True, N = 70, reset = False)\n",
    "    mf2_currents.append(mfs[i].calc_expected_electrode_current(3))"
   ]
  },
  {
   "cell_type": "code",
   "execution_count": 48,
   "metadata": {},
   "outputs": [],
   "source": [
    "# mf2_means = np.zeros((20,16))\n",
    "# mf2_vars = np.zeros((20, 16))\n",
    "\n",
    "# for i in range(20):\n",
    "#     mf2_means[i] = mfs[i].means\n",
    "#     mf2_vars[i] = mfs[i].vars"
   ]
  },
  {
   "cell_type": "code",
   "execution_count": 49,
   "metadata": {},
   "outputs": [],
   "source": [
    "# np.savetxt(\"./mf2_means.csv\", mf2_means)\n",
    "# np.savetxt(\"./mf2_vars.csv\", mf2_vars)"
   ]
  },
  {
   "attachments": {},
   "cell_type": "markdown",
   "metadata": {},
   "source": [
    "## ERRORS"
   ]
  },
  {
   "cell_type": "code",
   "execution_count": 42,
   "metadata": {},
   "outputs": [],
   "source": [
    "rel_errs = np.abs((kmc_currents - qmf2_currents)/kmc_currents)\n",
    "valid = np.where(rel_errs < 0.2)[0]"
   ]
  },
  {
   "cell_type": "code",
   "execution_count": 43,
   "metadata": {},
   "outputs": [
    {
     "name": "stdout",
     "output_type": "stream",
     "text": [
      "High Precision 4x4 currents QMF2 with RE = 0.8831072647067038 %\n"
     ]
    }
   ],
   "source": [
    "print(\"High Precision 4x4 currents QMF2 with RE =\", np.mean(rel_errs[valid]) * 100, \"%\")"
   ]
  },
  {
   "cell_type": "code",
   "execution_count": 44,
   "metadata": {},
   "outputs": [],
   "source": [
    "rel_errs = np.abs((kmc_currents - mf_currents)/kmc_currents)\n",
    "valid = np.where(rel_errs < 0.3)[0]"
   ]
  },
  {
   "cell_type": "code",
   "execution_count": 45,
   "metadata": {},
   "outputs": [
    {
     "name": "stdout",
     "output_type": "stream",
     "text": [
      "High Precision 4x4 currents MF1 with RE = 14.932570748387707 %\n"
     ]
    }
   ],
   "source": [
    "print(\"High Precision 4x4 currents MF1 with RE =\", np.mean(rel_errs[valid]) * 100, \"%\")"
   ]
  },
  {
   "cell_type": "code",
   "execution_count": 46,
   "metadata": {},
   "outputs": [],
   "source": [
    "rel_errs = np.abs((kmc_currents - mf2_currents)/kmc_currents)\n",
    "valid = np.where(rel_errs < 0.3)[0]"
   ]
  },
  {
   "cell_type": "code",
   "execution_count": 47,
   "metadata": {},
   "outputs": [
    {
     "name": "stdout",
     "output_type": "stream",
     "text": [
      "High Precision 4x4 currents MF2 with RE = 0.9413295284845815 %\n"
     ]
    }
   ],
   "source": [
    "print(\"High Precision 4x4 currents MF2 with RE =\", np.mean(rel_errs[valid]) * 100, \"%\")"
   ]
  },
  {
   "cell_type": "code",
   "execution_count": null,
   "metadata": {},
   "outputs": [],
   "source": []
  }
 ],
 "metadata": {
  "kernelspec": {
   "display_name": ".venv",
   "language": "python",
   "name": "python3"
  },
  "language_info": {
   "codemirror_mode": {
    "name": "ipython",
    "version": 3
   },
   "file_extension": ".py",
   "mimetype": "text/x-python",
   "name": "python",
   "nbconvert_exporter": "python",
   "pygments_lexer": "ipython3",
   "version": "3.8.10"
  },
  "orig_nbformat": 4
 },
 "nbformat": 4,
 "nbformat_minor": 2
}

{
 "cells": [
  {
   "cell_type": "code",
   "execution_count": 1,
   "metadata": {},
   "outputs": [
    {
     "name": "stderr",
     "output_type": "stream",
     "text": [
      "/tmp/ipykernel_4524/1068310634.py:30: MatplotlibDeprecationWarning: The seaborn styles shipped by Matplotlib are deprecated since 3.6, as they no longer correspond to the styles shipped by seaborn. However, they will remain available as 'seaborn-v0_8-<style>'. Alternatively, directly use the seaborn API instead.\n",
      "  plt.style.use('seaborn')\n"
     ]
    }
   ],
   "source": [
    "import sys\n",
    "sys.path.insert(0, \"../..\")\n",
    "def set_size(width = \"thesis\", fraction=1, subplots=(1, 1)):\n",
    "    if width == 'thesis':\n",
    "        width_pt = 426.79135\n",
    "    elif width == 'beamer':\n",
    "        width_pt = 307.28987\n",
    "    else:\n",
    "        width_pt = width\n",
    "\n",
    "    # Width of figure (in pts)\n",
    "    fig_width_pt = width_pt * fraction\n",
    "\n",
    "    # Convert from pt to inches\n",
    "    inches_per_pt = 1 / 72.27\n",
    "\n",
    "    # Golden ratio to set aesthetic figure height\n",
    "    golden_ratio = (5**0.5 - 1) / 2\n",
    "\n",
    "    # Figure width in inches\n",
    "    fig_width_in = fig_width_pt * inches_per_pt\n",
    "    # Figure height in inches\n",
    "    fig_height_in = fig_height_in = fig_width_in * golden_ratio * (subplots[0] / subplots[1])\n",
    "\n",
    "    fig_dim = (fig_width_in, fig_height_in)\n",
    "\n",
    "    return fig_dim\n",
    "import numpy as np\n",
    "from matplotlib import pyplot as plt\n",
    "plt.style.use('seaborn')\n",
    "\n",
    "from os import listdir\n",
    "from os.path import isfile, join\n",
    "\n",
    "from module.base.network import Network\n",
    "from module.simulation.meanfield import MeanField\n",
    "import module.components.CONST as CONST\n",
    "from module.simulation.set_meanfield2 import SetMeanField2\n",
    "from module.simulation.masterequation import MasterEquation\n",
    "from module.simulation.quick_meanfield2 import QuickMeanField2\n",
    "from module.components.lawrence_dist import LawrenceDist\n",
    "from module.components.discrete_gaussian1D import DiscreteGaussian1D\n",
    "\n",
    "from module.components.restricted_gaussian1D import RestrictedGaussian1D"
   ]
  },
  {
   "cell_type": "code",
   "execution_count": 33,
   "metadata": {},
   "outputs": [],
   "source": [
    "g = DiscreteGaussian1D()\n",
    "g2 = RestrictedGaussian1D()"
   ]
  },
  {
   "cell_type": "code",
   "execution_count": 34,
   "metadata": {},
   "outputs": [],
   "source": [
    "V_input = 0.14\n",
    "V_gate = 0.02"
   ]
  },
  {
   "cell_type": "code",
   "execution_count": 35,
   "metadata": {},
   "outputs": [],
   "source": [
    "me = MasterEquation(V_input, V_gate)\n",
    "net = Network(1, 1, 1,[[0,0,0], [0,0,0]])\n",
    "net.set_voltage_config([0, V_input], V_gate)\n",
    "mf = MeanField(net)\n",
    "mf2 = SetMeanField2(V_input, V_gate)\n",
    "qmf2 = QuickMeanField2(net)"
   ]
  },
  {
   "cell_type": "code",
   "execution_count": 36,
   "metadata": {},
   "outputs": [],
   "source": [
    "qmf2.numeric_integration_solve()\n",
    "probs_p24 = np.zeros(g.phase_space.shape)\n",
    "i0 = np.where(g.phase_space == np.floor(qmf2.means[0]))[0][0]\n",
    "probs_p24[i0-1:i0+3] = qmf2.calc_probability(np.array([0]))"
   ]
  },
  {
   "cell_type": "code",
   "execution_count": 37,
   "metadata": {},
   "outputs": [],
   "source": [
    "mf_mean = mf.numeric_integration_solve()[0]\n",
    "ld = LawrenceDist()\n",
    "probs_mf = ld.calc_prob(mf_mean)"
   ]
  },
  {
   "cell_type": "code",
   "execution_count": 38,
   "metadata": {},
   "outputs": [],
   "source": [
    "mean, var = mf2.solve()\n",
    "probs_mf2 = g.calc_prob(mean, var)"
   ]
  },
  {
   "cell_type": "code",
   "execution_count": 41,
   "metadata": {},
   "outputs": [
    {
     "data": {
      "image/png": "[encoded data removed]",
      "text/plain": [
       "<Figure size 413.386x638.716 with 3 Axes>"
      ]
     },
     "metadata": {},
     "output_type": "display_data"
    }
   ],
   "source": [
    "f, axs = plt.subplots(3, 1, figsize= set_size(subplots=(2.5,1), fraction = 0.7), sharex=True, sharey=True)\n",
    "\n",
    "window = np.arange(20 -2, 20 + 5)\n",
    "axs[0].bar(me.phase_space[window], me.solve()[window], width = 0.8, label = \"ME\")\n",
    "axs[0].bar(me.phase_space[window], probs_mf[window], width = 0.8, label = \"MF1\", alpha = 0.5, color = \"C1\")\n",
    "\n",
    "\n",
    "axs[1].bar(me.phase_space[window], me.solve()[window], width = 0.8, label = \"ME\")\n",
    "axs[1].bar(me.phase_space[window], probs_mf2[window], width = 0.8, label = \"MF2\", alpha = 0.5, color = \"C1\")\n",
    "\n",
    "axs[2].bar(me.phase_space[window], me.solve()[window], width = 0.8, label = \"ME\")\n",
    "axs[2].bar(me.phase_space[window], probs_p24[window], width = 0.8, label = \"QMF2\", alpha = 0.5, color = \"C1\")\n",
    "\n",
    "axs[0].legend()\n",
    "axs[1].legend()\n",
    "axs[2].legend()\n",
    "\n",
    "axs[2].set_xlabel(\"Phase Space $\\\\Omega$\")\n",
    "f.suptitle(\"Distributions for $U_i = \"+str(V_input)+\"\\\\,V$ and $U_g = \"+str(V_gate)+\"\\\\,V$\")\n",
    "\n",
    "f.tight_layout()\n",
    "plt.savefig(\"../../output/set/dist_comparison2.pdf\")\n"
   ]
  },
  {
   "cell_type": "code",
   "execution_count": null,
   "metadata": {},
   "outputs": [],
   "source": []
  },
  {
   "cell_type": "code",
   "execution_count": null,
   "metadata": {},
   "outputs": [],
   "source": []
  },
  {
   "cell_type": "code",
   "execution_count": null,
   "metadata": {},
   "outputs": [],
   "source": []
  }
 ],
 "metadata": {
  "kernelspec": {
   "display_name": ".venv",
   "language": "python",
   "name": "python3"
  },
  "language_info": {
   "codemirror_mode": {
    "name": "ipython",
    "version": 3
   },
   "file_extension": ".py",
   "mimetype": "text/x-python",
   "name": "python",
   "nbconvert_exporter": "python",
   "pygments_lexer": "ipython3",
   "version": "3.8.10"
  },
  "orig_nbformat": 4
 },
 "nbformat": 4,
 "nbformat_minor": 2
}

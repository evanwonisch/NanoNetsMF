{
 "cells": [
  {
   "cell_type": "code",
   "execution_count": 1,
   "metadata": {},
   "outputs": [
    {
     "name": "stderr",
     "output_type": "stream",
     "text": [
      "/tmp/ipykernel_3107/2397363.py:30: MatplotlibDeprecationWarning: The seaborn styles shipped by Matplotlib are deprecated since 3.6, as they no longer correspond to the styles shipped by seaborn. However, they will remain available as 'seaborn-v0_8-<style>'. Alternatively, directly use the seaborn API instead.\n",
      "  plt.style.use('seaborn')\n"
     ]
    }
   ],
   "source": [
    "import sys\n",
    "sys.path.insert(0, \"../..\")\n",
    "def set_size(width = \"thesis\", fraction=1, subplots=(1, 1)):\n",
    "    if width == 'thesis':\n",
    "        width_pt = 426.79135\n",
    "    elif width == 'beamer':\n",
    "        width_pt = 307.28987\n",
    "    else:\n",
    "        width_pt = width\n",
    "\n",
    "    # Width of figure (in pts)\n",
    "    fig_width_pt = width_pt * fraction\n",
    "\n",
    "    # Convert from pt to inches\n",
    "    inches_per_pt = 1 / 72.27\n",
    "\n",
    "    # Golden ratio to set aesthetic figure height\n",
    "    golden_ratio = (5**0.5 - 1) / 2\n",
    "\n",
    "    # Figure width in inches\n",
    "    fig_width_in = fig_width_pt * inches_per_pt\n",
    "    # Figure height in inches\n",
    "    fig_height_in = fig_height_in = fig_width_in * golden_ratio * (subplots[0] / subplots[1])\n",
    "\n",
    "    fig_dim = (fig_width_in, fig_height_in)\n",
    "\n",
    "    return fig_dim\n",
    "import numpy as np\n",
    "from matplotlib import pyplot as plt\n",
    "plt.style.use('seaborn')\n",
    "\n",
    "from os import listdir\n",
    "from os.path import isfile, join\n",
    "\n",
    "from module.base.network import Network\n",
    "from module.simulation.meanfield import MeanField\n",
    "import module.components.CONST as CONST\n",
    "from module.simulation.set_meanfield2 import SetMeanField2\n",
    "from module.simulation.masterequation import MasterEquation\n",
    "from module.simulation.quick_meanfield2 import QuickMeanField2\n",
    "from module.simulation.meanfield2 import MeanField2\n",
    "from module.components.lawrence_dist import LawrenceDist\n",
    "from module.components.discrete_gaussian1D import DiscreteGaussian1D\n",
    "\n",
    "from module.components.restricted_gaussian1D import RestrictedGaussian1D\n",
    "from module.components.p2_4dist import p2_4dist"
   ]
  },
  {
   "cell_type": "code",
   "execution_count": 2,
   "metadata": {},
   "outputs": [],
   "source": [
    "def calc_rel_freq(data):\n",
    "    data = data.round()\n",
    "    phase_space = np.arange(data.min(), data.max() + 1)\n",
    "    n = []\n",
    "    N = data.shape[0]\n",
    "    for i, val in enumerate(phase_space):\n",
    "        n.append(np.where(data == phase_space[i])[0].shape[0])\n",
    "\n",
    "    n = np.array(n)\n",
    "    probs = n/N\n",
    "\n",
    "    return phase_space, probs"
   ]
  },
  {
   "cell_type": "code",
   "execution_count": 3,
   "metadata": {},
   "outputs": [],
   "source": [
    "ld = LawrenceDist()\n",
    "p2dist = p2_4dist()"
   ]
  },
  {
   "cell_type": "code",
   "execution_count": 60,
   "metadata": {},
   "outputs": [],
   "source": [
    "island = 6"
   ]
  },
  {
   "cell_type": "code",
   "execution_count": 4,
   "metadata": {},
   "outputs": [],
   "source": [
    "# i = 15 # voltage config\n",
    "# island =  9 # island\n",
    "\n",
    "i = 189 # voltage config\n",
    "island =  9 # island\n",
    "voltage_config = np.loadtxt(\"../../data/cont_comparison/voltage_configs.csv\")[i]\n",
    "kmc_states = np.loadtxt(\"../../data/cont_comparison/kmc/\"+str(i)+\"_.csv\")\n",
    "kmc_phase_space, probs_kmc = calc_rel_freq(kmc_states[:, island])\n",
    "net = Network(4,4,1,[[0,0,0],[3,0,0],[0,3,0],[3,3,0]])\n",
    "net.set_voltage_config(voltage_config[0:4], 0)\n",
    "\n",
    "mf = MeanField(net)\n",
    "mf2 = MeanField2(net, include_covs = True)\n",
    "mf2_no_cov = MeanField2(net, include_covs = False)\n",
    "qmf2 = QuickMeanField2(net)"
   ]
  },
  {
   "cell_type": "code",
   "execution_count": 10,
   "metadata": {},
   "outputs": [],
   "source": [
    "means = np.zeros(16)\n",
    "qmf2.numeric_integration_solve(N = 0)\n",
    "qmf2.ADAM_solve(N = 0)"
   ]
  },
  {
   "cell_type": "code",
   "execution_count": 28,
   "metadata": {},
   "outputs": [],
   "source": [
    "mf2.ADAM_solve(N = 0)"
   ]
  },
  {
   "cell_type": "code",
   "execution_count": 18,
   "metadata": {},
   "outputs": [
    {
     "name": "stdout",
     "output_type": "stream",
     "text": [
      "convergence: 6.514405252421773e-05\n"
     ]
    }
   ],
   "source": [
    "# first order\n",
    "means = mf.numeric_integration_solve(means, verbose = True)\n",
    "probs_mf = ld.calc_prob(means[island])"
   ]
  },
  {
   "cell_type": "code",
   "execution_count": 61,
   "metadata": {},
   "outputs": [],
   "source": [
    "probs_mf = ld.calc_prob(means[island])"
   ]
  },
  {
   "cell_type": "code",
   "execution_count": 83,
   "metadata": {},
   "outputs": [
    {
     "name": "stdout",
     "output_type": "stream",
     "text": [
      "Adam convergence: (0.0933941476935019, 0.06617282502914641, 0.0314239928903061)\n"
     ]
    }
   ],
   "source": [
    "# full second order\n",
    "\n",
    "mf2.ADAM_solve(verbose = True, N = 30, dt = 0.1, reset = False)\n",
    "probs_mf2 = mf2.g1.calc_prob(mf2.means[island], mf2.vars[island])"
   ]
  },
  {
   "cell_type": "code",
   "execution_count": 62,
   "metadata": {},
   "outputs": [],
   "source": [
    "probs_mf2 = mf2.g1.calc_prob(mf2.means[island], mf2.vars[island])"
   ]
  },
  {
   "cell_type": "code",
   "execution_count": 21,
   "metadata": {},
   "outputs": [
    {
     "name": "stdout",
     "output_type": "stream",
     "text": [
      "Adam convergence: (0.057207429912004934, 0.05575569538898145, 0.0)\n"
     ]
    }
   ],
   "source": [
    "# second order cov = 0\n",
    "\n",
    "mf2_no_cov.ADAM_solve(verbose = True, N = 80)\n",
    "probs_mf2_no_cov = mf2.g1.calc_prob(mf2_no_cov.means[island], mf2_no_cov.vars[island])"
   ]
  },
  {
   "cell_type": "code",
   "execution_count": 63,
   "metadata": {},
   "outputs": [],
   "source": [
    "probs_mf2_no_cov = mf2.g1.calc_prob(mf2_no_cov.means[island], mf2_no_cov.vars[island])"
   ]
  },
  {
   "cell_type": "code",
   "execution_count": 13,
   "metadata": {},
   "outputs": [
    {
     "name": "stdout",
     "output_type": "stream",
     "text": [
      "ADAM convergence: (0.0025505348195423074, 0.007886550853482834)\n"
     ]
    }
   ],
   "source": [
    "# p^2-fdist\n",
    "\n",
    "#qmf2.numeric_integration_solve(verbose = True, dt = 0.1, reset = False)\n",
    "qmf2.ADAM_solve(N = 300, verbose = True, reset = False, learning_rate = 0.1)\n",
    "probs_qmf2 = p2dist.calc_prob(qmf2.means[island], qmf2.vars[island])"
   ]
  },
  {
   "cell_type": "code",
   "execution_count": 64,
   "metadata": {},
   "outputs": [],
   "source": [
    "probs_qmf2 = p2dist.calc_prob(qmf2.means[island], qmf2.vars[island])"
   ]
  },
  {
   "cell_type": "code",
   "execution_count": 84,
   "metadata": {},
   "outputs": [
    {
     "data": {
      "image/png": "[encoded data removed]",
      "text/plain": [
       "<Figure size 413.386x510.973 with 2 Axes>"
      ]
     },
     "metadata": {},
     "output_type": "display_data"
    }
   ],
   "source": [
    "f, axs = plt.subplots(2, 1, figsize = set_size(subplots=(2,1), fraction=0.7))\n",
    "\n",
    "window = np.arange(20 - 2, 20 + 4)\n",
    "window2 = np.arange(15 - 2, 15 + 4)\n",
    "\n",
    "# axs[0].bar(kmc_phase_space, probs_kmc, label = \"KMC\")\n",
    "# axs[0].bar(ld.phase_space[window], probs_mf[window], label = \"MF1\", alpha = 0.5)\n",
    "\n",
    "# axs[1].bar(kmc_phase_space, probs_kmc, label = \"KMC\")\n",
    "# axs[1].bar(p2dist.phase_space[window], probs_qmf2[window], alpha = 0.5, label = \"QMF2\")\n",
    "\n",
    "\n",
    "###\n",
    "\n",
    "axs[0].bar(kmc_phase_space, probs_kmc, label = \"KMC\")\n",
    "axs[0].bar(mf2.g1.phase_space[window2], probs_mf2[window2], label = \"MF2\", alpha = 0.5)\n",
    "\n",
    "axs[1].bar(kmc_phase_space, probs_kmc, label = \"KMC\")\n",
    "axs[1].bar(mf2_no_cov.g1.phase_space[window2], probs_mf2_no_cov[window2], label = \"MF2 cov = 0\", alpha = 0.5)\n",
    "\n",
    "\n",
    "axs[0].legend()\n",
    "axs[1].legend()\n",
    "\n",
    "axs[1].set_xlabel(\"Phase Space $\\\\Omega$\")\n",
    "f.suptitle(\"Distributions for different Methods\")\n",
    "\n",
    "f.tight_layout()\n",
    "#plt.savefig(\"../../output/dist_comparison/dist_comparison1_0.pdf\")"
   ]
  },
  {
   "cell_type": "code",
   "execution_count": 85,
   "metadata": {},
   "outputs": [
    {
     "data": {
      "image/png": "[encoded data removed]",
      "text/plain": [
       "<Figure size 590.551x364.981 with 1 Axes>"
      ]
     },
     "metadata": {},
     "output_type": "display_data"
    }
   ],
   "source": [
    "f = plt.figure(figsize = set_size())\n",
    "\n",
    "plt.errorbar(np.arange(16), np.mean(kmc_states, axis = 0), yerr = np.std(kmc_states, axis = 0), marker = \"o\", label = \"KMC\",  linestyle = \"\")\n",
    "\n",
    "d =  means - np.floor(means)\n",
    "plt.errorbar(np.arange(16) + 0.15, means, yerr = np.sqrt(d * (1-d)), linestyle = \"\", marker = \"o\", label = \"MF1\")\n",
    "\n",
    "plt.errorbar(np.arange(16) + 0.3, mf2.means, yerr = np.sqrt(mf2.vars), linestyle = \"\", marker = \"o\", label = \"MF2\")\n",
    "\n",
    "plt.errorbar(np.arange(16) + 0.45, mf2_no_cov.means, yerr = np.sqrt(mf2_no_cov.vars), linestyle = \"\", marker = \"o\", label = \"MF2 cov = 0\")\n",
    "\n",
    "plt.errorbar(np.arange(16) + 0.6, qmf2.means, yerr = np.sqrt(qmf2.vars), linestyle = \"\", marker = \"o\", label = \"QMF2\", color = \"C5\")\n",
    "\n",
    "plt.legend(ncol = 4, loc = \"upper center\")\n",
    "plt.ylim(-1.3, 2.2)\n",
    "\n",
    "f.suptitle(\"Occupation numbers for different Islands\")\n",
    "\n",
    "\n",
    "\n",
    "plt.xticks(np.arange(16), np.arange(16))\n",
    "plt.xlabel(\"Island Index\")\n",
    "plt.ylabel(\"$\\\\langle n \\\\rangle$\")\n",
    "\n",
    "\n",
    "f.tight_layout()\n",
    "\n",
    "#plt.savefig(\"../../output/dist_comparison/occ_numbers1.pdf\")"
   ]
  },
  {
   "cell_type": "code",
   "execution_count": 115,
   "metadata": {},
   "outputs": [
    {
     "data": {
      "text/plain": [
       "([<matplotlib.axis.XTick at 0x7f6e3059ed30>,\n",
       "  <matplotlib.axis.XTick at 0x7f6e3059ed00>,\n",
       "  <matplotlib.axis.XTick at 0x7f6e3059e7f0>,\n",
       "  <matplotlib.axis.XTick at 0x7f6e3058b4f0>,\n",
       "  <matplotlib.axis.XTick at 0x7f6e305645b0>,\n",
       "  <matplotlib.axis.XTick at 0x7f6e30564d90>,\n",
       "  <matplotlib.axis.XTick at 0x7f6e3056a5b0>,\n",
       "  <matplotlib.axis.XTick at 0x7f6df85d7f70>,\n",
       "  <matplotlib.axis.XTick at 0x7f6df827df40>,\n",
       "  <matplotlib.axis.XTick at 0x7f6dfb695790>,\n",
       "  <matplotlib.axis.XTick at 0x7f6df85ca280>,\n",
       "  <matplotlib.axis.XTick at 0x7f6df8931a90>,\n",
       "  <matplotlib.axis.XTick at 0x7f6df8c71640>,\n",
       "  <matplotlib.axis.XTick at 0x7f6df8aa7070>,\n",
       "  <matplotlib.axis.XTick at 0x7f6df8a857f0>,\n",
       "  <matplotlib.axis.XTick at 0x7f6df851ffa0>,\n",
       "  <matplotlib.axis.XTick at 0x7f6df8ac8ee0>,\n",
       "  <matplotlib.axis.XTick at 0x7f6df8a21970>,\n",
       "  <matplotlib.axis.XTick at 0x7f6df8b45be0>,\n",
       "  <matplotlib.axis.XTick at 0x7f6df85cfaf0>],\n",
       " [Text(0, 0, '0'),\n",
       "  Text(1, 0, '1'),\n",
       "  Text(2, 0, '2'),\n",
       "  Text(3, 0, '3'),\n",
       "  Text(4, 0, '0'),\n",
       "  Text(5, 0, '1'),\n",
       "  Text(6, 0, '2'),\n",
       "  Text(7, 0, '3'),\n",
       "  Text(8, 0, '0'),\n",
       "  Text(9, 0, '1'),\n",
       "  Text(10, 0, '2'),\n",
       "  Text(11, 0, '3'),\n",
       "  Text(12, 0, '0'),\n",
       "  Text(13, 0, '1'),\n",
       "  Text(14, 0, '2'),\n",
       "  Text(15, 0, '3'),\n",
       "  Text(16, 0, '0'),\n",
       "  Text(17, 0, '1'),\n",
       "  Text(18, 0, '2'),\n",
       "  Text(19, 0, '3')])"
      ]
     },
     "execution_count": 115,
     "metadata": {},
     "output_type": "execute_result"
    },
    {
     "data": {
      "image/png": "[encoded data removed]",
      "text/plain": [
       "<Figure size 800x550 with 1 Axes>"
      ]
     },
     "metadata": {},
     "output_type": "display_data"
    }
   ],
   "source": [
    "plt.imshow(np.concatenate((np.mean(kmc_states, axis = 0).reshape(4,4), means.reshape(4,4), mf2.means.reshape(4,4), mf2_no_cov.means.reshape(4,4), qmf2.means.reshape(4,4)), axis = 1), cmap = \"magma\")\n",
    "plt.grid()\n",
    "plt.axvline(3.5, color =\"black\", linewidth = 5)\n",
    "plt.axvline(7.5, color =\"black\", linewidth = 5)\n",
    "plt.axvline(11.5, color =\"black\", linewidth = 5)\n",
    "plt.axvline(15.5, color =\"black\", linewidth = 5)\n",
    "\n",
    "plt.xticks(np.arange(5*4),[0,1,2,3,0,1,2,3,0,1,2,3,0,1,2,3,0,1,2,3])"
   ]
  }
 ],
 "metadata": {
  "kernelspec": {
   "display_name": ".venv",
   "language": "python",
   "name": "python3"
  },
  "language_info": {
   "codemirror_mode": {
    "name": "ipython",
    "version": 3
   },
   "file_extension": ".py",
   "mimetype": "text/x-python",
   "name": "python",
   "nbconvert_exporter": "python",
   "pygments_lexer": "ipython3",
   "version": "3.8.10"
  },
  "orig_nbformat": 4
 },
 "nbformat": 4,
 "nbformat_minor": 2
}

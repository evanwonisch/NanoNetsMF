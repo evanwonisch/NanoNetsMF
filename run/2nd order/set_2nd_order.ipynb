{
 "cells": [
  {
   "cell_type": "code",
   "execution_count": 1,
   "metadata": {},
   "outputs": [],
   "source": [
    "import sys\n",
    "sys.path.insert(0, \"../..\")"
   ]
  },
  {
   "cell_type": "code",
   "execution_count": 2,
   "metadata": {},
   "outputs": [],
   "source": [
    "import numpy as np\n",
    "from matplotlib import pyplot as plt\n",
    "from module.base.network import Network\n",
    "from module.simulation.masterequation import MasterEquation\n",
    "import module.components.CONST as CONST\n",
    "from module.components.discrete_gaussian1D import DiscreteGaussian1D\n",
    "from module.simulation.meanfield import MeanField\n",
    "\n",
    "from module.simulation.set_meanfield2 import SetMeanField2"
   ]
  },
  {
   "cell_type": "code",
   "execution_count": 3,
   "metadata": {},
   "outputs": [],
   "source": [
    "input_voltage = 0\n",
    "gate_voltage = 0"
   ]
  },
  {
   "cell_type": "code",
   "execution_count": 4,
   "metadata": {},
   "outputs": [],
   "source": [
    "net = Network(1, 1, 1, [[0,0,0], [0,0,0]])\n",
    "net.set_voltage_config([input_voltage, 0], gate_voltage)\n",
    "me = MasterEquation(input_voltage, gate_voltage)\n",
    "gaussian = DiscreteGaussian1D()"
   ]
  },
  {
   "cell_type": "code",
   "execution_count": 5,
   "metadata": {},
   "outputs": [
    {
     "name": "stdout",
     "output_type": "stream",
     "text": [
      "convergence: 0.0038107648278830515\n",
      "me mean: -7.730132726101153e-05\n",
      "me var: 0.0006758785049855436\n"
     ]
    }
   ],
   "source": [
    "me_probs = me.solve(verbose = True)\n",
    "me_mean = np.sum(me.phase_space * me_probs)\n",
    "me_var = np.sum(me.phase_space ** 2 * me_probs) - me_mean**2\n",
    "print(\"me mean:\", me_mean)\n",
    "print(\"me var:\", me_var)"
   ]
  },
  {
   "cell_type": "code",
   "execution_count": 6,
   "metadata": {},
   "outputs": [
    {
     "name": "stdout",
     "output_type": "stream",
     "text": [
      "gauss mean: -7.730132726102568e-05\n",
      "gauss var: 7.729535176582935e-05\n"
     ]
    }
   ],
   "source": [
    "gauss_probs = gaussian.calc_prob(me_mean, me_var)\n",
    "gauss_mean = np.sum(gaussian.phase_space * gauss_probs)\n",
    "gauss_var = np.sum(gaussian.phase_space ** 2 * gauss_probs) - gauss_mean**2\n",
    "print(\"gauss mean:\", gauss_mean)\n",
    "print(\"gauss var:\", gauss_var)"
   ]
  },
  {
   "cell_type": "code",
   "execution_count": 7,
   "metadata": {},
   "outputs": [
    {
     "data": {
      "text/plain": [
       "<matplotlib.legend.Legend at 0x7f037bc3b910>"
      ]
     },
     "execution_count": 7,
     "metadata": {},
     "output_type": "execute_result"
    },
    {
     "data": {
      "image/png": "[encoded data removed]",
      "text/plain": [
       "<Figure size 300x300 with 1 Axes>"
      ]
     },
     "metadata": {},
     "output_type": "display_data"
    }
   ],
   "source": [
    "plt.figure(figsize = (3, 3))\n",
    "plt.bar(me.phase_space - 0.25, me_probs, width = 0.5, label = \"ME\")\n",
    "plt.bar(gaussian.phase_space + 0.25, gauss_probs, width = 0.5, label = \"Gauss\")\n",
    "plt.legend()"
   ]
  },
  {
   "cell_type": "code",
   "execution_count": 8,
   "metadata": {},
   "outputs": [],
   "source": [
    "def get_rate_to_island(phase_space):\n",
    "    \"\"\"\n",
    "    Calculates the total rate towards the island for given phase space snippet.\n",
    "    \"\"\"\n",
    "    space = np.expand_dims(phase_space, axis = -1)\n",
    "    return net.calc_rate_from_electrode(space, 0) + net.calc_rate_from_electrode(space, 1)\n",
    "    \n",
    "def get_rate_from_island(phase_space):\n",
    "    \"\"\"\n",
    "    Calculates the total rate towards the electrodes for given occupation number.\n",
    "    \"\"\"\n",
    "    space = np.expand_dims(phase_space, axis = -1)\n",
    "    return net.calc_rate_to_electrode(space, 0) + net.calc_rate_to_electrode(space, 1)\n",
    "\n",
    "def I(phase_space):\n",
    "    return get_rate_to_island(phase_space) - get_rate_from_island(phase_space)\n",
    "\n",
    "def I_dag(phase_space):\n",
    "    return get_rate_to_island(phase_space) + get_rate_from_island(phase_space)\n",
    "\n",
    "def dN2(phase_space):\n",
    "    return 2 * phase_space * I(phase_space) + I_dag(phase_space)"
   ]
  },
  {
   "cell_type": "code",
   "execution_count": 9,
   "metadata": {},
   "outputs": [
    {
     "name": "stdout",
     "output_type": "stream",
     "text": [
      "me dN: 0.0004358402317214984\n",
      "me dN2: -0.00381077353679101\n"
     ]
    }
   ],
   "source": [
    "me_dN = np.sum(I(me.phase_space) * me_probs)\n",
    "me_dN2 = np.sum(dN2(me.phase_space) * me_probs)\n",
    "print(\"me dN:\", me_dN)\n",
    "print(\"me dN2:\", me_dN2)"
   ]
  },
  {
   "cell_type": "code",
   "execution_count": 10,
   "metadata": {},
   "outputs": [
    {
     "name": "stdout",
     "output_type": "stream",
     "text": [
      "gauss dN: 0.00043583997974025614\n",
      "gauss dN2: -0.00043583997974025614\n"
     ]
    }
   ],
   "source": [
    "gauss_dN = np.sum(I(gaussian.phase_space) * gauss_probs)\n",
    "gauss_dN2 = np.sum(dN2(gaussian.phase_space) * gauss_probs)\n",
    "print(\"gauss dN:\", gauss_dN)\n",
    "print(\"gauss dN2:\", gauss_dN2)"
   ]
  },
  {
   "attachments": {},
   "cell_type": "markdown",
   "metadata": {},
   "source": [
    "#### Simulation\n",
    "---"
   ]
  },
  {
   "cell_type": "code",
   "execution_count": 11,
   "metadata": {},
   "outputs": [],
   "source": [
    "gauss_mean = me_mean - 4.8\n",
    "gauss_var = me_var / 4\n",
    "\n",
    "dt = 0.01\n",
    "\n",
    "gauss_probs = gaussian.calc_prob(gauss_mean, gauss_var)"
   ]
  },
  {
   "cell_type": "code",
   "execution_count": 12,
   "metadata": {},
   "outputs": [
    {
     "data": {
      "text/plain": [
       "<matplotlib.legend.Legend at 0x7f037b7f4ca0>"
      ]
     },
     "execution_count": 12,
     "metadata": {},
     "output_type": "execute_result"
    },
    {
     "data": {
      "image/png": "[encoded data removed]",
      "text/plain": [
       "<Figure size 300x300 with 1 Axes>"
      ]
     },
     "metadata": {},
     "output_type": "display_data"
    }
   ],
   "source": [
    "plt.figure(figsize = (3, 3))\n",
    "plt.bar(me.phase_space - 0.25, me_probs, width = 0.5, label = \"ME\")\n",
    "plt.bar(gaussian.phase_space + 0.25, gauss_probs, width = 0.5, label = \"Gauss\")\n",
    "plt.legend()"
   ]
  },
  {
   "cell_type": "code",
   "execution_count": 26,
   "metadata": {},
   "outputs": [
    {
     "name": "stdout",
     "output_type": "stream",
     "text": [
      "convergence: 0.00016858585880602918\n",
      "convergence: 0.00015908065884503463\n",
      "convergence: 0.00015011138062108923\n",
      "convergence: 0.00014164780782046577\n",
      "convergence: 0.00013366142778322435\n",
      "convergence: 0.0001261253354488179\n",
      "convergence: 0.00011901414271817679\n",
      "convergence: 0.00011230389292241945\n",
      "convergence: 0.00010597198011400034\n",
      "convergence: 9.999707291613842e-05\n",
      "convergence: 9.435904265447482e-05\n",
      "convergence: 8.903889555062039e-05\n",
      "convergence: 8.401870873033632e-05\n",
      "convergence: 7.928156984666525e-05\n",
      "convergence: 7.481152010455837e-05\n"
     ]
    }
   ],
   "source": [
    "for i in range(15):\n",
    "    gauss_probs = gaussian.calc_prob(gauss_mean, gauss_var)\n",
    "    gauss_dN = np.sum(I(gaussian.phase_space) * gauss_probs)\n",
    "    gauss_dN2 = np.sum(dN2(gaussian.phase_space) * gauss_probs)\n",
    "    gauss_dvar = gauss_dN2 - 2 * gauss_mean * gauss_dN\n",
    "\n",
    "    gauss_mean += dt * gauss_dN\n",
    "    gauss_var += dt * gauss_dvar\n",
    "\n",
    "    print(\"convergence:\", max(np.abs(gauss_dN), np.abs(gauss_dvar)))"
   ]
  },
  {
   "cell_type": "code",
   "execution_count": 27,
   "metadata": {},
   "outputs": [
    {
     "name": "stdout",
     "output_type": "stream",
     "text": [
      "gauss mean: -7.730132726102568e-05\n",
      "gauss var: 7.729535176582935e-05\n"
     ]
    }
   ],
   "source": [
    "gauss_probs = gaussian.calc_prob(me_mean, me_var)\n",
    "gauss_mean = np.sum(gaussian.phase_space * gauss_probs)\n",
    "gauss_var = np.sum(gaussian.phase_space ** 2 * gauss_probs) - gauss_mean**2\n",
    "print(\"gauss mean:\", gauss_mean)\n",
    "print(\"gauss var:\", gauss_var)"
   ]
  },
  {
   "cell_type": "code",
   "execution_count": 28,
   "metadata": {},
   "outputs": [
    {
     "data": {
      "text/plain": [
       "<matplotlib.legend.Legend at 0x7f037b713c10>"
      ]
     },
     "execution_count": 28,
     "metadata": {},
     "output_type": "execute_result"
    },
    {
     "data": {
      "image/png": "[encoded data removed]",
      "text/plain": [
       "<Figure size 500x500 with 1 Axes>"
      ]
     },
     "metadata": {},
     "output_type": "display_data"
    }
   ],
   "source": [
    "plt.figure(figsize = (5, 5))\n",
    "plt.bar(me.phase_space - 0.25, me_probs, width = 0.5, label = \"ME\")\n",
    "plt.bar(gaussian.phase_space + 0.25, gauss_probs, width = 0.5, label = \"Gauss\")\n",
    "plt.legend()"
   ]
  },
  {
   "cell_type": "code",
   "execution_count": 29,
   "metadata": {},
   "outputs": [
    {
     "name": "stdout",
     "output_type": "stream",
     "text": [
      "comparison of means and variances of Master Equation and Mean Field:\n",
      "d_mean: -1.4148838350935833e-17\n",
      "d_var: -0.0005985831532197142\n"
     ]
    }
   ],
   "source": [
    "print(\"comparison of means and variances of Master Equation and Mean Field:\")\n",
    "print(\"d_mean:\", gauss_mean - me_mean)\n",
    "print(\"d_var:\", gauss_var - me_var)"
   ]
  },
  {
   "cell_type": "code",
   "execution_count": 30,
   "metadata": {},
   "outputs": [
    {
     "name": "stdout",
     "output_type": "stream",
     "text": [
      "me current: -3.491465177106649e-05\n",
      "convergence: 0.0\n"
     ]
    },
    {
     "data": {
      "text/plain": [
       "-0.0"
      ]
     },
     "execution_count": 30,
     "metadata": {},
     "output_type": "execute_result"
    }
   ],
   "source": [
    "print(\"me current:\", me.expected_current(me_probs))\n",
    "mf = MeanField(net)\n",
    "n = mf.numeric_integration_solve(verbose = True)\n",
    "-(mf.calc_expected_electrode_rates(n, 1)) * CONST.electron_charge"
   ]
  },
  {
   "attachments": {},
   "cell_type": "markdown",
   "metadata": {},
   "source": [
    "#### SetMeanField2 class\n",
    "---"
   ]
  },
  {
   "cell_type": "code",
   "execution_count": 31,
   "metadata": {},
   "outputs": [],
   "source": [
    "mf2 = SetMeanField2(input_voltage, gate_voltage)"
   ]
  },
  {
   "cell_type": "code",
   "execution_count": 32,
   "metadata": {},
   "outputs": [
    {
     "name": "stdout",
     "output_type": "stream",
     "text": [
      "convergence: 1.5605357774488167e-86\n",
      "mean: 0.0\n",
      "var: 0.0\n"
     ]
    }
   ],
   "source": [
    "mean, var = mf2.solve(verbose = True, dt = 0.01, N = 250)\n",
    "print(\"mean:\", mean)\n",
    "print(\"var:\", var)"
   ]
  },
  {
   "cell_type": "code",
   "execution_count": 33,
   "metadata": {},
   "outputs": [],
   "source": [
    "mean_ = np.sum(mf2.gaussian.phase_space * mf2.gaussian.calc_prob(mean, var))\n",
    "var_ = np.sum(mf2.gaussian.phase_space ** 2 * mf2.gaussian.calc_prob(mean, var)) - mean_ **2"
   ]
  },
  {
   "cell_type": "code",
   "execution_count": null,
   "metadata": {},
   "outputs": [],
   "source": []
  }
 ],
 "metadata": {
  "kernelspec": {
   "display_name": ".venv",
   "language": "python",
   "name": "python3"
  },
  "language_info": {
   "codemirror_mode": {
    "name": "ipython",
    "version": 3
   },
   "file_extension": ".py",
   "mimetype": "text/x-python",
   "name": "python",
   "nbconvert_exporter": "python",
   "pygments_lexer": "ipython3",
   "version": "3.8.10"
  },
  "orig_nbformat": 4
 },
 "nbformat": 4,
 "nbformat_minor": 2
}

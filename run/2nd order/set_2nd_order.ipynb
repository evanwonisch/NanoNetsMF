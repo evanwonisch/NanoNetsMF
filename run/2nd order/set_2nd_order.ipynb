{
 "cells": [
  {
   "cell_type": "code",
   "execution_count": 1,
   "metadata": {},
   "outputs": [],
   "source": [
    "import sys\n",
    "sys.path.insert(0, \"../..\")"
   ]
  },
  {
   "cell_type": "code",
   "execution_count": 2,
   "metadata": {},
   "outputs": [],
   "source": [
    "import numpy as np\n",
    "from matplotlib import pyplot as plt\n",
    "from module.base.network import Network\n",
    "from module.simulation.masterequation import MasterEquation\n",
    "import module.components.CONST as CONST\n",
    "from module.components.discrete_gaussian1D import DiscreteGaussian1D\n",
    "from module.simulation.meanfield import MeanField\n",
    "\n",
    "from module.simulation.set_meanfield2 import SetMeanField2"
   ]
  },
  {
   "cell_type": "code",
   "execution_count": 3,
   "metadata": {},
   "outputs": [],
   "source": [
    "input_voltage = -0.2\n",
    "gate_voltage = -0.02"
   ]
  },
  {
   "cell_type": "code",
   "execution_count": 4,
   "metadata": {},
   "outputs": [],
   "source": [
    "net = Network(1, 1, 1, [[0,0,0], [0,0,0]])\n",
    "net.set_voltage_config([input_voltage, 0], gate_voltage)\n",
    "me = MasterEquation(input_voltage, gate_voltage)\n",
    "gaussian = DiscreteGaussian1D()"
   ]
  },
  {
   "cell_type": "code",
   "execution_count": 5,
   "metadata": {},
   "outputs": [
    {
     "name": "stdout",
     "output_type": "stream",
     "text": [
      "convergence: 2.2885351391721542e-07\n",
      "me mean: -2.166491494671686\n",
      "me var: 1.9653458880298595\n"
     ]
    }
   ],
   "source": [
    "me_probs = me.solve(verbose = True)\n",
    "me_mean = np.sum(me.phase_space * me_probs)\n",
    "me_var = np.sum(me.phase_space ** 2 * me_probs) - me_mean**2\n",
    "print(\"me mean:\", me_mean)\n",
    "print(\"me var:\", me_var)"
   ]
  },
  {
   "cell_type": "code",
   "execution_count": 6,
   "metadata": {},
   "outputs": [
    {
     "name": "stdout",
     "output_type": "stream",
     "text": [
      "gauss mean: -2.1664914946716864\n",
      "gauss var: 1.9643862466234898\n"
     ]
    }
   ],
   "source": [
    "gauss_probs = gaussian.calc_prob(me_mean, me_var)\n",
    "gauss_mean = np.sum(gaussian.phase_space * gauss_probs)\n",
    "gauss_var = np.sum(gaussian.phase_space ** 2 * gauss_probs) - gauss_mean**2\n",
    "print(\"gauss mean:\", gauss_mean)\n",
    "print(\"gauss var:\", gauss_var)"
   ]
  },
  {
   "cell_type": "code",
   "execution_count": 8,
   "metadata": {},
   "outputs": [
    {
     "data": {
      "text/plain": [
       "<matplotlib.legend.Legend at 0x7f3fd46a9cd0>"
      ]
     },
     "execution_count": 8,
     "metadata": {},
     "output_type": "execute_result"
    },
    {
     "data": {
      "image/png": "[encoded data removed]",
      "text/plain": [
       "<Figure size 300x300 with 1 Axes>"
      ]
     },
     "metadata": {},
     "output_type": "display_data"
    }
   ],
   "source": [
    "plt.figure(figsize = (3, 3))\n",
    "plt.bar(me.phase_space - 0.25, me_probs, width = 0.5, label = \"ME\")\n",
    "plt.bar(gaussian.phase_space + 0.25, gauss_probs, width = 0.5, label = \"Gauss\")\n",
    "plt.legend()"
   ]
  },
  {
   "cell_type": "code",
   "execution_count": 9,
   "metadata": {},
   "outputs": [],
   "source": [
    "def get_rate_to_island(phase_space):\n",
    "    \"\"\"\n",
    "    Calculates the total rate towards the island for given phase space snippet.\n",
    "    \"\"\"\n",
    "    space = np.expand_dims(phase_space, axis = -1)\n",
    "    return net.calc_rate_from_electrode(space, 0) + net.calc_rate_from_electrode(space, 1)\n",
    "    \n",
    "def get_rate_from_island(phase_space):\n",
    "    \"\"\"\n",
    "    Calculates the total rate towards the electrodes for given occupation number.\n",
    "    \"\"\"\n",
    "    space = np.expand_dims(phase_space, axis = -1)\n",
    "    return net.calc_rate_to_electrode(space, 0) + net.calc_rate_to_electrode(space, 1)\n",
    "\n",
    "def I(phase_space):\n",
    "    return get_rate_to_island(phase_space) - get_rate_from_island(phase_space)\n",
    "\n",
    "def I_dag(phase_space):\n",
    "    return get_rate_to_island(phase_space) + get_rate_from_island(phase_space)\n",
    "\n",
    "def dN2(phase_space):\n",
    "    return 2 * phase_space * I(phase_space) + I_dag(phase_space)"
   ]
  },
  {
   "cell_type": "code",
   "execution_count": 10,
   "metadata": {},
   "outputs": [
    {
     "name": "stdout",
     "output_type": "stream",
     "text": [
      "me dN: -1.9075150394787244e-06\n",
      "me dN2: 8.257747840190177e-06\n"
     ]
    }
   ],
   "source": [
    "me_dN = np.sum(I(me.phase_space) * me_probs)\n",
    "me_dN2 = np.sum(dN2(me.phase_space) * me_probs)\n",
    "print(\"me dN:\", me_dN)\n",
    "print(\"me dN2:\", me_dN2)"
   ]
  },
  {
   "cell_type": "code",
   "execution_count": 11,
   "metadata": {},
   "outputs": [
    {
     "name": "stdout",
     "output_type": "stream",
     "text": [
      "gauss dN: -0.0001462502095206375\n",
      "gauss dN2: 0.10286869498052198\n"
     ]
    }
   ],
   "source": [
    "gauss_dN = np.sum(I(gaussian.phase_space) * gauss_probs)\n",
    "gauss_dN2 = np.sum(dN2(gaussian.phase_space) * gauss_probs)\n",
    "print(\"gauss dN:\", gauss_dN)\n",
    "print(\"gauss dN2:\", gauss_dN2)"
   ]
  },
  {
   "attachments": {},
   "cell_type": "markdown",
   "metadata": {},
   "source": [
    "#### Simulation\n",
    "---"
   ]
  },
  {
   "cell_type": "code",
   "execution_count": 12,
   "metadata": {},
   "outputs": [],
   "source": [
    "gauss_mean = me_mean - 4.8\n",
    "gauss_var = me_var / 4\n",
    "\n",
    "dt = 0.01\n",
    "\n",
    "gauss_probs = gaussian.calc_prob(gauss_mean, gauss_var)"
   ]
  },
  {
   "cell_type": "code",
   "execution_count": 13,
   "metadata": {},
   "outputs": [
    {
     "data": {
      "text/plain": [
       "<matplotlib.legend.Legend at 0x7f3fd45bcc70>"
      ]
     },
     "execution_count": 13,
     "metadata": {},
     "output_type": "execute_result"
    },
    {
     "data": {
      "image/png": "[encoded data removed]",
      "text/plain": [
       "<Figure size 300x300 with 1 Axes>"
      ]
     },
     "metadata": {},
     "output_type": "display_data"
    }
   ],
   "source": [
    "plt.figure(figsize = (3, 3))\n",
    "plt.bar(me.phase_space - 0.25, me_probs, width = 0.5, label = \"ME\")\n",
    "plt.bar(gaussian.phase_space + 0.25, gauss_probs, width = 0.5, label = \"Gauss\")\n",
    "plt.legend()"
   ]
  },
  {
   "cell_type": "code",
   "execution_count": 18,
   "metadata": {},
   "outputs": [
    {
     "name": "stdout",
     "output_type": "stream",
     "text": [
      "convergence: 0.04336541996617416\n",
      "convergence: 0.03848633114312672\n",
      "convergence: 0.034156194976552756\n",
      "convergence: 0.03031324782619005\n",
      "convergence: 0.026902675241712304\n",
      "convergence: 0.023875830080476224\n",
      "convergence: 0.021189538600184576\n",
      "convergence: 0.018805484627358204\n",
      "convergence: 0.016689663016533185\n",
      "convergence: 0.014811894603653286\n",
      "convergence: 0.013145395734325271\n",
      "convergence: 0.011666396226451159\n",
      "convergence: 0.010353800317296713\n",
      "convergence: 0.00918888575878185\n",
      "convergence: 0.00815503676847551\n"
     ]
    }
   ],
   "source": [
    "for i in range(15):\n",
    "    gauss_probs = gaussian.calc_prob(gauss_mean, gauss_var)\n",
    "    gauss_dN = np.sum(I(gaussian.phase_space) * gauss_probs)\n",
    "    gauss_dN2 = np.sum(dN2(gaussian.phase_space) * gauss_probs)\n",
    "    gauss_dvar = gauss_dN2 - 2 * gauss_mean * gauss_dN\n",
    "\n",
    "    gauss_mean += dt * gauss_dN\n",
    "    gauss_var += dt * gauss_dvar\n",
    "\n",
    "    print(\"convergence:\", max(np.abs(gauss_dN), np.abs(gauss_dvar)))"
   ]
  },
  {
   "cell_type": "code",
   "execution_count": 19,
   "metadata": {},
   "outputs": [
    {
     "name": "stdout",
     "output_type": "stream",
     "text": [
      "gauss mean: -2.1664914946716864\n",
      "gauss var: 1.9643862466234898\n"
     ]
    }
   ],
   "source": [
    "gauss_probs = gaussian.calc_prob(me_mean, me_var)\n",
    "gauss_mean = np.sum(gaussian.phase_space * gauss_probs)\n",
    "gauss_var = np.sum(gaussian.phase_space ** 2 * gauss_probs) - gauss_mean**2\n",
    "print(\"gauss mean:\", gauss_mean)\n",
    "print(\"gauss var:\", gauss_var)"
   ]
  },
  {
   "cell_type": "code",
   "execution_count": 20,
   "metadata": {},
   "outputs": [
    {
     "data": {
      "text/plain": [
       "<matplotlib.legend.Legend at 0x7f3fd4473c70>"
      ]
     },
     "execution_count": 20,
     "metadata": {},
     "output_type": "execute_result"
    },
    {
     "data": {
      "image/png": "[encoded data removed]",
      "text/plain": [
       "<Figure size 500x500 with 1 Axes>"
      ]
     },
     "metadata": {},
     "output_type": "display_data"
    }
   ],
   "source": [
    "plt.figure(figsize = (5, 5))\n",
    "plt.bar(me.phase_space - 0.25, me_probs, width = 0.5, label = \"ME\")\n",
    "plt.bar(gaussian.phase_space + 0.25, gauss_probs, width = 0.5, label = \"Gauss\")\n",
    "plt.legend()"
   ]
  },
  {
   "cell_type": "code",
   "execution_count": 21,
   "metadata": {},
   "outputs": [
    {
     "name": "stdout",
     "output_type": "stream",
     "text": [
      "comparison of means and variances of Master Equation and Mean Field:\n",
      "d_mean: -4.440892098500626e-16\n",
      "d_var: -0.0009596414063697267\n"
     ]
    }
   ],
   "source": [
    "print(\"comparison of means and variances of Master Equation and Mean Field:\")\n",
    "print(\"d_mean:\", gauss_mean - me_mean)\n",
    "print(\"d_var:\", gauss_var - me_var)"
   ]
  },
  {
   "cell_type": "code",
   "execution_count": 22,
   "metadata": {},
   "outputs": [
    {
     "name": "stdout",
     "output_type": "stream",
     "text": [
      "me current: -3.5485858036960103\n",
      "convergence: 0.0\n"
     ]
    },
    {
     "data": {
      "text/plain": [
       "-3.5483307619383253"
      ]
     },
     "execution_count": 22,
     "metadata": {},
     "output_type": "execute_result"
    }
   ],
   "source": [
    "print(\"me current:\", me.expected_current(me_probs))\n",
    "mf = MeanField(net)\n",
    "n = mf.numeric_integration_solve(verbose = True)\n",
    "-(mf.calc_expected_electrode_rates(n, 1)) * CONST.electron_charge"
   ]
  },
  {
   "attachments": {},
   "cell_type": "markdown",
   "metadata": {},
   "source": [
    "#### SetMeanField2 class\n",
    "---"
   ]
  },
  {
   "cell_type": "code",
   "execution_count": 30,
   "metadata": {},
   "outputs": [],
   "source": [
    "mf2 = SetMeanField2(input_voltage, gate_voltage)"
   ]
  },
  {
   "cell_type": "code",
   "execution_count": 31,
   "metadata": {},
   "outputs": [
    {
     "name": "stdout",
     "output_type": "stream",
     "text": [
      "convergence: 2.6201905090061928e-08\n",
      "mean: -2.1665029764906794\n",
      "var: 1.9699409875511895\n"
     ]
    }
   ],
   "source": [
    "mean, var = mf2.solve(verbose = True)\n",
    "print(\"mean:\", mean)\n",
    "print(\"var:\", var)"
   ]
  },
  {
   "cell_type": "code",
   "execution_count": 32,
   "metadata": {},
   "outputs": [
    {
     "data": {
      "text/plain": [
       "-3.54919046249033"
      ]
     },
     "execution_count": 32,
     "metadata": {},
     "output_type": "execute_result"
    }
   ],
   "source": [
    "mf2.calc_expected_output_current(mean, var)"
   ]
  },
  {
   "cell_type": "code",
   "execution_count": null,
   "metadata": {},
   "outputs": [],
   "source": []
  }
 ],
 "metadata": {
  "kernelspec": {
   "display_name": ".venv",
   "language": "python",
   "name": "python3"
  },
  "language_info": {
   "codemirror_mode": {
    "name": "ipython",
    "version": 3
   },
   "file_extension": ".py",
   "mimetype": "text/x-python",
   "name": "python",
   "nbconvert_exporter": "python",
   "pygments_lexer": "ipython3",
   "version": "3.8.10"
  },
  "orig_nbformat": 4
 },
 "nbformat": 4,
 "nbformat_minor": 2
}

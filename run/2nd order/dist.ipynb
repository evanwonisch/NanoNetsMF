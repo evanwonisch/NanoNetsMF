{
 "cells": [
  {
   "cell_type": "code",
   "execution_count": 1,
   "metadata": {},
   "outputs": [],
   "source": [
    "import sys\n",
    "sys.path.insert(0, \"../..\")"
   ]
  },
  {
   "cell_type": "code",
   "execution_count": 2,
   "metadata": {},
   "outputs": [],
   "source": [
    "import numpy as np\n",
    "from matplotlib import pyplot as plt\n",
    "from module.components.discrete_gaussian1D import DiscreteGaussian1D"
   ]
  },
  {
   "attachments": {},
   "cell_type": "markdown",
   "metadata": {},
   "source": [
    "## Distribution Test Site\n",
    "It is tried to find a discrete distribution given its mean and variance Due to theoretical reasoning, and maximizing entropy under constrains, the functional form of the distribution $p(m)$ for $m \\in \\mathbb{Z}$ is:\n",
    "\n",
    "$$\n",
    "p_m = \\frac{1}{Z}e^{-\\alpha(m - \\mu)^2} \\quad\\text{for}\\quad m \\in \\mathbb{Z}\n",
    "$$\n",
    "\n",
    "It's variance-threshold is $p_c (1-p_c)$, where $p_c$ are the decimal places of the mean. Lower variances are not possible and it is thus resorted to Lawrence' distribution."
   ]
  },
  {
   "cell_type": "code",
   "execution_count": 7,
   "metadata": {},
   "outputs": [],
   "source": [
    "g = DiscreteGaussian1D()\n",
    "phase_space = g.phase_space"
   ]
  },
  {
   "cell_type": "code",
   "execution_count": 12,
   "metadata": {},
   "outputs": [],
   "source": [
    "probs = g.calc_prob(5.43, 0.23)"
   ]
  },
  {
   "cell_type": "code",
   "execution_count": 13,
   "metadata": {},
   "outputs": [
    {
     "name": "stdout",
     "output_type": "stream",
     "text": [
      "mean: 5.43\n",
      "var: 0.24510000000000076\n"
     ]
    }
   ],
   "source": [
    "mean = np.sum(phase_space * probs)\n",
    "var = np.sum(phase_space ** 2 * probs) - mean **2\n",
    "print(\"mean:\", mean)\n",
    "print(\"var:\", var)"
   ]
  }
 ],
 "metadata": {
  "kernelspec": {
   "display_name": ".venv",
   "language": "python",
   "name": "python3"
  },
  "language_info": {
   "codemirror_mode": {
    "name": "ipython",
    "version": 3
   },
   "file_extension": ".py",
   "mimetype": "text/x-python",
   "name": "python",
   "nbconvert_exporter": "python",
   "pygments_lexer": "ipython3",
   "version": "3.8.10"
  },
  "orig_nbformat": 4
 },
 "nbformat": 4,
 "nbformat_minor": 2
}

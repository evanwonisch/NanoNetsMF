{
 "cells": [
  {
   "cell_type": "code",
   "execution_count": 3,
   "metadata": {},
   "outputs": [],
   "source": [
    "import numpy as np\n",
    "from matplotlib import pyplot as plt\n",
    "import timeit"
   ]
  },
  {
   "attachments": {},
   "cell_type": "markdown",
   "metadata": {},
   "source": [
    "## Distribution Test Site\n",
    "It is tried to find a discrete distribution given its mean and variance Due to theoretical reasoning, and maximizing entropy under constrains, the functional form of the distribution $p(m)$ for $m \\in \\mathbb{Z}$ is:\n",
    "\n",
    "$$\n",
    "p_m = \\frac{1}{Z}e^{-\\alpha(m - \\mu)^2} \\quad\\text{for}\\quad m \\in \\mathbb{Z}\n",
    "$$\n",
    "\n",
    "It's variance-threshold is $p_c (1-p_c)$, where $p_c$ are the decimal places of the mean. Lower variances are not possible and it is thus resorted to Lawrence' distribution."
   ]
  },
  {
   "cell_type": "code",
   "execution_count": 261,
   "metadata": {},
   "outputs": [],
   "source": [
    "phase_space = np.arange(-20, 20)\n",
    "# prob = np.array([0.2, 0.3, ......]) shape = phase_space.shape"
   ]
  },
  {
   "cell_type": "code",
   "execution_count": 384,
   "metadata": {},
   "outputs": [],
   "source": [
    "def calc_prob(phase_space, my, alpha):\n",
    "    alpha = np.abs(alpha)\n",
    "    decimals = my - np.floor(my)\n",
    "\n",
    "    if alpha <= 0.3: # lawrence dist for too small variances\n",
    "        low = np.where(phase_space == np.floor(my))[0][0]\n",
    "        pre = np.zeros(phase_space.shape)\n",
    "        pre[low] = 1 - decimals\n",
    "        pre[low + 1] = decimals\n",
    "\n",
    "        return pre\n",
    "    \n",
    "    pre = np.exp(-(phase_space - my)**2 / alpha)\n",
    "    \n",
    "    Z = np.sum(pre, axis = 0)\n",
    "    return pre / Z"
   ]
  },
  {
   "cell_type": "code",
   "execution_count": 385,
   "metadata": {},
   "outputs": [],
   "source": [
    "def get_param(target_mean, target_var):\n",
    "    target_mean = np.array(target_mean, dtype=\"float\")\n",
    "    target_var = np.array(target_var, dtype=\"float\")\n",
    "    decimals = target_mean - np.floor(target_mean)\n",
    "\n",
    "    # initial conditions\n",
    "    dt = 1\n",
    "    my = np.copy(target_mean)\n",
    "    alpha = np.copy(target_var)\n",
    "\n",
    "    opt_alpha = target_var > decimals * (1 - decimals)\n",
    "    if not opt_alpha:\n",
    "        alpha = 0\n",
    "\n",
    "    for i in range(10):\n",
    "        probs = calc_prob(phase_space, my, alpha)\n",
    "        mean = np.sum(phase_space * probs)\n",
    "        var = np.sum(phase_space**2 * probs) - mean**2\n",
    "\n",
    "        delta_mean = target_mean - mean\n",
    "        delta_var = target_var - var\n",
    "\n",
    "        my += dt * delta_mean\n",
    "        if opt_alpha:\n",
    "            alpha += dt * delta_var\n",
    "\n",
    "    return my, alpha"
   ]
  },
  {
   "cell_type": "code",
   "execution_count": 401,
   "metadata": {},
   "outputs": [
    {
     "name": "stdout",
     "output_type": "stream",
     "text": [
      "mean: 2.260918004276306\n",
      "0.3011527968400032\n",
      "var: 0.19842648298633225\n"
     ]
    }
   ],
   "source": [
    "# result\n",
    "my, alpha = get_param(2.345678, 0.233)\n",
    "probs = calc_prob(phase_space, my, alpha)\n",
    "print(\"mean:\", np.sum(phase_space * probs))\n",
    "print(\"var:\",  np.sum(phase_space**2 * probs) - np.sum(phase_space * probs)**2)"
   ]
  },
  {
   "cell_type": "code",
   "execution_count": 402,
   "metadata": {},
   "outputs": [
    {
     "data": {
      "text/plain": [
       "<BarContainer object of 40 artists>"
      ]
     },
     "execution_count": 402,
     "metadata": {},
     "output_type": "execute_result"
    },
    {
     "data": {
      "image/png": "[encoded data removed]",
      "text/plain": [
       "<Figure size 640x480 with 1 Axes>"
      ]
     },
     "metadata": {},
     "output_type": "display_data"
    }
   ],
   "source": [
    "plt.bar(phase_space, probs)"
   ]
  },
  {
   "cell_type": "code",
   "execution_count": null,
   "metadata": {},
   "outputs": [],
   "source": []
  }
 ],
 "metadata": {
  "kernelspec": {
   "display_name": ".venv",
   "language": "python",
   "name": "python3"
  },
  "language_info": {
   "codemirror_mode": {
    "name": "ipython",
    "version": 3
   },
   "file_extension": ".py",
   "mimetype": "text/x-python",
   "name": "python",
   "nbconvert_exporter": "python",
   "pygments_lexer": "ipython3",
   "version": "3.8.10"
  },
  "orig_nbformat": 4
 },
 "nbformat": 4,
 "nbformat_minor": 2
}

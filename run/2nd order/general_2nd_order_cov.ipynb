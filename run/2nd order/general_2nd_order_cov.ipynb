{
 "cells": [
  {
   "cell_type": "code",
   "execution_count": 1,
   "metadata": {},
   "outputs": [],
   "source": [
    "import sys\n",
    "sys.path.insert(0, \"../..\")"
   ]
  },
  {
   "cell_type": "code",
   "execution_count": 2,
   "metadata": {},
   "outputs": [],
   "source": [
    "import numpy as np\n",
    "from matplotlib import pyplot as plt\n",
    "\n",
    "from module.base.network import Network\n",
    "\n",
    "from module.components.discrete_gaussian1D import DiscreteGaussian1D\n",
    "from module.components.discrete_gaussian2D import DiscreteGaussian2D\n",
    "from module.components.lawrence_dist import LawrenceDist\n",
    "\n",
    "from module.simulation.meanfield import MeanField\n",
    "from module.simulation.set_meanfield2 import SetMeanField2\n",
    "\n",
    "import module.components.CONST as CONST\n",
    "\n",
    "from module.simulation.meanfield2 import MeanField2"
   ]
  },
  {
   "cell_type": "code",
   "execution_count": 3,
   "metadata": {},
   "outputs": [],
   "source": [
    "net = Network(3,3,1, [[0,0,0], [2,0,0], [0,2,0], [2,2,0]])\n",
    "net.set_voltage_config([-2.625876307246630126e-01, -9.355253310870321679e-03, 1.687528930716121478e-02, -1.963316637927263186e-01], 5.020559674550297523e-03)\n",
    "net.set_voltage_config([0.1,0,-0.02,0.01],0.03)\n",
    "\n",
    "mf = MeanField(net)\n",
    "\n",
    "g2 = DiscreteGaussian2D(phase_space_bounds_n=(-5,5), phase_space_bounds_m=(-5,5))\n",
    "g1 = DiscreteGaussian1D(phase_space_min=-5, phase_space_max=5)"
   ]
  },
  {
   "cell_type": "code",
   "execution_count": 4,
   "metadata": {},
   "outputs": [],
   "source": [
    "neighbour_table = net.get_nearest_neighbours(np.arange(0, net.N_particles))\n",
    "\n",
    "covs = np.zeros((net.N_particles, 6))\n",
    "def get_cov(i, j):\n",
    "    table_index = np.where(neighbour_table[i] == j)[0]\n",
    "    if table_index.shape[0] == 0:\n",
    "        return 0\n",
    "\n",
    "    return covs[i, table_index[0]]\n",
    "\n",
    "def set_cov(i, j, value):\n",
    "    table_index = np.where(neighbour_table[i] == j)[0]\n",
    "    if table_index.shape[0] == 1:\n",
    "        covs[i, table_index[0]] = value\n",
    "\n",
    "    table_index = np.where(neighbour_table[j] == i)[0]\n",
    "    if table_index.shape[0] == 1:\n",
    "        covs[j, table_index[0]] = value\n",
    "\n",
    "dcovs = np.zeros((net.N_particles, 6))\n",
    "def get_dcov(i, j):\n",
    "    table_index = np.where(neighbour_table[i] == j)[0]\n",
    "    if table_index.shape[0] == 0:\n",
    "        return 0\n",
    "\n",
    "    return dcovs[i, table_index[0]]\n",
    "\n",
    "def set_dcov(i, j, value):\n",
    "    table_index = np.where(neighbour_table[i] == j)[0]\n",
    "    if table_index.shape[0] == 1:\n",
    "        dcovs[i, table_index[0]] = value\n",
    "\n",
    "    table_index = np.where(neighbour_table[j] == i)[0]\n",
    "    if table_index.shape[0] == 1:\n",
    "        dcovs[j, table_index[0]] = value"
   ]
  },
  {
   "attachments": {},
   "cell_type": "markdown",
   "metadata": {},
   "source": [
    "---"
   ]
  },
  {
   "cell_type": "code",
   "execution_count": 5,
   "metadata": {},
   "outputs": [],
   "source": [
    "def calc_effective_states(i, j):\n",
    "    phase_space = g2.phase_space\n",
    "    states = np.repeat(np.expand_dims(means, axis = [0, 1]), phase_space.shape[0], axis = 0)\n",
    "    states = np.repeat(states, phase_space.shape[1], axis = 1)\n",
    "\n",
    "    states[:,:,i] = phase_space[:,:,0]\n",
    "    states[:,:,j] = phase_space[:,:,1]\n",
    "    \n",
    "    return states"
   ]
  },
  {
   "attachments": {},
   "cell_type": "markdown",
   "metadata": {},
   "source": [
    "---\n",
    "$$\n",
    "\\langle I_{ij} \\rangle\n",
    "$$"
   ]
  },
  {
   "cell_type": "code",
   "execution_count": 6,
   "metadata": {},
   "outputs": [],
   "source": [
    "def calc_R_island(i, j):\n",
    "    states = calc_effective_states(i, j)\n",
    "    rates = net.calc_rate_island(states, i, j)\n",
    "    return rates\n",
    "\n",
    "def calc_R_island_inv(i, j):\n",
    "    states = calc_effective_states(i, j)\n",
    "    rates = net.calc_rate_island(states, j, i)\n",
    "    return rates"
   ]
  },
  {
   "attachments": {},
   "cell_type": "markdown",
   "metadata": {},
   "source": [
    "---\n",
    "$$\n",
    "\\langle I_{ei} \\rangle\n",
    "$$"
   ]
  },
  {
   "cell_type": "code",
   "execution_count": 7,
   "metadata": {},
   "outputs": [],
   "source": [
    "def calc_R_from_electrode(electrode_index):\n",
    "    phase_space = g1.phase_space\n",
    "    states = np.expand_dims(means, axis = 0)\n",
    "    states = np.repeat(states, phase_space.shape[0], axis = 0)\n",
    "\n",
    "    island_index = net.get_linear_indices(net.electrode_pos[electrode_index])\n",
    "    states[:, island_index] = phase_space\n",
    "    rates = net.calc_rate_from_electrode(states, electrode_index)\n",
    "    return rates\n",
    "\n",
    "def calc_R_to_electrode(electrode_index):\n",
    "    phase_space = g1.phase_space\n",
    "    states = np.expand_dims(means, axis = 0)\n",
    "    states = np.repeat(states, phase_space.shape[0], axis = 0)\n",
    "\n",
    "    island_index = net.get_linear_indices(net.electrode_pos[electrode_index])\n",
    "    states[:, island_index] = phase_space\n",
    "    rates = net.calc_rate_to_electrode(states, electrode_index)\n",
    "    return rates"
   ]
  },
  {
   "attachments": {},
   "cell_type": "markdown",
   "metadata": {},
   "source": [
    "---\n",
    "$$\n",
    "\\langle n_i I_{ei} \\rangle\n",
    "$$"
   ]
  },
  {
   "cell_type": "code",
   "execution_count": 8,
   "metadata": {},
   "outputs": [],
   "source": [
    "def calc_nR_to_electrode(electrode_index):\n",
    "    phase_space = g1.phase_space\n",
    "    rates = calc_R_to_electrode(electrode_index)\n",
    "    values = rates * phase_space \n",
    "    return values\n",
    "\n",
    "def calc_nR_from_electrode(electrode_index):\n",
    "    phase_space = g1.phase_space\n",
    "    rates = calc_R_from_electrode(electrode_index)\n",
    "    values = rates * phase_space \n",
    "    return values"
   ]
  },
  {
   "attachments": {},
   "cell_type": "markdown",
   "metadata": {},
   "source": [
    "---\n",
    "$$\n",
    "\\langle n_i I_{ej} \\rangle\n",
    "$$"
   ]
  },
  {
   "cell_type": "code",
   "execution_count": 9,
   "metadata": {},
   "outputs": [],
   "source": [
    "def calc_nR_from_electrode_2(i, electrode_index):\n",
    "    phase_space = g2.phase_space\n",
    "    island_index = net.get_linear_indices(net.electrode_pos[electrode_index])\n",
    "\n",
    "    states = calc_effective_states(i, island_index)\n",
    "    rates = net.calc_rate_from_electrode(states, electrode_index)\n",
    "\n",
    "    return rates * phase_space[:,:,0]\n",
    "\n",
    "def calc_nR_to_electrode_2(i, electrode_index):\n",
    "    phase_space = g2.phase_space\n",
    "    island_index = net.get_linear_indices(net.electrode_pos[electrode_index])\n",
    "\n",
    "    states = calc_effective_states(i, island_index)\n",
    "    rates = net.calc_rate_to_electrode(states, electrode_index)\n",
    "\n",
    "    return rates * phase_space[:,:,0]"
   ]
  },
  {
   "attachments": {},
   "cell_type": "markdown",
   "metadata": {},
   "source": [
    "---\n",
    "$$\n",
    "\\langle n_j I_{ij} \\rangle\n",
    "$$"
   ]
  },
  {
   "cell_type": "code",
   "execution_count": 10,
   "metadata": {},
   "outputs": [],
   "source": [
    "def calc_nR_island(i, j):\n",
    "    phase_space = g2.phase_space\n",
    "    rates = calc_R_island(i, j)\n",
    "    values = rates * phase_space[:,:,1] \n",
    "    return values\n",
    "\n",
    "def calc_nR_island_inv(i, j):\n",
    "    phase_space = g2.phase_space\n",
    "    rates = calc_R_island_inv(i, j)\n",
    "    values = rates * phase_space[:,:,1] \n",
    "    return values"
   ]
  },
  {
   "attachments": {},
   "cell_type": "markdown",
   "metadata": {},
   "source": [
    "---\n",
    "$$\n",
    "\\langle n_i I_{ij} \\rangle\n",
    "$$"
   ]
  },
  {
   "cell_type": "code",
   "execution_count": 11,
   "metadata": {},
   "outputs": [],
   "source": [
    "def calc_nR_island_alt(i, j):\n",
    "    phase_space = g2.phase_space\n",
    "    rates = calc_R_island(i, j)\n",
    "    values = rates * phase_space[:,:,0] \n",
    "    return values\n",
    "\n",
    "def calc_nR_island_inv_alt(i, j):\n",
    "    phase_space = g2.phase_space\n",
    "    rates = calc_R_island_inv(i, j)\n",
    "    values = rates * phase_space[:,:,0] \n",
    "    return values"
   ]
  },
  {
   "attachments": {},
   "cell_type": "markdown",
   "metadata": {},
   "source": [
    "---\n",
    "## Run"
   ]
  },
  {
   "cell_type": "code",
   "execution_count": 12,
   "metadata": {},
   "outputs": [],
   "source": [
    "mf_means = mf.numeric_integration_solve(N = 30)\n",
    "\n",
    "means = mf_means -0.5\n",
    "vars = np.ones(net.N_particles)\n",
    "covs = np.zeros((net.N_particles, 6))"
   ]
  },
  {
   "cell_type": "code",
   "execution_count": 27,
   "metadata": {},
   "outputs": [
    {
     "name": "stdout",
     "output_type": "stream",
     "text": [
      "0.08523289634338904 0.04925715381742525 0.11337158480147602\n",
      "0.17732616896968073 0.2601115124887352 0.19539040011080716\n",
      "0.1040763390766441 0.11793355871669664 0.1233823147457524\n",
      "0.0847873306982006 0.062104312643195755 0.11804836766435425\n",
      "0.06967080874975073 0.030061661340709304 0.11515626892238054\n",
      "0.05766768073212908 0.01524103078641699 0.11367083931054695\n",
      "0.04802284720196598 0.015948094129767824 0.11298994235821674\n",
      "0.04018140709433454 0.016390731791092676 0.11276097635293292\n",
      "0.033738943986900416 0.016684212865144224 0.11277895064317778\n",
      "0.029829318012669193 0.016895771565183487 0.11292495325349748\n",
      "0.026898484622961183 0.01706353816097356 0.11313052367728797\n",
      "0.06595129096203078 0.10467316819324998 0.13998751745886656\n",
      "0.010056872186053667 0.04370223534204953 0.1104681660201435\n",
      "0.006877789012983193 0.03314593795161486 0.11076065595414727\n",
      "0.03084043629666605 0.10753290952165778 0.1241425020796661\n",
      "0.012373603249489551 0.06341238756255807 0.10763012108483952\n",
      "0.015821897833660947 0.04461354870200443 0.1102884414492445\n",
      "0.010067131806698326 0.015158011434314618 0.12501665111011193\n",
      "0.003592810670076607 0.026694257324384057 0.11147023607210571\n",
      "0.0026000327286481717 0.014749780389867765 0.11297232268354881\n"
     ]
    }
   ],
   "source": [
    "dt = 0.07\n",
    "for epoch in range(20):\n",
    "    l_R = np.zeros(net.N_particles)\n",
    "    r_R = np.zeros(net.N_particles)\n",
    "    l_nR = np.zeros(net.N_particles)\n",
    "    r_nR = np.zeros(net.N_particles)\n",
    "\n",
    "    for i in range(net.N_particles):\n",
    "        for j in neighbour_table[i]:\n",
    "            if not j == -1: # all neighbour relations\n",
    "                probs = g2.calc_prob(means[j], means[i], vars[j], vars[i],get_cov(i, j))\n",
    "                l_R[i] += np.sum(probs * calc_R_island(j, i))\n",
    "                l_nR[i] += np.sum(probs * calc_nR_island(j, i))\n",
    "                r_R[i] += np.sum(probs * calc_R_island_inv(j, i))\n",
    "                r_nR[i] += np.sum(probs * calc_nR_island_inv(j, i))\n",
    "                \n",
    "    l_R_electrodes = np.zeros(net.N_particles)\n",
    "    r_R_electrodes = np.zeros(net.N_particles)\n",
    "    l_nR_electrodes = np.zeros(net.N_particles)\n",
    "    r_nR_electrodes = np.zeros(net.N_particles)\n",
    "\n",
    "    for electrode_index, pos in enumerate(net.electrode_pos):\n",
    "        i = net.get_linear_indices(pos)\n",
    "\n",
    "        probs = g1.calc_prob(means[i], vars[i])\n",
    "        l_R_electrodes[i] += np.sum(probs * calc_R_from_electrode(electrode_index)) \n",
    "        l_nR_electrodes[i] += np.sum(probs * calc_nR_from_electrode(electrode_index))\n",
    "\n",
    "        r_R_electrodes[i] += np.sum(probs * calc_R_to_electrode(electrode_index)) \n",
    "        r_nR_electrodes[i] += np.sum(probs * calc_nR_to_electrode(electrode_index))\n",
    "\n",
    "    # islands\n",
    "    I_islands = l_R - r_R\n",
    "    I_dag_islands = l_R + r_R\n",
    "\n",
    "    nI_islands = l_nR - r_nR\n",
    "\n",
    "    # electrodes\n",
    "    I_electrodes = l_R_electrodes - r_R_electrodes\n",
    "    I_dag_electrodes = l_R_electrodes + r_R_electrodes\n",
    "\n",
    "    nI_electrodes = l_nR_electrodes - r_nR_electrodes\n",
    "\n",
    "    # total\n",
    "    I = I_islands + I_electrodes\n",
    "    I_dag = I_dag_islands + I_dag_electrodes\n",
    "    nI = nI_islands + nI_electrodes\n",
    "    \n",
    "    d_mean = I\n",
    "    d_var = (2 * nI + I_dag) - 2 * means * I\n",
    "\n",
    "    dcovs = np.zeros((net.N_particles, 6)) # reset dcovs\n",
    "  \n",
    "    for i in range(net.N_particles):\n",
    "        for j in neighbour_table[i]:\n",
    "            if not j == -1:\n",
    "                probs = g2.calc_prob(means[i], means[j], vars[i], vars[j], get_cov(i, j))\n",
    "                probs2 = g2.calc_prob(means[j], means[i], vars[j], vars[i], get_cov(i, j))\n",
    "                island_indices = net.get_linear_indices(net.electrode_pos)\n",
    "\n",
    "\n",
    "                # < ni Ij >\n",
    "                dcov = means[i] * I_islands[j]\n",
    "                dcov -= means[i] * np.sum(probs * (calc_R_island(i, j) - calc_R_island_inv(i, j)))\n",
    "                dcov += np.sum(probs * (calc_nR_island_alt(i, j) - calc_nR_island_inv_alt(i, j)))\n",
    "\n",
    "                electrode_index = np.where(island_indices == j)[0]\n",
    "                if electrode_index.shape[0] == 1:\n",
    "                    dcov += np.sum(probs * (calc_nR_from_electrode_2(i, electrode_index[0]) - calc_nR_to_electrode_2(i, electrode_index[0])))\n",
    "\n",
    "\n",
    "                # < nj Ii >\n",
    "                dcov += means[j] * I_islands[i]\n",
    "                dcov -= means[j] * np.sum(probs2 * (calc_R_island(j, i) - calc_R_island_inv(j, i)))\n",
    "                dcov += np.sum(probs2 * (calc_nR_island_alt(j, i) - calc_nR_island_inv_alt(j, i)))\n",
    "\n",
    "                electrode_index = np.where(island_indices == i)[0]\n",
    "                if electrode_index.shape[0] == 1:\n",
    "                    dcov += np.sum(probs2 * (calc_nR_from_electrode_2(j, electrode_index[0]) - calc_nR_to_electrode_2(j, electrode_index[0])))\n",
    "\n",
    "                # < I^dag_ij >\n",
    "                dcov -= np.sum(probs * (calc_R_island(i, j) + calc_R_island_inv(i, j)))\n",
    "\n",
    "                set_dcov(i, j, dcov - d_mean[i] * means[j] - means[i] * d_mean[j])\n",
    "\n",
    "    means += dt * d_mean\n",
    "    vars += dt * d_var\n",
    "    covs += dt * dcovs\n",
    "\n",
    "    vars = np.where(vars < 0, 0, vars)\n",
    "\n",
    "    if  epoch % 1 == 0:\n",
    "        print(np.abs(d_mean).max() , np.abs(d_var).max(), np.abs(dcovs).max())"
   ]
  },
  {
   "cell_type": "code",
   "execution_count": 28,
   "metadata": {},
   "outputs": [],
   "source": [
    "def calc_expected_electrode_rates(electrode_index):\n",
    "    r = calc_R_from_electrode(electrode_index) - calc_R_to_electrode(electrode_index)\n",
    "\n",
    "    island_index = net.get_linear_indices(net.electrode_pos[electrode_index])\n",
    "    probs = g1.calc_prob(means[island_index], vars[island_index])\n",
    "    ex = np.sum(probs * r)\n",
    "\n",
    "    return ex"
   ]
  },
  {
   "cell_type": "code",
   "execution_count": 33,
   "metadata": {},
   "outputs": [
    {
     "data": {
      "text/plain": [
       "array([ 1.04288827,  0.28198657, -0.41583115,  0.14286173, -0.08883153,\n",
       "       -0.27882616, -0.7576052 , -0.40000635, -0.53825922])"
      ]
     },
     "execution_count": 33,
     "metadata": {},
     "output_type": "execute_result"
    }
   ],
   "source": [
    "means"
   ]
  },
  {
   "cell_type": "code",
   "execution_count": 34,
   "metadata": {},
   "outputs": [
    {
     "data": {
      "text/plain": [
       "array([ 1.14150097,  0.30730644, -0.45897255,  0.17305524, -0.04159311,\n",
       "       -0.18970848, -0.81723591, -0.25285378, -0.68534517])"
      ]
     },
     "execution_count": 34,
     "metadata": {},
     "output_type": "execute_result"
    }
   ],
   "source": [
    "mf_means"
   ]
  },
  {
   "cell_type": "code",
   "execution_count": 35,
   "metadata": {},
   "outputs": [
    {
     "data": {
      "text/plain": [
       "array([0.59983553, 0.41770078, 0.32000612, 0.48506631, 0.48641707,\n",
       "       0.24886813, 0.45206578, 0.29028644, 0.25122507])"
      ]
     },
     "execution_count": 35,
     "metadata": {},
     "output_type": "execute_result"
    }
   ],
   "source": [
    "vars"
   ]
  },
  {
   "cell_type": "code",
   "execution_count": 36,
   "metadata": {},
   "outputs": [
    {
     "name": "stdout",
     "output_type": "stream",
     "text": [
      "0.27973461104147185 -0.3239193813594737\n"
     ]
    }
   ],
   "source": [
    "print(np.max(covs),np.min(covs)) "
   ]
  },
  {
   "cell_type": "code",
   "execution_count": 37,
   "metadata": {},
   "outputs": [],
   "source": [
    "mf2 = MeanField2(net)"
   ]
  },
  {
   "cell_type": "code",
   "execution_count": 40,
   "metadata": {},
   "outputs": [
    {
     "name": "stdout",
     "output_type": "stream",
     "text": [
      "convergence mean: 0.041564266483561874\n",
      "convergence variances: 0.0015047791965758454\n",
      "convergence covariances: 0.05475964431994855\n"
     ]
    }
   ],
   "source": [
    "mf2.solve(N = 30, verbose = True)"
   ]
  },
  {
   "cell_type": "code",
   "execution_count": 41,
   "metadata": {},
   "outputs": [
    {
     "data": {
      "text/plain": [
       "array([ 1.04435951,  0.28543475, -0.41312669,  0.14373513, -0.07977314,\n",
       "       -0.29354926, -0.75567032, -0.39935911, -0.50160199])"
      ]
     },
     "execution_count": 41,
     "metadata": {},
     "output_type": "execute_result"
    }
   ],
   "source": [
    "mf2.means"
   ]
  },
  {
   "cell_type": "code",
   "execution_count": 42,
   "metadata": {},
   "outputs": [
    {
     "data": {
      "text/plain": [
       "array([0.59899772, 0.41893085, 0.32082247, 0.48467492, 0.49251492,\n",
       "       0.24720308, 0.45329269, 0.30024278, 0.25086565])"
      ]
     },
     "execution_count": 42,
     "metadata": {},
     "output_type": "execute_result"
    }
   ],
   "source": [
    "mf2.vars"
   ]
  },
  {
   "cell_type": "code",
   "execution_count": null,
   "metadata": {},
   "outputs": [],
   "source": []
  }
 ],
 "metadata": {
  "kernelspec": {
   "display_name": ".venv",
   "language": "python",
   "name": "python3"
  },
  "language_info": {
   "codemirror_mode": {
    "name": "ipython",
    "version": 3
   },
   "file_extension": ".py",
   "mimetype": "text/x-python",
   "name": "python",
   "nbconvert_exporter": "python",
   "pygments_lexer": "ipython3",
   "version": "3.8.10"
  },
  "orig_nbformat": 4
 },
 "nbformat": 4,
 "nbformat_minor": 2
}

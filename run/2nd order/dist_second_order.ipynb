{
 "cells": [
  {
   "cell_type": "code",
   "execution_count": 74,
   "metadata": {},
   "outputs": [],
   "source": [
    "import sys\n",
    "sys.path.insert(0, \"../..\")"
   ]
  },
  {
   "cell_type": "code",
   "execution_count": 75,
   "metadata": {},
   "outputs": [],
   "source": [
    "import numpy as np\n",
    "from matplotlib import pyplot as plt\n",
    "from module.components.discrete_gaussian1D import DiscreteGaussian1D\n",
    "from module.components.discrete_gaussian2D import DiscreteGaussian2D\n",
    "from module.components.lawrence_dist import LawrenceDist"
   ]
  },
  {
   "attachments": {},
   "cell_type": "markdown",
   "metadata": {},
   "source": [
    "## Distribution Test Site\n",
    "It is tried to find a discrete two-dimensional distribution given its mean and variance. Due to theoretical reasoning, and maximizing entropy under constrains, the functional form of the distribution $p(n,m)$ for $n,m \\in \\mathbb{Z}$ is:\n",
    "\n",
    "$$\n",
    "p(n, m) = \\frac{1}{Z}e^{-(\\frac{n - \\mu_1}{\\alpha_1})^2 -(\\frac{m - \\mu_2}{\\alpha_2})^2 + \\lambda n m}\n",
    "$$"
   ]
  },
  {
   "cell_type": "code",
   "execution_count": 76,
   "metadata": {},
   "outputs": [],
   "source": [
    "g2 = DiscreteGaussian2D()\n",
    "phase_space = g2.phase_space"
   ]
  },
  {
   "cell_type": "code",
   "execution_count": 77,
   "metadata": {},
   "outputs": [
    {
     "data": {
      "text/plain": [
       "0.7059997886490681"
      ]
     },
     "execution_count": 77,
     "metadata": {},
     "output_type": "execute_result"
    }
   ],
   "source": [
    "np.random.rand()"
   ]
  },
  {
   "cell_type": "code",
   "execution_count": 121,
   "metadata": {},
   "outputs": [
    {
     "name": "stdout",
     "output_type": "stream",
     "text": [
      "   -0.0345\n",
      "    0.0243\n",
      "   -0.0540\n",
      "   -0.0417\n",
      "    0.0426\n"
     ]
    }
   ],
   "source": [
    "t_mean_n = np.random.randn()*5\n",
    "t_mean_m = np.random.randn()*5\n",
    "t_var_n = np.abs(np.random.randn())*0.1 + (t_mean_n % 1)* (1 - t_mean_n % 1)\n",
    "t_var_m = np.abs(np.random.randn())*0.1 + (t_mean_m % 1)* (1 - t_mean_m % 1)\n",
    "t_cov = (2*np.random.rand()-1) * np.sqrt(t_var_n * t_var_m)*0.95\n",
    "\n",
    "probs = g2.calc_prob(t_mean_n, t_mean_m, t_var_n, t_var_m, t_cov)\n",
    "mean_n = np.sum(phase_space[:,:,0] * probs)\n",
    "mean_m = np.sum(phase_space[:,:,1] * probs)\n",
    "var_n = np.sum(phase_space[:,:,0] ** 2 * probs) - mean_n **2\n",
    "var_m = np.sum(phase_space[:,:,1] **2 * probs) - mean_m **2\n",
    "cov =  np.sum(phase_space[:,:,0] * phase_space[:,:,1] * probs) - mean_n * mean_m\n",
    "\n",
    "print(\"{:10.4f}\".format(t_mean_n - mean_n))\n",
    "print(\"{:10.4f}\".format(t_mean_m - mean_m))\n",
    "print(\"{:10.4f}\".format(t_var_n - var_n))\n",
    "print(\"{:10.4f}\".format(t_var_m - var_m))\n",
    "print(\"{:10.4f}\".format(t_cov - cov))"
   ]
  },
  {
   "cell_type": "code",
   "execution_count": 122,
   "metadata": {},
   "outputs": [
    {
     "data": {
      "text/plain": [
       "<matplotlib.image.AxesImage at 0x7f259e5690a0>"
      ]
     },
     "execution_count": 122,
     "metadata": {},
     "output_type": "execute_result"
    },
    {
     "data": {
      "image/png": "[encoded data removed]",
      "text/plain": [
       "<Figure size 640x480 with 1 Axes>"
      ]
     },
     "metadata": {},
     "output_type": "display_data"
    }
   ],
   "source": [
    "plt.imshow(probs)"
   ]
  },
  {
   "cell_type": "code",
   "execution_count": null,
   "metadata": {},
   "outputs": [],
   "source": []
  }
 ],
 "metadata": {
  "kernelspec": {
   "display_name": ".venv",
   "language": "python",
   "name": "python3"
  },
  "language_info": {
   "codemirror_mode": {
    "name": "ipython",
    "version": 3
   },
   "file_extension": ".py",
   "mimetype": "text/x-python",
   "name": "python",
   "nbconvert_exporter": "python",
   "pygments_lexer": "ipython3",
   "version": "3.8.10"
  },
  "orig_nbformat": 4
 },
 "nbformat": 4,
 "nbformat_minor": 2
}

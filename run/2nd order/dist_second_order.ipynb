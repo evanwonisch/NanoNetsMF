{
 "cells": [
  {
   "cell_type": "code",
   "execution_count": 1,
   "metadata": {},
   "outputs": [],
   "source": [
    "import sys\n",
    "sys.path.insert(0, \"../..\")"
   ]
  },
  {
   "cell_type": "code",
   "execution_count": 2,
   "metadata": {},
   "outputs": [],
   "source": [
    "import numpy as np\n",
    "from matplotlib import pyplot as plt\n",
    "from module.components.discrete_gaussian1D import DiscreteGaussian1D\n",
    "from module.components.lawrence_dist import LawrenceDist"
   ]
  },
  {
   "attachments": {},
   "cell_type": "markdown",
   "metadata": {},
   "source": [
    "## Distribution Test Site\n",
    "It is tried to find a discrete two-dimensional distribution given its mean and variance. Due to theoretical reasoning, and maximizing entropy under constrains, the functional form of the distribution $p(n,m)$ for $n,m \\in \\mathbb{Z}$ is:\n",
    "\n",
    "$$\n",
    "p(n, m) = \\frac{1}{Z}e^{-(\\frac{n - \\mu_1}{\\alpha_1})^2 -(\\frac{m - \\mu_2}{\\alpha_2})^2 + \\lambda n m}\n",
    "$$"
   ]
  },
  {
   "cell_type": "code",
   "execution_count": 3,
   "metadata": {},
   "outputs": [],
   "source": [
    "phase_space = np.stack(np.meshgrid(np.arange(-20, 20), np.arange(-20, 20)), axis = -1)"
   ]
  },
  {
   "cell_type": "code",
   "execution_count": 4,
   "metadata": {},
   "outputs": [],
   "source": [
    "def calc_prob(mean_n, mean_m, var_n, var_m, cov):\n",
    "    thresh = 0.3\n",
    "    if var_n < thresh:\n",
    "        var_n = thresh\n",
    "    if var_m < thresh:\n",
    "        var_m = thresh\n",
    "\n",
    "    if cov**2 >= var_n * var_m * 0.95:\n",
    "       cov = np.sign(cov) * np.sqrt(var_n * var_m) * 0.95\n",
    "\n",
    "    cov_matrix = np.array([[var_n, cov],[cov, var_m]])\n",
    "    inv_cov_matrix = np.linalg.inv(cov_matrix)\n",
    "    x = phase_space - np.array([mean_n, mean_m])\n",
    "    q = np.squeeze(inv_cov_matrix @ np.expand_dims(x, axis = -1))\n",
    "    exp = -0.5 * np.sum(x * q, axis = -1)\n",
    "    probs = np.exp(exp)\n",
    "    Z = np.sum(probs)\n",
    "\n",
    "    if Z < 1e-3:\n",
    "        print(\"emergency\")\n",
    "        return calc_prob(mean_n, mean_m, var_n, var_n, cov * 0.95)\n",
    "\n",
    "    return probs / Z"
   ]
  },
  {
   "cell_type": "code",
   "execution_count": 5,
   "metadata": {},
   "outputs": [],
   "source": [
    "#target values\n",
    "t_mean_n = -5.654\n",
    "t_mean_m = 2.42\n",
    "t_var_n = 0.377\n",
    "t_var_m = 0.356\n",
    "t_cov = 0.72 * np.sqrt(t_var_n * t_var_m)\n",
    "\n",
    "#initial parameters\n",
    "p_mean_n = t_mean_n\n",
    "p_mean_m = t_mean_m\n",
    "p_var_n = t_var_n\n",
    "p_var_m = t_var_m\n",
    "p_cov = t_cov\n",
    "\n",
    "dt = 0.5\n",
    "probs = None\n",
    "for i in range(15):\n",
    "    #current values\n",
    "    probs = calc_prob(p_mean_n, p_mean_m, p_var_n, p_var_m, p_cov)\n",
    "    mean_n = np.sum(phase_space[:,:,0] * probs)\n",
    "    mean_m = np.sum(phase_space[:,:,1] * probs)\n",
    "    var_n = np.sum(phase_space[:,:,0] ** 2 * probs) - mean_n **2\n",
    "    var_m = np.sum(phase_space[:,:,1] **2 * probs) - mean_m **2\n",
    "    cov =  np.sum(phase_space[:,:,0] * phase_space[:,:,1] * probs) - mean_n * mean_m\n",
    "\n",
    "    #deltas\n",
    "    d_mean_n = t_mean_n - mean_n\n",
    "    d_mean_m = t_mean_m - mean_m\n",
    "    d_var_n = t_var_n - var_n\n",
    "    d_var_m = t_var_m - var_m\n",
    "    d_cov = t_cov - cov\n",
    "\n",
    "    #apply\n",
    "    p_mean_n += dt * d_mean_n\n",
    "    p_mean_m += dt * d_mean_m\n",
    "    p_var_n += dt * d_var_n\n",
    "    p_var_m += dt * d_var_m\n",
    "    p_cov += dt * d_cov\n",
    "\n",
    "    #restrict\n",
    "    if p_var_n < 0:\n",
    "        p_var_n = 0\n",
    "\n",
    "    if p_var_m < 0:\n",
    "        p_var_m = 0\n"
   ]
  },
  {
   "cell_type": "code",
   "execution_count": 6,
   "metadata": {},
   "outputs": [
    {
     "name": "stdout",
     "output_type": "stream",
     "text": [
      "mean n: -5.65399981252634\n",
      "target mean n: -5.654 \n",
      "\n",
      "mean m: 2.4199995276627893\n",
      "target mean m: 2.42 \n",
      "\n",
      "var n: 0.37700043739123146\n",
      "target var n: 0.377 \n",
      "\n",
      "var m: 0.35600199897293283\n",
      "target var m: 0.356 \n",
      "\n",
      "cov: 0.26377280928103986\n",
      "target cov: 0.2637716830897509 \n",
      "\n"
     ]
    }
   ],
   "source": [
    "probs = calc_prob(p_mean_n, p_mean_m, p_var_n, p_var_m, p_cov)\n",
    "mean_n = np.sum(phase_space[:,:,0] * probs)\n",
    "mean_m = np.sum(phase_space[:,:,1] * probs)\n",
    "var_n = np.sum(phase_space[:,:,0] ** 2 * probs) - mean_n **2\n",
    "var_m = np.sum(phase_space[:,:,1] **2 * probs) - mean_m **2\n",
    "cov =  np.sum(phase_space[:,:,0] * phase_space[:,:,1] * probs) - mean_n * mean_m\n",
    "\n",
    "print(\"mean n:\", mean_n)\n",
    "#print(\"param mean n:\", p_mean_n)\n",
    "print(\"target mean n:\", t_mean_n,\"\\n\")\n",
    "\n",
    "print(\"mean m:\", mean_m)\n",
    "#print(\"param mean m:\", p_mean_m)\n",
    "print(\"target mean m:\", t_mean_m,\"\\n\")\n",
    "\n",
    "print(\"var n:\", var_n)\n",
    "#print(\"param var n:\", p_var_n)\n",
    "print(\"target var n:\", t_var_n,\"\\n\")\n",
    "\n",
    "print(\"var m:\", var_m)\n",
    "#print(\"param var m:\", p_var_m)\n",
    "print(\"target var m:\", t_var_m,\"\\n\")\n",
    "\n",
    "print(\"cov:\", cov)\n",
    "#print(\"param cov:\", p_cov)\n",
    "print(\"target cov:\", t_cov,\"\\n\")"
   ]
  },
  {
   "cell_type": "code",
   "execution_count": null,
   "metadata": {},
   "outputs": [],
   "source": []
  }
 ],
 "metadata": {
  "kernelspec": {
   "display_name": ".venv",
   "language": "python",
   "name": "python3"
  },
  "language_info": {
   "codemirror_mode": {
    "name": "ipython",
    "version": 3
   },
   "file_extension": ".py",
   "mimetype": "text/x-python",
   "name": "python",
   "nbconvert_exporter": "python",
   "pygments_lexer": "ipython3",
   "version": "3.8.10"
  },
  "orig_nbformat": 4
 },
 "nbformat": 4,
 "nbformat_minor": 2
}

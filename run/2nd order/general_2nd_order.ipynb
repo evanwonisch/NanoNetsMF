{
 "cells": [
  {
   "cell_type": "code",
   "execution_count": 12,
   "metadata": {},
   "outputs": [],
   "source": [
    "import sys\n",
    "sys.path.insert(0, \"../..\")"
   ]
  },
  {
   "cell_type": "code",
   "execution_count": 13,
   "metadata": {},
   "outputs": [],
   "source": [
    "import numpy as np\n",
    "from matplotlib import pyplot as plt\n",
    "\n",
    "from module.base.network import Network\n",
    "\n",
    "from module.components.discrete_gaussian1D import DiscreteGaussian1D\n",
    "from module.components.discrete_gaussian2D import DiscreteGaussian2D\n",
    "from module.components.lawrence_dist import LawrenceDist\n",
    "\n",
    "from module.simulation.meanfield import MeanField\n",
    "from module.simulation.set_meanfield2 import SetMeanField2\n",
    "\n",
    "import module.components.CONST as CONST"
   ]
  },
  {
   "cell_type": "code",
   "execution_count": 14,
   "metadata": {},
   "outputs": [],
   "source": [
    "net = Network(3,3,1, [[0,0,0], [2,0,0], [0,2,0], [2,2,0]])\n",
    "net.set_voltage_config([-3.302944822433594996e-01, -1.300645682722810503e-01, 2.974199217486594438e-01, -1.754745629759278669e-01], 1.307111545318153378e-01)\n",
    "\n",
    "mf = MeanField(net)\n",
    "\n",
    "g2 = DiscreteGaussian2D()\n",
    "g1 = DiscreteGaussian1D()"
   ]
  },
  {
   "cell_type": "code",
   "execution_count": 15,
   "metadata": {},
   "outputs": [],
   "source": [
    "means = np.zeros(net.N_particles)\n",
    "vars = np.ones(net.N_particles) * 0.1"
   ]
  },
  {
   "cell_type": "code",
   "execution_count": 33,
   "metadata": {},
   "outputs": [],
   "source": [
    "neighbour_table = net.get_nearest_neighbours(np.arange(0, net.N_particles))\n",
    "\n",
    "covs = np.zeros((net.N_particles, 6))\n",
    "def get_cov(i, j):\n",
    "    table_index = np.where(neighbour_table[i] == j)[0]\n",
    "    if table_index.shape[0] == 0:\n",
    "        return 0\n",
    "\n",
    "    return covs[i, table_index[0]]\n",
    "\n",
    "def set_cov(i, j, value):\n",
    "    table_index = np.where(neighbour_table[i] == j)[0]\n",
    "    if table_index.shape[0] == 1:\n",
    "        covs[i, table_index[0]] = value\n",
    "\n",
    "    table_index = np.where(neighbour_table[j] == i)[0]\n",
    "    if table_index.shape[0] == 1:\n",
    "        covs[j, table_index[0]] = value\n",
    "\n",
    "dcovs = np.zeros((net.N_particles, 6))\n",
    "def get_dcov(i, j):\n",
    "    table_index = np.where(neighbour_table[i] == j)[0]\n",
    "    if table_index.shape[0] == 0:\n",
    "        return 0\n",
    "\n",
    "    return dcovs[i, table_index[0]]\n",
    "\n",
    "def set_dcov(i, j, value):\n",
    "    table_index = np.where(neighbour_table[i] == j)[0]\n",
    "    if table_index.shape[0] == 1:\n",
    "        dcovs[i, table_index[0]] = value\n",
    "\n",
    "    table_index = np.where(neighbour_table[j] == i)[0]\n",
    "    if table_index.shape[0] == 1:\n",
    "        dcovs[j, table_index[0]] = value"
   ]
  },
  {
   "attachments": {},
   "cell_type": "markdown",
   "metadata": {},
   "source": [
    "---"
   ]
  },
  {
   "cell_type": "code",
   "execution_count": 17,
   "metadata": {},
   "outputs": [],
   "source": [
    "def calc_effective_states(i, j):\n",
    "    phase_space = g2.phase_space\n",
    "    states = np.repeat(np.expand_dims(means, axis = [0, 1]), phase_space.shape[0], axis = 0)\n",
    "    states = np.repeat(states, phase_space.shape[1], axis = 1)\n",
    "\n",
    "    states[:,:,i] = phase_space[:,:,0]\n",
    "    states[:,:,j] = phase_space[:,:,1]\n",
    "    \n",
    "    return states"
   ]
  },
  {
   "attachments": {},
   "cell_type": "markdown",
   "metadata": {},
   "source": [
    "---\n",
    "$$\n",
    "\\langle I_{ij} \\rangle\n",
    "$$"
   ]
  },
  {
   "cell_type": "code",
   "execution_count": 18,
   "metadata": {},
   "outputs": [],
   "source": [
    "def calc_R_island(i, j):\n",
    "    states = calc_effective_states(i, j)\n",
    "    rates = net.calc_rate_island(states, i, j)\n",
    "    return rates\n",
    "\n",
    "def calc_R_island_inv(i, j):\n",
    "    states = calc_effective_states(i, j)\n",
    "    rates = net.calc_rate_island(states, j, i)\n",
    "    return rates"
   ]
  },
  {
   "attachments": {},
   "cell_type": "markdown",
   "metadata": {},
   "source": [
    "---\n",
    "$$\n",
    "\\langle I_{ei} \\rangle\n",
    "$$"
   ]
  },
  {
   "cell_type": "code",
   "execution_count": 19,
   "metadata": {},
   "outputs": [],
   "source": [
    "def calc_R_from_electrode(electrode_index):\n",
    "    phase_space = g1.phase_space\n",
    "    states = np.expand_dims(means, axis = 0)\n",
    "    states = np.repeat(states, phase_space.shape[0], axis = 0)\n",
    "\n",
    "    island_index = net.get_linear_indices(net.electrode_pos[electrode_index])\n",
    "    states[:, island_index] = phase_space\n",
    "    rates = net.calc_rate_from_electrode(states, electrode_index)\n",
    "    return rates\n",
    "\n",
    "def calc_R_to_electrode(electrode_index):\n",
    "    phase_space = g1.phase_space\n",
    "    states = np.expand_dims(means, axis = 0)\n",
    "    states = np.repeat(states, phase_space.shape[0], axis = 0)\n",
    "\n",
    "    island_index = net.get_linear_indices(net.electrode_pos[electrode_index])\n",
    "    states[:, island_index] = phase_space\n",
    "    rates = net.calc_rate_to_electrode(states, electrode_index)\n",
    "    return rates"
   ]
  },
  {
   "attachments": {},
   "cell_type": "markdown",
   "metadata": {},
   "source": [
    "---\n",
    "$$\n",
    "\\langle n_i I_{ei} \\rangle\n",
    "$$"
   ]
  },
  {
   "cell_type": "code",
   "execution_count": 20,
   "metadata": {},
   "outputs": [],
   "source": [
    "def calc_nR_to_electrode(electrode_index):\n",
    "    phase_space = g1.phase_space\n",
    "    rates = calc_R_to_electrode(electrode_index)\n",
    "    values = rates * phase_space \n",
    "    return values\n",
    "\n",
    "def calc_nR_from_electrode(electrode_index):\n",
    "    phase_space = g1.phase_space\n",
    "    rates = calc_R_from_electrode(electrode_index)\n",
    "    values = rates * phase_space \n",
    "    return values"
   ]
  },
  {
   "attachments": {},
   "cell_type": "markdown",
   "metadata": {},
   "source": [
    "---\n",
    "$$\n",
    "\\langle n_i I_{ej} \\rangle\n",
    "$$"
   ]
  },
  {
   "cell_type": "code",
   "execution_count": 23,
   "metadata": {},
   "outputs": [],
   "source": [
    "def calc_nR_from_electrode_2(i, electrode_index):\n",
    "    phase_space = g2.phase_space\n",
    "    island_index = net.get_linear_indices(net.electrode_pos[electrode_index])\n",
    "\n",
    "    states = calc_effective_states(i, island_index)\n",
    "    rates = net.calc_rate_from_electrode(states, electrode_index)\n",
    "\n",
    "    return rates * phase_space[:,:,0]\n",
    "\n",
    "def calc_nR_to_electrode_2(i, electrode_index):\n",
    "    phase_space = g2.phase_space\n",
    "    island_index = net.get_linear_indices(net.electrode_pos[electrode_index])\n",
    "\n",
    "    states = calc_effective_states(i, island_index)\n",
    "    rates = net.calc_rate_to_electrode(states, electrode_index)\n",
    "\n",
    "    return rates * phase_space[:,:,0]"
   ]
  },
  {
   "attachments": {},
   "cell_type": "markdown",
   "metadata": {},
   "source": [
    "---\n",
    "$$\n",
    "\\langle n_j I_{ij} \\rangle\n",
    "$$"
   ]
  },
  {
   "cell_type": "code",
   "execution_count": 24,
   "metadata": {},
   "outputs": [],
   "source": [
    "def calc_nR_island(i, j):\n",
    "    phase_space = g2.phase_space\n",
    "    rates = calc_R_island(i, j)\n",
    "    values = rates * phase_space[:,:,1] \n",
    "    return values\n",
    "\n",
    "def calc_nR_island_inv(i, j):\n",
    "    phase_space = g2.phase_space\n",
    "    rates = calc_R_island_inv(i, j)\n",
    "    values = rates * phase_space[:,:,1] \n",
    "    return values"
   ]
  },
  {
   "attachments": {},
   "cell_type": "markdown",
   "metadata": {},
   "source": [
    "---\n",
    "$$\n",
    "\\langle n_i I_{ij} \\rangle\n",
    "$$"
   ]
  },
  {
   "cell_type": "code",
   "execution_count": 54,
   "metadata": {},
   "outputs": [],
   "source": [
    "def calc_nR_island_alt(i, j):\n",
    "    phase_space = g2.phase_space\n",
    "    rates = calc_R_island(i, j)\n",
    "    values = rates * phase_space[:,:,0] \n",
    "    return values\n",
    "\n",
    "def calc_nR_island_inv_alt(i, j):\n",
    "    phase_space = g2.phase_space\n",
    "    rates = calc_R_island_inv(i, j)\n",
    "    values = rates * phase_space[:,:,0] \n",
    "    return values"
   ]
  },
  {
   "attachments": {},
   "cell_type": "markdown",
   "metadata": {},
   "source": [
    "---"
   ]
  },
  {
   "cell_type": "code",
   "execution_count": 26,
   "metadata": {},
   "outputs": [],
   "source": [
    "l_R = np.zeros(net.N_particles)\n",
    "r_R = np.zeros(net.N_particles)\n",
    "\n",
    "l_nR = np.zeros(net.N_particles)\n",
    "r_nR = np.zeros(net.N_particles)\n",
    "\n",
    "for i in range(net.N_particles):\n",
    "    for j in neighbour_table[i]:\n",
    "        if not j == -1: # all neighbour relations\n",
    "            probs = g2.calc_prob(means[j], means[i], vars[j], vars[i],get_cov(i, j))\n",
    "            l_R[i] += np.sum(probs * calc_R_island(j, i))\n",
    "            l_nR[i] += np.sum(probs * calc_nR_island(j, i))\n",
    "            r_R[i] += np.sum(probs * calc_R_island_inv(j, i))\n",
    "            r_nR[i] += np.sum(probs * calc_nR_island_inv(j, i))\n",
    "            "
   ]
  },
  {
   "cell_type": "code",
   "execution_count": 27,
   "metadata": {},
   "outputs": [],
   "source": [
    "l_R_electrodes = np.zeros(net.N_particles)\n",
    "r_R_electrodes = np.zeros(net.N_particles)\n",
    "\n",
    "l_nR_electrodes = np.zeros(net.N_particles)\n",
    "r_nR_electrodes = np.zeros(net.N_particles)\n",
    "\n",
    "for electrode_index, pos in enumerate(net.electrode_pos):\n",
    "    i = net.get_linear_indices(pos)\n",
    "\n",
    "    probs = g1.calc_prob(means[i], vars[i])\n",
    "    l_R_electrodes[i] += np.sum(probs * calc_R_from_electrode(electrode_index)) \n",
    "    l_nR_electrodes[i] += np.sum(probs * calc_nR_from_electrode(electrode_index))\n",
    "\n",
    "    r_R_electrodes[i] += np.sum(probs * calc_R_to_electrode(electrode_index)) \n",
    "    r_nR_electrodes[i] += np.sum(probs * calc_nR_to_electrode(electrode_index))\n"
   ]
  },
  {
   "cell_type": "code",
   "execution_count": 28,
   "metadata": {},
   "outputs": [],
   "source": [
    "# islands\n",
    "I_islands = l_R - r_R\n",
    "I_dag_islands = l_R + r_R\n",
    "\n",
    "nI_islands = l_nR - r_nR\n",
    "\n",
    "# electrodes\n",
    "I_electrodes = l_R_electrodes - r_R_electrodes\n",
    "I_dag_electrodes = l_R_electrodes + r_R_electrodes\n",
    "\n",
    "nI_electrodes = l_nR_electrodes - r_nR_electrodes"
   ]
  },
  {
   "cell_type": "code",
   "execution_count": 29,
   "metadata": {},
   "outputs": [],
   "source": [
    "I = I_islands + I_electrodes\n",
    "I_dag = I_dag_islands + I_dag_electrodes\n",
    "nI = nI_islands + nI_electrodes"
   ]
  },
  {
   "cell_type": "code",
   "execution_count": 30,
   "metadata": {},
   "outputs": [],
   "source": [
    "d_mean = I\n",
    "d_var = (2 * nI + I_dag) - 2 * means * I"
   ]
  },
  {
   "cell_type": "code",
   "execution_count": 63,
   "metadata": {},
   "outputs": [],
   "source": [
    "dcovs = np.zeros((net.N_particles, 6)) # reset dcovs\n",
    "  \n",
    "for i in range(net.N_particles):\n",
    "    for j in neighbour_table[i]:\n",
    "        if not j == -1:\n",
    "            probs = g2.calc_prob(means[i], means[j], vars[i], vars[j], get_cov(i, j))\n",
    "            probs2 = g2.calc_prob(means[j], means[i], vars[j], vars[i], get_cov(i, j))\n",
    "            island_indices = net.get_linear_indices(net.electrode_pos)\n",
    "\n",
    "\n",
    "            # < ni Ij >\n",
    "            dcov = means[i] * I_islands[j]\n",
    "            dcov -= means[i] * np.sum(probs * (calc_R_island(i, j) - calc_R_island_inv(i, j)))\n",
    "            dcov += np.sum(probs * (calc_nR_island_alt(i, j) - calc_nR_island_inv_alt(i, j)))\n",
    "\n",
    "            electrode_index = np.where(island_indices == j)[0]\n",
    "            if electrode_index.shape[0] == 1:\n",
    "                dcov += np.sum(probs * (calc_nR_from_electrode_2(i, electrode_index[0]) - calc_nR_to_electrode_2(i, electrode_index[0])))\n",
    "\n",
    "\n",
    "            # < nj Ii >\n",
    "            dcov += means[j] * I_islands[i]\n",
    "            dcov -= means[j] * np.sum(probs2 * (calc_R_island(j, i) - calc_R_island_inv(j, i)))\n",
    "            dcov += np.sum(probs2 * (calc_nR_island_alt(j, i) - calc_nR_island_inv_alt(j, i)))\n",
    "\n",
    "            electrode_index = np.where(island_indices == i)[0]\n",
    "            if electrode_index.shape[0] == 1:\n",
    "                dcov += np.sum(probs2 * (calc_nR_from_electrode_2(j, electrode_index[0]) - calc_nR_to_electrode_2(j, electrode_index[0])))\n",
    "\n",
    "            # < I^dag_ij >\n",
    "            dcov += np.sum(probs * (calc_R_island(i, j) + calc_R_island_inv(i, j)))\n",
    "\n",
    "            set_dcov(i,j, get_dcov(i,j) + dcov)"
   ]
  },
  {
   "cell_type": "code",
   "execution_count": 59,
   "metadata": {},
   "outputs": [
    {
     "data": {
      "text/plain": [
       "array([[ 0.        , 22.061749  ,  0.        , 28.02035454,  0.        ,\n",
       "         0.        ],\n",
       "       [22.061749  ,  6.39322094,  0.        ,  1.41291052,  0.        ,\n",
       "         0.        ],\n",
       "       [ 6.39322094,  0.        ,  0.        ,  8.55663359,  0.        ,\n",
       "         0.        ],\n",
       "       [ 0.        ,  0.34001902, 28.02035454, 10.47558653,  0.        ,\n",
       "         0.        ],\n",
       "       [ 0.34001902,  1.02370391,  1.41291052,  0.29012846,  0.        ,\n",
       "         0.        ],\n",
       "       [ 1.02370391,  0.        ,  8.55663359, 10.92966187,  0.        ,\n",
       "         0.        ],\n",
       "       [ 0.        ,  8.31217179, 10.47558653,  0.        ,  0.        ,\n",
       "         0.        ],\n",
       "       [ 8.31217179, 16.90323756,  0.29012846,  0.        ,  0.        ,\n",
       "         0.        ],\n",
       "       [16.90323756,  0.        , 10.92966187,  0.        ,  0.        ,\n",
       "         0.        ]])"
      ]
     },
     "execution_count": 59,
     "metadata": {},
     "output_type": "execute_result"
    }
   ],
   "source": [
    "dcovs"
   ]
  },
  {
   "attachments": {},
   "cell_type": "markdown",
   "metadata": {},
   "source": [
    "---\n",
    "## Run"
   ]
  },
  {
   "cell_type": "code",
   "execution_count": 62,
   "metadata": {},
   "outputs": [],
   "source": [
    "means = np.zeros(net.N_particles)\n",
    "vars = np.ones(net.N_particles)"
   ]
  },
  {
   "cell_type": "code",
   "execution_count": 65,
   "metadata": {},
   "outputs": [
    {
     "name": "stdout",
     "output_type": "stream",
     "text": [
      "0.0020782269601723837 0.0004309602114983735\n",
      "0.0005033203515268801 0.00010431289086383982\n",
      "0.00012192054826432042 2.5264427965809672e-05\n",
      "2.9534454187580333e-05 6.1199340766245055e-06\n",
      "7.154606414625262e-06 1.4825179805119603e-06\n",
      "1.733180111824279e-06 3.5913440333326347e-07\n"
     ]
    }
   ],
   "source": [
    "dt = 0.05\n",
    "for epoch in range(60):\n",
    "    l_R = np.zeros(net.N_particles)\n",
    "    r_R = np.zeros(net.N_particles)\n",
    "\n",
    "    l_nR = np.zeros(net.N_particles)\n",
    "    r_nR = np.zeros(net.N_particles)\n",
    "\n",
    "    for i in range(net.N_particles):\n",
    "        for j in neighbour_table[i]:\n",
    "            if not j == -1: # all neighbour relations\n",
    "                probs = g2.calc_prob(means[j], means[i], vars[j], vars[i],get_cov(i, j))\n",
    "                l_R[i] += np.sum(probs * calc_R_island(j, i))\n",
    "                l_nR[i] += np.sum(probs * calc_nR_island(j, i))\n",
    "                r_R[i] += np.sum(probs * calc_R_island_inv(j, i))\n",
    "                r_nR[i] += np.sum(probs * calc_nR_island_inv(j, i))\n",
    "                \n",
    "    l_R_electrodes = np.zeros(net.N_particles)\n",
    "    r_R_electrodes = np.zeros(net.N_particles)\n",
    "\n",
    "    l_nR_electrodes = np.zeros(net.N_particles)\n",
    "    r_nR_electrodes = np.zeros(net.N_particles)\n",
    "\n",
    "    for electrode_index, pos in enumerate(net.electrode_pos):\n",
    "        i = net.get_linear_indices(pos)\n",
    "\n",
    "        probs = g1.calc_prob(means[i], vars[i])\n",
    "        l_R_electrodes[i] += np.sum(probs * calc_R_from_electrode(electrode_index)) \n",
    "        l_nR_electrodes[i] += np.sum(probs * calc_nR_from_electrode(electrode_index))\n",
    "\n",
    "        r_R_electrodes[i] += np.sum(probs * calc_R_to_electrode(electrode_index)) \n",
    "        r_nR_electrodes[i] += np.sum(probs * calc_nR_to_electrode(electrode_index))\n",
    "\n",
    "    # islands\n",
    "    I_islands = l_R - r_R\n",
    "    I_dag_islands = l_R + r_R\n",
    "\n",
    "    nI_islands = l_nR - r_nR\n",
    "\n",
    "    # electrodes\n",
    "    I_electrodes = l_R_electrodes - r_R_electrodes\n",
    "    I_dag_electrodes = l_R_electrodes + r_R_electrodes\n",
    "\n",
    "    nI_electrodes = l_nR_electrodes - r_nR_electrodes\n",
    "    I = I_islands + I_electrodes\n",
    "    I_dag = I_dag_islands + I_dag_electrodes\n",
    "    nI = nI_islands + nI_electrodes\n",
    "    d_mean = I\n",
    "    d_var = (2 * nI + I_dag) - 2 * means * I\n",
    "\n",
    "    means += dt * d_mean\n",
    "    vars += dt * d_var\n",
    "\n",
    "    if  epoch % 10 == 0:\n",
    "        print(np.mean(np.abs(d_mean)) , np.mean(np.abs(d_var)))"
   ]
  },
  {
   "cell_type": "code",
   "execution_count": 66,
   "metadata": {},
   "outputs": [],
   "source": [
    "def calc_expected_electrode_rates(electrode_index):\n",
    "    r = calc_R_from_electrode(electrode_index) - calc_R_to_electrode(electrode_index)\n",
    "\n",
    "    island_index = net.get_linear_indices(net.electrode_pos[electrode_index])\n",
    "    probs = g1.calc_prob(means[island_index], vars[island_index])\n",
    "    ex = np.sum(probs * r)\n",
    "\n",
    "    return ex"
   ]
  },
  {
   "cell_type": "code",
   "execution_count": 79,
   "metadata": {},
   "outputs": [
    {
     "data": {
      "text/plain": [
       "array([-1.36772956, -1.11889905, -1.0817349 , -0.79978096, -0.88909403,\n",
       "       -0.98636057, -0.19404293, -0.67431201, -1.03265477])"
      ]
     },
     "execution_count": 79,
     "metadata": {},
     "output_type": "execute_result"
    }
   ],
   "source": [
    "means * CONST.electron_charge"
   ]
  },
  {
   "cell_type": "code",
   "execution_count": 73,
   "metadata": {},
   "outputs": [
    {
     "data": {
      "text/plain": [
       "array([2.79876446, 1.01601662, 0.29683568, 2.61921417, 1.02380708,\n",
       "       0.43227572, 3.94939212, 1.87838371, 1.44377967])"
      ]
     },
     "execution_count": 73,
     "metadata": {},
     "output_type": "execute_result"
    }
   ],
   "source": [
    "vars"
   ]
  },
  {
   "cell_type": "code",
   "execution_count": 74,
   "metadata": {},
   "outputs": [
    {
     "data": {
      "text/plain": [
       "-2.4540908632965195"
      ]
     },
     "execution_count": 74,
     "metadata": {},
     "output_type": "execute_result"
    }
   ],
   "source": [
    "calc_expected_electrode_rates(3) * CONST.electron_charge"
   ]
  },
  {
   "cell_type": "code",
   "execution_count": 75,
   "metadata": {},
   "outputs": [
    {
     "data": {
      "text/plain": [
       "array([-1.37115934, -1.12443741, -1.07374634, -0.77857507, -0.8991611 ,\n",
       "       -0.98242856, -0.18907492, -0.66938415, -1.04267591])"
      ]
     },
     "execution_count": 75,
     "metadata": {},
     "output_type": "execute_result"
    }
   ],
   "source": [
    "mf_means = mf.numeric_integration_solve(N = 300)\n",
    "mf_means * CONST.electron_charge"
   ]
  },
  {
   "cell_type": "code",
   "execution_count": 76,
   "metadata": {},
   "outputs": [
    {
     "data": {
      "text/plain": [
       "-2.4102219170392982"
      ]
     },
     "execution_count": 76,
     "metadata": {},
     "output_type": "execute_result"
    }
   ],
   "source": [
    "mf.calc_expected_electrode_rates(mf_means, 3) * CONST.electron_charge"
   ]
  },
  {
   "cell_type": "code",
   "execution_count": 96,
   "metadata": {},
   "outputs": [
    {
     "data": {
      "image/png": "[encoded data removed]",
      "text/plain": [
       "<Figure size 640x480 with 1 Axes>"
      ]
     },
     "metadata": {},
     "output_type": "display_data"
    }
   ],
   "source": [
    "plt.errorbar(np.arange(net.N_particles), means * CONST.electron_charge, yerr = np.sqrt(vars) * CONST.electron_charge, linestyle = \"\", marker = \"+\", label = \"MF2\")\n",
    "plt.scatter(np.arange(net.N_particles)+0.1, mf_means * CONST.electron_charge, label = \"MF1\", marker = \".\", color = \"g\")\n",
    "\n",
    "kmc = np.array( [-1.254212783505315842e+00, -5.529546430521703471e-01, -6.924668460202365594e-01, -2.440457304593303123e-01, -3.201983014383849024e-01, -4.263217158449596478e-01, 8.028724727885709900e-01, -9.563163544480711431e-02, -6.965640548617082484e-01])\n",
    "plt.scatter(np.arange(net.N_particles), kmc - net.dq, label = \"KMC\", marker = \".\", color =\"orange\")\n",
    "plt.legend()\n",
    "plt.grid()"
   ]
  }
 ],
 "metadata": {
  "kernelspec": {
   "display_name": ".venv",
   "language": "python",
   "name": "python3"
  },
  "language_info": {
   "codemirror_mode": {
    "name": "ipython",
    "version": 3
   },
   "file_extension": ".py",
   "mimetype": "text/x-python",
   "name": "python",
   "nbconvert_exporter": "python",
   "pygments_lexer": "ipython3",
   "version": "3.8.10"
  },
  "orig_nbformat": 4
 },
 "nbformat": 4,
 "nbformat_minor": 2
}

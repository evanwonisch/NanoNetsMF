{
 "cells": [
  {
   "cell_type": "code",
   "execution_count": 167,
   "metadata": {},
   "outputs": [],
   "source": [
    "import sys\n",
    "sys.path.insert(0, \"../..\")"
   ]
  },
  {
   "cell_type": "code",
   "execution_count": 168,
   "metadata": {},
   "outputs": [],
   "source": [
    "import numpy as np\n",
    "from matplotlib import pyplot as plt\n",
    "\n",
    "from module.base.network import Network\n",
    "\n",
    "from module.components.discrete_gaussian1D import DiscreteGaussian1D\n",
    "from module.components.discrete_gaussian2D import DiscreteGaussian2D\n",
    "from module.components.lawrence_dist import LawrenceDist\n",
    "\n",
    "from module.simulation.meanfield import MeanField\n",
    "from module.simulation.set_meanfield2 import SetMeanField2\n",
    "\n",
    "import module.components.CONST as CONST"
   ]
  },
  {
   "cell_type": "code",
   "execution_count": 205,
   "metadata": {},
   "outputs": [],
   "source": [
    "net = Network(3,3,1, [[0,0,0], [1,1,0]])\n",
    "net.set_voltage_config([0.1, -0.04], 0)\n",
    "\n",
    "mf = MeanField(net)\n",
    "\n",
    "g2 = DiscreteGaussian2D()\n",
    "g1 = DiscreteGaussian1D()"
   ]
  },
  {
   "cell_type": "code",
   "execution_count": 206,
   "metadata": {},
   "outputs": [],
   "source": [
    "means = np.zeros(net.N_particles)\n",
    "vars = np.ones(net.N_particles) * 0.1"
   ]
  },
  {
   "cell_type": "code",
   "execution_count": 207,
   "metadata": {},
   "outputs": [],
   "source": [
    "neighbour_table = net.get_nearest_neighbours(np.arange(0, net.N_particles))\n",
    "\n",
    "covs = np.zeros((net.N_particles, 6))\n",
    "def get_cov(i, j):\n",
    "    table_index = np.where(neighbour_table[i] == j)[0]\n",
    "    if table_index.shape[0] == 0:\n",
    "        return 0\n",
    "\n",
    "    return covs[i, table_index[0]]\n",
    "\n",
    "def set_cov(i, j, value):\n",
    "    table_index = np.where(neighbour_table[i] == j)[0]\n",
    "    if table_index.shape[0] == 1:\n",
    "        covs[i, table_index[0]] = value\n",
    "\n",
    "    table_index = np.where(neighbour_table[j] == i)[0]\n",
    "    if table_index.shape[0] == 1:\n",
    "        covs[j, table_index[0]] = value"
   ]
  },
  {
   "attachments": {},
   "cell_type": "markdown",
   "metadata": {},
   "source": [
    "---"
   ]
  },
  {
   "cell_type": "code",
   "execution_count": 208,
   "metadata": {},
   "outputs": [],
   "source": [
    "def calc_effective_states(i, j):\n",
    "    phase_space = g2.phase_space\n",
    "    states = np.repeat(np.expand_dims(means, axis = [0, 1]), phase_space.shape[0], axis = 0)\n",
    "    states = np.repeat(states, phase_space.shape[1], axis = 1)\n",
    "\n",
    "    states[:,:,i] = phase_space[:,:,0]\n",
    "    states[:,:,j] = phase_space[:,:,1]\n",
    "    \n",
    "    return states"
   ]
  },
  {
   "cell_type": "code",
   "execution_count": 209,
   "metadata": {},
   "outputs": [],
   "source": [
    "def calc_R_island(i, j):\n",
    "    states = calc_effective_states(i, j)\n",
    "    rates = net.calc_rate_island(states, i, j)\n",
    "    return rates\n",
    "\n",
    "def calc_R_island_inv(i, j):\n",
    "    states = calc_effective_states(i, j)\n",
    "    rates = net.calc_rate_island(states, j, i)\n",
    "    return rates"
   ]
  },
  {
   "cell_type": "code",
   "execution_count": 210,
   "metadata": {},
   "outputs": [],
   "source": [
    "def calc_R_from_electrode(electrode_index):\n",
    "    phase_space = g1.phase_space\n",
    "    states = np.expand_dims(means, axis = 0)\n",
    "    states = np.repeat(states, phase_space.shape[0], axis = 0)\n",
    "\n",
    "    island_index = net.get_linear_indices(net.electrode_pos[electrode_index])\n",
    "    states[:, island_index] = phase_space\n",
    "    rates = net.calc_rate_from_electrode(states, electrode_index)\n",
    "    return rates\n",
    "\n",
    "def calc_R_to_electrode(electrode_index):\n",
    "    phase_space = g1.phase_space\n",
    "    states = np.expand_dims(means, axis = 0)\n",
    "    states = np.repeat(states, phase_space.shape[0], axis = 0)\n",
    "\n",
    "    island_index = net.get_linear_indices(net.electrode_pos[electrode_index])\n",
    "    states[:, island_index] = phase_space\n",
    "    rates = net.calc_rate_to_electrode(states, electrode_index)\n",
    "    return rates"
   ]
  },
  {
   "cell_type": "code",
   "execution_count": 211,
   "metadata": {},
   "outputs": [],
   "source": [
    "def calc_nR_island(i, j):\n",
    "    phase_space = g2.phase_space\n",
    "    rates = calc_R_island(i, j)\n",
    "    values = rates * phase_space[:,:,1] \n",
    "    return values\n",
    "\n",
    "def calc_nR_island_inv(i, j):\n",
    "    phase_space = g2.phase_space\n",
    "    rates = calc_R_island_inv(i, j)\n",
    "    values = rates * phase_space[:,:,1] \n",
    "    return values"
   ]
  },
  {
   "cell_type": "code",
   "execution_count": 212,
   "metadata": {},
   "outputs": [],
   "source": [
    "def calc_nR_to_electrode(electrode_index):\n",
    "    phase_space = g1.phase_space\n",
    "    rates = calc_R_to_electrode(electrode_index)\n",
    "    values = rates * phase_space \n",
    "    return values\n",
    "\n",
    "def calc_nR_from_electrode(electrode_index):\n",
    "    phase_space = g1.phase_space\n",
    "    rates = calc_R_from_electrode(electrode_index)\n",
    "    values = rates * phase_space \n",
    "    return values"
   ]
  },
  {
   "attachments": {},
   "cell_type": "markdown",
   "metadata": {},
   "source": [
    "---"
   ]
  },
  {
   "cell_type": "code",
   "execution_count": 213,
   "metadata": {},
   "outputs": [],
   "source": [
    "l_R = np.zeros(net.N_particles)\n",
    "r_R = np.zeros(net.N_particles)\n",
    "\n",
    "l_nR = np.zeros(net.N_particles)\n",
    "r_nR = np.zeros(net.N_particles)\n",
    "\n",
    "for i in range(net.N_particles):\n",
    "    for j in neighbour_table[i]:\n",
    "        if not j == -1: # all neighbour relations\n",
    "            probs = g2.calc_prob(means[j], means[i], vars[j], vars[i],get_cov(i, j))\n",
    "            l_R[i] += np.sum(probs * calc_R_island(j, i))\n",
    "            l_nR[i] += np.sum(probs * calc_nR_island(j, i))\n",
    "            r_R[i] += np.sum(probs * calc_R_island_inv(j, i))\n",
    "            r_nR[i] += np.sum(probs * calc_nR_island_inv(j, i))\n",
    "            "
   ]
  },
  {
   "cell_type": "code",
   "execution_count": 214,
   "metadata": {},
   "outputs": [],
   "source": [
    "l_R_electrodes = np.zeros(net.N_particles)\n",
    "r_R_electrodes = np.zeros(net.N_particles)\n",
    "\n",
    "l_nR_electrodes = np.zeros(net.N_particles)\n",
    "r_nR_electrodes = np.zeros(net.N_particles)\n",
    "\n",
    "for electrode_index, pos in enumerate(net.electrode_pos):\n",
    "    i = net.get_linear_indices(pos)\n",
    "\n",
    "    probs = g1.calc_prob(means[i], vars[i])\n",
    "    l_R_electrodes[i] += np.sum(probs * calc_R_from_electrode(electrode_index)) \n",
    "    l_nR_electrodes[i] += np.sum(probs * calc_nR_from_electrode(electrode_index))\n",
    "\n",
    "    r_R_electrodes[i] += np.sum(probs * calc_R_to_electrode(electrode_index)) \n",
    "    r_nR_electrodes[i] += np.sum(probs * calc_nR_to_electrode(electrode_index))\n"
   ]
  },
  {
   "cell_type": "code",
   "execution_count": 215,
   "metadata": {},
   "outputs": [],
   "source": [
    "# islands\n",
    "I_islands = l_R - r_R\n",
    "I_dag_islands = l_R + r_R\n",
    "\n",
    "nI_islands = l_nR - r_nR\n",
    "\n",
    "# electrodes\n",
    "I_electrodes = l_R_electrodes - r_R_electrodes\n",
    "I_dag_electrodes = l_R_electrodes + r_R_electrodes\n",
    "\n",
    "nI_electrodes = l_nR_electrodes - r_nR_electrodes"
   ]
  },
  {
   "cell_type": "code",
   "execution_count": 216,
   "metadata": {},
   "outputs": [],
   "source": [
    "I = I_islands + I_electrodes\n",
    "I_dag = I_dag_islands + I_dag_electrodes\n",
    "nI = nI_islands + nI_electrodes"
   ]
  },
  {
   "cell_type": "code",
   "execution_count": 217,
   "metadata": {},
   "outputs": [],
   "source": [
    "d_mean = I\n",
    "d_var = (2 * nI + I_dag) - 2 * means * I"
   ]
  },
  {
   "cell_type": "code",
   "execution_count": 218,
   "metadata": {},
   "outputs": [
    {
     "data": {
      "text/plain": [
       "array([17.53054664,  0.15285122,  0.01875725,  0.15285122, -6.38431106,\n",
       "       -0.05625139,  0.01875725, -0.05625139, -0.0218452 ])"
      ]
     },
     "execution_count": 218,
     "metadata": {},
     "output_type": "execute_result"
    }
   ],
   "source": [
    "d_mean"
   ]
  },
  {
   "cell_type": "code",
   "execution_count": 219,
   "metadata": {},
   "outputs": [
    {
     "data": {
      "text/plain": [
       "array([17.20534046, -0.08503726, -0.12505903, -0.08503726,  6.24601293,\n",
       "       -0.04424425, -0.12505903, -0.04424425, -0.12378645])"
      ]
     },
     "execution_count": 219,
     "metadata": {},
     "output_type": "execute_result"
    }
   ],
   "source": [
    "d_var"
   ]
  },
  {
   "attachments": {},
   "cell_type": "markdown",
   "metadata": {},
   "source": [
    "---\n",
    "## Run"
   ]
  },
  {
   "cell_type": "code",
   "execution_count": 220,
   "metadata": {},
   "outputs": [],
   "source": [
    "means = np.zeros(net.N_particles)\n",
    "vars = np.ones(net.N_particles)"
   ]
  },
  {
   "cell_type": "code",
   "execution_count": 223,
   "metadata": {},
   "outputs": [
    {
     "name": "stdout",
     "output_type": "stream",
     "text": [
      "0.10542559575806637 0.028700276480419513\n",
      "0.05648815692228056 0.01401272421610186\n",
      "0.03174051809129456 0.006008473785111267\n",
      "0.01669843832208738 0.002985678328359211\n",
      "0.008775636978947768 0.001539580275682414\n",
      "0.004609861292287475 0.0007881874036654721\n"
     ]
    }
   ],
   "source": [
    "dt = 0.05\n",
    "for epoch in range(60):\n",
    "    l_R = np.zeros(net.N_particles)\n",
    "    r_R = np.zeros(net.N_particles)\n",
    "\n",
    "    l_nR = np.zeros(net.N_particles)\n",
    "    r_nR = np.zeros(net.N_particles)\n",
    "\n",
    "    for i in range(net.N_particles):\n",
    "        for j in neighbour_table[i]:\n",
    "            if not j == -1: # all neighbour relations\n",
    "                probs = g2.calc_prob(means[j], means[i], vars[j], vars[i],get_cov(i, j))\n",
    "                l_R[i] += np.sum(probs * calc_R_island(j, i))\n",
    "                l_nR[i] += np.sum(probs * calc_nR_island(j, i))\n",
    "                r_R[i] += np.sum(probs * calc_R_island_inv(j, i))\n",
    "                r_nR[i] += np.sum(probs * calc_nR_island_inv(j, i))\n",
    "                \n",
    "    l_R_electrodes = np.zeros(net.N_particles)\n",
    "    r_R_electrodes = np.zeros(net.N_particles)\n",
    "\n",
    "    l_nR_electrodes = np.zeros(net.N_particles)\n",
    "    r_nR_electrodes = np.zeros(net.N_particles)\n",
    "\n",
    "    for electrode_index, pos in enumerate(net.electrode_pos):\n",
    "        i = net.get_linear_indices(pos)\n",
    "\n",
    "        probs = g1.calc_prob(means[i], vars[i])\n",
    "        l_R_electrodes[i] += np.sum(probs * calc_R_from_electrode(electrode_index)) \n",
    "        l_nR_electrodes[i] += np.sum(probs * calc_nR_from_electrode(electrode_index))\n",
    "\n",
    "        r_R_electrodes[i] += np.sum(probs * calc_R_to_electrode(electrode_index)) \n",
    "        r_nR_electrodes[i] += np.sum(probs * calc_nR_to_electrode(electrode_index))\n",
    "\n",
    "    # islands\n",
    "    I_islands = l_R - r_R\n",
    "    I_dag_islands = l_R + r_R\n",
    "\n",
    "    nI_islands = l_nR - r_nR\n",
    "\n",
    "    # electrodes\n",
    "    I_electrodes = l_R_electrodes - r_R_electrodes\n",
    "    I_dag_electrodes = l_R_electrodes + r_R_electrodes\n",
    "\n",
    "    nI_electrodes = l_nR_electrodes - r_nR_electrodes\n",
    "    I = I_islands + I_electrodes\n",
    "    I_dag = I_dag_islands + I_dag_electrodes\n",
    "    nI = nI_islands + nI_electrodes\n",
    "    d_mean = I\n",
    "    d_var = (2 * nI + I_dag) - 2 * means * I\n",
    "\n",
    "    means += dt * d_mean\n",
    "    vars += dt * d_var\n",
    "\n",
    "    if  epoch % 10 == 0:\n",
    "        print(np.mean(np.abs(d_mean)) , np.mean(np.abs(d_var)))"
   ]
  },
  {
   "cell_type": "code",
   "execution_count": 224,
   "metadata": {},
   "outputs": [],
   "source": [
    "def calc_expected_electrode_rates(electrode_index):\n",
    "    r = calc_R_from_electrode(electrode_index) - calc_R_to_electrode(electrode_index)\n",
    "\n",
    "    island_index = net.get_linear_indices(net.electrode_pos[electrode_index])\n",
    "    probs = g1.calc_prob(means[island_index], vars[island_index])\n",
    "    ex = np.sum(probs * r)\n",
    "\n",
    "    return ex"
   ]
  },
  {
   "cell_type": "code",
   "execution_count": 225,
   "metadata": {},
   "outputs": [
    {
     "data": {
      "text/plain": [
       "array([ 1.72324403,  0.76318126,  0.51197541,  0.76318126, -0.23489008,\n",
       "        0.23480474,  0.51197541,  0.23480474,  0.02054898])"
      ]
     },
     "execution_count": 225,
     "metadata": {},
     "output_type": "execute_result"
    }
   ],
   "source": [
    "means"
   ]
  },
  {
   "cell_type": "code",
   "execution_count": 226,
   "metadata": {},
   "outputs": [
    {
     "data": {
      "text/plain": [
       "array([0.71726577, 0.52502059, 0.25945796, 0.52502059, 0.76107141,\n",
       "       0.23694603, 0.25945796, 0.23694603, 0.02369662])"
      ]
     },
     "execution_count": 226,
     "metadata": {},
     "output_type": "execute_result"
    }
   ],
   "source": [
    "vars"
   ]
  },
  {
   "cell_type": "code",
   "execution_count": 227,
   "metadata": {},
   "outputs": [
    {
     "data": {
      "text/plain": [
       "-1.2993935904329392"
      ]
     },
     "execution_count": 227,
     "metadata": {},
     "output_type": "execute_result"
    }
   ],
   "source": [
    "calc_expected_electrode_rates(1) * CONST.electron_charge"
   ]
  },
  {
   "cell_type": "code",
   "execution_count": 228,
   "metadata": {},
   "outputs": [
    {
     "data": {
      "text/plain": [
       "array([ 1.79585774e+00,  7.83084033e-01,  4.37432342e-01,  7.83084033e-01,\n",
       "       -3.41123358e-01,  2.71709321e-01,  4.37432342e-01,  2.71709321e-01,\n",
       "       -3.91956143e-17])"
      ]
     },
     "execution_count": 228,
     "metadata": {},
     "output_type": "execute_result"
    }
   ],
   "source": [
    "mf_means = mf.numeric_integration_solve(N = 300)\n",
    "mf_means"
   ]
  },
  {
   "cell_type": "code",
   "execution_count": 229,
   "metadata": {},
   "outputs": [
    {
     "data": {
      "text/plain": [
       "-1.2396419271321333"
      ]
     },
     "execution_count": 229,
     "metadata": {},
     "output_type": "execute_result"
    }
   ],
   "source": [
    "mf.calc_expected_electrode_rates(mf_means, 1) * CONST.electron_charge"
   ]
  },
  {
   "cell_type": "code",
   "execution_count": 230,
   "metadata": {},
   "outputs": [
    {
     "data": {
      "text/plain": [
       "<matplotlib.collections.PathCollection at 0x7f8d4f927a90>"
      ]
     },
     "execution_count": 230,
     "metadata": {},
     "output_type": "execute_result"
    },
    {
     "data": {
      "image/png": "[encoded data removed]",
      "text/plain": [
       "<Figure size 640x480 with 1 Axes>"
      ]
     },
     "metadata": {},
     "output_type": "display_data"
    }
   ],
   "source": [
    "plt.errorbar(np.arange(net.N_particles)-0.15, means, yerr = np.sqrt(vars), linestyle = \"\", marker = \"+\")\n",
    "plt.scatter(np.arange(net.N_particles)+0.15, mf_means)"
   ]
  }
 ],
 "metadata": {
  "kernelspec": {
   "display_name": ".venv",
   "language": "python",
   "name": "python3"
  },
  "language_info": {
   "codemirror_mode": {
    "name": "ipython",
    "version": 3
   },
   "file_extension": ".py",
   "mimetype": "text/x-python",
   "name": "python",
   "nbconvert_exporter": "python",
   "pygments_lexer": "ipython3",
   "version": "3.8.10"
  },
  "orig_nbformat": 4
 },
 "nbformat": 4,
 "nbformat_minor": 2
}

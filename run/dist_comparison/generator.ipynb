{
 "cells": [
  {
   "cell_type": "code",
   "execution_count": 1,
   "metadata": {},
   "outputs": [
    {
     "name": "stderr",
     "output_type": "stream",
     "text": [
      "/tmp/ipykernel_620/2397363.py:30: MatplotlibDeprecationWarning: The seaborn styles shipped by Matplotlib are deprecated since 3.6, as they no longer correspond to the styles shipped by seaborn. However, they will remain available as 'seaborn-v0_8-<style>'. Alternatively, directly use the seaborn API instead.\n",
      "  plt.style.use('seaborn')\n"
     ]
    }
   ],
   "source": [
    "import sys\n",
    "sys.path.insert(0, \"../..\")\n",
    "def set_size(width = \"thesis\", fraction=1, subplots=(1, 1)):\n",
    "    if width == 'thesis':\n",
    "        width_pt = 426.79135\n",
    "    elif width == 'beamer':\n",
    "        width_pt = 307.28987\n",
    "    else:\n",
    "        width_pt = width\n",
    "\n",
    "    # Width of figure (in pts)\n",
    "    fig_width_pt = width_pt * fraction\n",
    "\n",
    "    # Convert from pt to inches\n",
    "    inches_per_pt = 1 / 72.27\n",
    "\n",
    "    # Golden ratio to set aesthetic figure height\n",
    "    golden_ratio = (5**0.5 - 1) / 2\n",
    "\n",
    "    # Figure width in inches\n",
    "    fig_width_in = fig_width_pt * inches_per_pt\n",
    "    # Figure height in inches\n",
    "    fig_height_in = fig_height_in = fig_width_in * golden_ratio * (subplots[0] / subplots[1])\n",
    "\n",
    "    fig_dim = (fig_width_in, fig_height_in)\n",
    "\n",
    "    return fig_dim\n",
    "import numpy as np\n",
    "from matplotlib import pyplot as plt\n",
    "plt.style.use('seaborn')\n",
    "\n",
    "from os import listdir\n",
    "from os.path import isfile, join\n",
    "\n",
    "from module.base.network import Network\n",
    "from module.simulation.meanfield import MeanField\n",
    "import module.components.CONST as CONST\n",
    "from module.simulation.set_meanfield2 import SetMeanField2\n",
    "from module.simulation.masterequation import MasterEquation\n",
    "from module.simulation.quick_meanfield2 import QuickMeanField2\n",
    "from module.simulation.meanfield2 import MeanField2\n",
    "from module.components.lawrence_dist import LawrenceDist\n",
    "from module.components.discrete_gaussian1D import DiscreteGaussian1D\n",
    "\n",
    "from module.components.restricted_gaussian1D import RestrictedGaussian1D\n",
    "from module.components.p2_4dist import p2_4dist"
   ]
  },
  {
   "cell_type": "code",
   "execution_count": 2,
   "metadata": {},
   "outputs": [],
   "source": [
    "def calc_rel_freq(data):\n",
    "    data = data.round()\n",
    "    phase_space = np.arange(data.min(), data.max() + 1)\n",
    "    n = []\n",
    "    N = data.shape[0]\n",
    "    for i, val in enumerate(phase_space):\n",
    "        n.append(np.where(data == phase_space[i])[0].shape[0])\n",
    "\n",
    "    n = np.array(n)\n",
    "    probs = n/N\n",
    "\n",
    "    return phase_space, probs"
   ]
  },
  {
   "cell_type": "code",
   "execution_count": 3,
   "metadata": {},
   "outputs": [],
   "source": [
    "ld = LawrenceDist()\n",
    "p2dist = p2_4dist()"
   ]
  },
  {
   "cell_type": "code",
   "execution_count": 4,
   "metadata": {},
   "outputs": [],
   "source": [
    "i = 25 # voltage config\n",
    "island =  3 # island\n",
    "voltage_config = np.loadtxt(\"../../data/cont_comparison/voltage_configs.csv\")[i]\n",
    "kmc_states = np.loadtxt(\"../../data/cont_comparison/kmc/\"+str(i)+\"_.csv\")\n",
    "kmc_phase_space, probs_kmc = calc_rel_freq(kmc_states[:, island])\n",
    "net = Network(4,4,1,[[0,0,0],[3,0,0],[0,3,0],[3,3,0]])\n",
    "net.set_voltage_config(voltage_config[0:4], 0)\n",
    "\n",
    "mf = MeanField(net)\n",
    "mf2 = MeanField2(net, include_covs = True)\n",
    "mf2_no_cov = MeanField2(net, include_covs = False)\n",
    "qmf2 = QuickMeanField2(net)"
   ]
  },
  {
   "cell_type": "code",
   "execution_count": 6,
   "metadata": {},
   "outputs": [],
   "source": [
    "means = np.zeros(16)\n",
    "qmf2.numeric_integration_solve(N = 0)\n",
    "qmf2.ADAM_solve(N = 0)"
   ]
  },
  {
   "cell_type": "code",
   "execution_count": 7,
   "metadata": {},
   "outputs": [],
   "source": [
    "mf2.ADAM_solve(N = 0)"
   ]
  },
  {
   "cell_type": "code",
   "execution_count": 7,
   "metadata": {},
   "outputs": [
    {
     "name": "stdout",
     "output_type": "stream",
     "text": [
      "convergence: 4.7697372804411664e-05\n"
     ]
    }
   ],
   "source": [
    "# first order\n",
    "means = mf.numeric_integration_solve(means, verbose = True)"
   ]
  },
  {
   "cell_type": "code",
   "execution_count": 12,
   "metadata": {},
   "outputs": [
    {
     "name": "stdout",
     "output_type": "stream",
     "text": [
      "Adam convergence: (0.0856166319243797, 0.05526217420617863, 0.038918955368433296)\n"
     ]
    }
   ],
   "source": [
    "# full second order\n",
    "\n",
    "mf2.ADAM_solve(verbose = True, N = 30, dt = 0.1, reset = False)"
   ]
  },
  {
   "cell_type": "code",
   "execution_count": 14,
   "metadata": {},
   "outputs": [
    {
     "name": "stdout",
     "output_type": "stream",
     "text": [
      "Adam convergence: (0.08240215965229931, 0.07564171146987231, 0.0)\n"
     ]
    }
   ],
   "source": [
    "# second order cov = 0\n",
    "\n",
    "mf2_no_cov.ADAM_solve(verbose = True, N = 80)"
   ]
  },
  {
   "cell_type": "code",
   "execution_count": 11,
   "metadata": {},
   "outputs": [
    {
     "name": "stdout",
     "output_type": "stream",
     "text": [
      "ADAM convergence: (0.010967650957424403, 0.0435144570570349)\n"
     ]
    }
   ],
   "source": [
    "# p^2-fdist\n",
    "\n",
    "#qmf2.numeric_integration_solve(verbose = True, dt = 0.1, reset = False)\n",
    "qmf2.ADAM_solve(N = 300, verbose = True, reset = False, learning_rate = 0.1)"
   ]
  }
 ],
 "metadata": {
  "kernelspec": {
   "display_name": ".venv",
   "language": "python",
   "name": "python3"
  },
  "language_info": {
   "codemirror_mode": {
    "name": "ipython",
    "version": 3
   },
   "file_extension": ".py",
   "mimetype": "text/x-python",
   "name": "python",
   "nbconvert_exporter": "python",
   "pygments_lexer": "ipython3",
   "version": "3.8.10"
  },
  "orig_nbformat": 4
 },
 "nbformat": 4,
 "nbformat_minor": 2
}

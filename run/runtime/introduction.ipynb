{
 "cells": [
  {
   "cell_type": "code",
   "execution_count": 1,
   "metadata": {},
   "outputs": [],
   "source": [
    "import sys\n",
    "sys.path.insert(0, \"../..\")"
   ]
  },
  {
   "cell_type": "code",
   "execution_count": 2,
   "metadata": {},
   "outputs": [],
   "source": [
    "import numpy as np\n",
    "from matplotlib import pyplot as plt"
   ]
  },
  {
   "attachments": {},
   "cell_type": "markdown",
   "metadata": {},
   "source": [
    "## Hi!\n",
    "Es gibt verschiedene Module die man importieren kann:\n",
    "\n",
    "**CONST** ist ein Skript, in welchem wichtige Konstanten (Kapazitäten, Tunnelwiderstand, Temperatur, etc.) in den passenden Einheiten gespeichert sind."
   ]
  },
  {
   "cell_type": "code",
   "execution_count": 3,
   "metadata": {},
   "outputs": [],
   "source": [
    "import module.components.CONST as CONST"
   ]
  },
  {
   "cell_type": "code",
   "execution_count": 4,
   "metadata": {},
   "outputs": [
    {
     "name": "stdout",
     "output_type": "stream",
     "text": [
      "elementary charge:  0.1602176634 [aC]\n"
     ]
    }
   ],
   "source": [
    "print(\"elementary charge: \", CONST.electron_charge, \"[aC]\") # Elementarladung in [aC]"
   ]
  },
  {
   "attachments": {},
   "cell_type": "markdown",
   "metadata": {},
   "source": [
    "**Network** ist eine Klasse, welche die Netzwerkgröße, Kapazitäten, Position der Elektroden und Berechnung der Tunnelraten übernimmt:"
   ]
  },
  {
   "cell_type": "code",
   "execution_count": 5,
   "metadata": {},
   "outputs": [],
   "source": [
    "from module.base.network import Network"
   ]
  },
  {
   "cell_type": "code",
   "execution_count": 6,
   "metadata": {},
   "outputs": [],
   "source": [
    "net = Network(4, 4, 1, [])                                    # ein 4 mal 4 mal 1 Netzwerk ohne Elektroden\n",
    "net = Network(4, 4, 1, [[0,0,0]])                             # ein 4 mal 4 mal 1 Netzwerk mit einer Elektrode unten links\n",
    "net = Network(4, 4, 1, [[0,0,0], [3,0,0],[0,3,0],[3,3,0]])    # das Netzwerk welches wir bisher oft genutzt haben"
   ]
  },
  {
   "attachments": {},
   "cell_type": "markdown",
   "metadata": {},
   "source": [
    "Man stellt dort auch die Spannungen ein:"
   ]
  },
  {
   "cell_type": "code",
   "execution_count": 7,
   "metadata": {},
   "outputs": [],
   "source": [
    "net.set_voltage_config([0, 0.1, 0.2, -0.2], -0.1) #Einstellen der 4 Elektroden auf 0V, 0.1V, 0.2V, -0.2V und der Gate auf -0.1V"
   ]
  },
  {
   "attachments": {},
   "cell_type": "markdown",
   "metadata": {},
   "source": [
    "Es gibt mittlerweile verschiedene Meanfield Ansätze. Die relevanten sind:\n",
    "\n",
    "- Meanfield erster Ordnung (MF1)\n",
    "- schnelles Meanfield zweiter Ordnung (QMF2)\n",
    "\n",
    "\n",
    "weniger relevant:\n",
    "\n",
    "- Meanfield zweiter Ordnung (MF2)\n",
    "- Meanfield zweiter Ordnung ohne Kovarianz\n",
    "- Meanfield speziell für Single-Electron-Transistor"
   ]
  },
  {
   "attachments": {},
   "cell_type": "markdown",
   "metadata": {},
   "source": [
    "# 1. Meanfield erster Ordnung \n",
    "\n",
    "**MeanField** ist die zu (MF1) gehörige Klasse:"
   ]
  },
  {
   "cell_type": "code",
   "execution_count": 8,
   "metadata": {},
   "outputs": [],
   "source": [
    "from module.simulation.meanfield import MeanField"
   ]
  },
  {
   "cell_type": "code",
   "execution_count": 9,
   "metadata": {},
   "outputs": [],
   "source": [
    "mf = MeanField(net)         # ganz einfach Meanfield mit dem passenden Netzwerk initialisieren"
   ]
  },
  {
   "attachments": {},
   "cell_type": "markdown",
   "metadata": {},
   "source": [
    "MeanField arbeitet ohne internen Zustand. Man kann die Methode *numeric_integration_solve()* ohne Anfangsbedingung aufrufen und eine gewissen Anzahl an zeitlicher Iterationen ausführen:"
   ]
  },
  {
   "cell_type": "code",
   "execution_count": 10,
   "metadata": {},
   "outputs": [
    {
     "name": "stdout",
     "output_type": "stream",
     "text": [
      "convergence: 3.6518301678029053e-06\n"
     ]
    }
   ],
   "source": [
    "mean_state = mf.numeric_integration_solve(N = 100,  dt = 0.1, verbose = True)  # berechnung des mean states nach 10ns"
   ]
  },
  {
   "attachments": {},
   "cell_type": "markdown",
   "metadata": {},
   "source": [
    "*N*  ist die Anzahl an Integrationssgteps, *dt* die Integrationsschrittweite. *verbose* regelt hier, ob die Konvergenzmetrik (Betragsmaximum der Ableitung) ausgegeben werden soll. $10^{-6}$ ist schon sehr gut.. für die anderen Algorithmen reicht oft auch 0.01 oder sogar 0.1. Manchmal ist die Aussage dieser Metrik aber auch nicht besonders gut, da es sein kann, dass der Algorithmus um den Fixpunkt oszilliert. Für unsere Laufzeitanalyse will man wahrscheinlich nicht direckt bis zur vollen Komvergenz rechnen, sondern in kleinen Portionen:"
   ]
  },
  {
   "cell_type": "code",
   "execution_count": 11,
   "metadata": {},
   "outputs": [
    {
     "name": "stdout",
     "output_type": "stream",
     "text": [
      "convergence: 1.7428966504923702\n",
      "convergence: 0.4981564103430802\n",
      "convergence: 0.18027023498565445\n",
      "convergence: 0.04256185833198978\n",
      "convergence: 0.009015554885386579\n",
      "convergence: 0.0018811397206799363\n",
      "convergence: 0.00039303571359150524\n",
      "convergence: 8.239919452546207e-05\n",
      "convergence: 1.732668653696423e-05\n",
      "convergence: 3.6518301678029053e-06\n"
     ]
    }
   ],
   "source": [
    "mean_state = np.zeros(16)\n",
    "\n",
    "for i in range(10):             # mehrfach ein bisschen rechnen\n",
    "    mean_state = mf.numeric_integration_solve(mean_state, N = 10, dt = 0.1, verbose = True)"
   ]
  },
  {
   "attachments": {},
   "cell_type": "markdown",
   "metadata": {},
   "source": [
    "Die Ströme berechnet man im Anschluss wie folgt:"
   ]
  },
  {
   "cell_type": "code",
   "execution_count": 12,
   "metadata": {},
   "outputs": [],
   "source": [
    "electrode_index = 3\n",
    "\n",
    "current = -mf.calc_expected_electrode_rates(mean_state, electrode_index) * CONST.electron_charge"
   ]
  },
  {
   "cell_type": "code",
   "execution_count": 13,
   "metadata": {},
   "outputs": [
    {
     "name": "stdout",
     "output_type": "stream",
     "text": [
      "Strom an Elektrode 3: 3.975254802888332 [nA]\n"
     ]
    }
   ],
   "source": [
    "print(\"Strom an Elektrode \"+str(electrode_index)+\":\", current, \"[nA]\")"
   ]
  },
  {
   "attachments": {},
   "cell_type": "markdown",
   "metadata": {},
   "source": [
    "#### wichtig!\n",
    "Um deine Ströme in meine umzurechnen musst du deine mal die Elementarladung in [aC] nehmen und durch 1000 teilen:"
   ]
  },
  {
   "cell_type": "code",
   "execution_count": 14,
   "metadata": {},
   "outputs": [],
   "source": [
    "I_KMC = 24811.588925521     # ein mögliches Ergebnis deines Algorithmus"
   ]
  },
  {
   "cell_type": "code",
   "execution_count": 15,
   "metadata": {},
   "outputs": [
    {
     "name": "stdout",
     "output_type": "stream",
     "text": [
      "der umgerechnete Strom: I = 3.9752548028882906 [nA]\n"
     ]
    }
   ],
   "source": [
    "I_MF = I_KMC * CONST.electron_charge / 1000\n",
    "print(\"der umgerechnete Strom: I =\",I_MF, \"[nA]\")"
   ]
  },
  {
   "attachments": {},
   "cell_type": "markdown",
   "metadata": {},
   "source": [
    "Die stückweise Zeitentwicklung und die Berechnung der Ströme in einem sähe so aus:"
   ]
  },
  {
   "cell_type": "code",
   "execution_count": 16,
   "metadata": {},
   "outputs": [
    {
     "name": "stdout",
     "output_type": "stream",
     "text": [
      "i = 0\tconvergence: 17.681124728333316\n",
      "i = 10\tconvergence: 1.5366863505335444\n",
      "i = 20\tconvergence: 0.41783595190078077\n",
      "i = 30\tconvergence: 0.15808291017140913\n",
      "i = 40\tconvergence: 0.03651889420360564\n",
      "i = 50\tconvergence: 0.0077091958366872215\n",
      "i = 60\tconvergence: 0.0016082829806559479\n",
      "i = 70\tconvergence: 0.0003361357183482988\n",
      "i = 80\tconvergence: 7.049343020527898e-05\n",
      "i = 90\tconvergence: 1.4827045284784846e-05\n",
      "i = 100\tconvergence: 3.125610224072317e-06\n",
      "i = 110\tconvergence: 6.5999255331739e-07\n",
      "i = 120\tconvergence: 1.3953264846322533e-07\n",
      "i = 130\tconvergence: 2.952587120630401e-08\n",
      "i = 140\tconvergence: 6.251935524836938e-09\n",
      "i = 150\tconvergence: 1.3244461360972792e-09\n",
      "i = 160\tconvergence: 2.806773702346277e-10\n",
      "i = 170\tconvergence: 5.949614412248394e-11\n",
      "i = 180\tconvergence: 1.2613493582946944e-11\n",
      "i = 190\tconvergence: 2.6741941994146146e-12\n",
      "i = 200\tconvergence: 5.667133429199112e-13\n",
      "i = 210\tconvergence: 1.2051470932306074e-13\n",
      "i = 220\tconvergence: 2.4646951146678475e-14\n",
      "i = 230\tconvergence: 1.4765966227514582e-14\n",
      "i = 240\tconvergence: 1.3988810110276972e-14\n",
      "i = 250\tconvergence: 1.7763568394002505e-14\n",
      "i = 260\tconvergence: 1.7763568394002505e-14\n",
      "i = 270\tconvergence: 1.7763568394002505e-14\n",
      "i = 280\tconvergence: 1.7763568394002505e-14\n",
      "i = 290\tconvergence: 1.7763568394002505e-14\n"
     ]
    }
   ],
   "source": [
    "N = 300\n",
    "mf_currents = np.zeros(N)\n",
    "\n",
    "mean_state = np.zeros(16)\n",
    "for i in range(N):\n",
    "    mean_state = mf.numeric_integration_solve(mean_state, N = 1, dt = 0.1)\n",
    "    current = -mf.calc_expected_electrode_rates(mean_state, 3) * CONST.electron_charge\n",
    "\n",
    "    if i % 10 == 0:\n",
    "        print(\"i = \"+str(i)+\"\\tconvergence:\", mf.convergence_metric(mean_state))  # das zieht Laufzeit\n",
    "\n",
    "    mf_currents[i] = current"
   ]
  },
  {
   "cell_type": "code",
   "execution_count": 17,
   "metadata": {},
   "outputs": [
    {
     "data": {
      "text/plain": [
       "Text(0.5, 1.0, 'Zeitentwicklung des Stroms')"
      ]
     },
     "execution_count": 17,
     "metadata": {},
     "output_type": "execute_result"
    },
    {
     "data": {
      "image/png": "[encoded data removed]",
      "text/plain": [
       "<Figure size 640x480 with 1 Axes>"
      ]
     },
     "metadata": {},
     "output_type": "display_data"
    }
   ],
   "source": [
    "plt.plot(mf_currents)\n",
    "plt.xlabel(\"Iterations\")\n",
    "plt.ylabel(\"Current [nA]\")\n",
    "plt.title(\"Zeitentwicklung des Stroms\")"
   ]
  },
  {
   "attachments": {},
   "cell_type": "markdown",
   "metadata": {},
   "source": [
    "Mit den Konvergenzintervallen sähe das dann ja so aus:"
   ]
  },
  {
   "cell_type": "code",
   "execution_count": 18,
   "metadata": {},
   "outputs": [],
   "source": [
    "I_true = 4.04487063557744          # angenommen das wäre der wahre Strom bei Elektrode 3... das würden wir ja durch einen langen KMC run herausfinden"
   ]
  },
  {
   "cell_type": "code",
   "execution_count": 19,
   "metadata": {},
   "outputs": [],
   "source": [
    "mf_rel_errs = np.abs(I_true - mf_currents) / np.abs(I_true)   # relativer Fehler nach jeweiliger Anzahl iterationen"
   ]
  },
  {
   "cell_type": "code",
   "execution_count": 21,
   "metadata": {},
   "outputs": [
    {
     "data": {
      "text/plain": [
       "(0.0, 0.1)"
      ]
     },
     "execution_count": 21,
     "metadata": {},
     "output_type": "execute_result"
    },
    {
     "data": {
      "image/png": "[encoded data removed]",
      "text/plain": [
       "<Figure size 640x480 with 1 Axes>"
      ]
     },
     "metadata": {},
     "output_type": "display_data"
    }
   ],
   "source": [
    "plt.scatter(np.arange(N), mf_rel_errs)\n",
    "plt.xlabel(\"Number of Iterations\")\n",
    "plt.ylabel(\"Accuracy\")\n",
    "\n",
    "# plt.yscale(\"log\")\n",
    "plt.ylim(0, 0.1)"
   ]
  },
  {
   "attachments": {},
   "cell_type": "markdown",
   "metadata": {},
   "source": [
    "Da die Iterationen alle gleich schnell gehen könnte man separat die mittlere Zeit für eine Iteration bestimmen:"
   ]
  },
  {
   "cell_type": "code",
   "execution_count": 21,
   "metadata": {},
   "outputs": [],
   "source": [
    "mf_dt = 0.1 #[ms]   #Angenommen das wäre die Zeit pro Iteration für den MF1 Algorithmus (statistisch bestimmen, siehe Ende des Dokuments)"
   ]
  },
  {
   "cell_type": "code",
   "execution_count": 22,
   "metadata": {},
   "outputs": [
    {
     "data": {
      "image/png": "[encoded data removed]",
      "text/plain": [
       "<Figure size 640x480 with 1 Axes>"
      ]
     },
     "metadata": {},
     "output_type": "display_data"
    }
   ],
   "source": [
    "plt.scatter(np.arange(N) * mf_dt, mf_rel_errs)\n",
    "plt.xlabel(\"Time [ms]\")\n",
    "plt.ylabel(\"Accuracy\")\n",
    "\n",
    "plt.yscale(\"log\")"
   ]
  },
  {
   "attachments": {},
   "cell_type": "markdown",
   "metadata": {},
   "source": [
    "# 2. (schnelles) Meanfield zweiter Ordnung (QMF2)\n",
    "\n",
    "Hier funktioniert sogar noch einfacher. Das QuickMeanField2-Objekt speichert seine aktuellen means und varianzen und man kann flexibel weiterrechnen lassen:"
   ]
  },
  {
   "cell_type": "code",
   "execution_count": 23,
   "metadata": {},
   "outputs": [],
   "source": [
    "from module.simulation.quick_meanfield2 import QuickMeanField2"
   ]
  },
  {
   "cell_type": "code",
   "execution_count": 24,
   "metadata": {},
   "outputs": [],
   "source": [
    "qmf2 = QuickMeanField2(net)"
   ]
  },
  {
   "attachments": {},
   "cell_type": "markdown",
   "metadata": {},
   "source": [
    "Hier gibt es zwei Lösungsverfahren: entweder numerische Integration *numeric_integration_solve()* oder das Verfahren mit ADAM. Am besten machen wir für den ADAM Versuch noch ein weiteres Objekt:"
   ]
  },
  {
   "cell_type": "code",
   "execution_count": 25,
   "metadata": {},
   "outputs": [],
   "source": [
    "qmf2_ADAM = QuickMeanField2(net)\n",
    "qmf2_ADAM.ADAM_solve(N = 0) # einmal ADAM initialisieren"
   ]
  },
  {
   "attachments": {},
   "cell_type": "markdown",
   "metadata": {},
   "source": [
    "Die Spannungskonfiguration ist ja noch durch das Netzwerk gesetzt."
   ]
  },
  {
   "cell_type": "code",
   "execution_count": 26,
   "metadata": {},
   "outputs": [],
   "source": [
    "N = 100\n",
    "qmf2_currents = np.zeros(N)\n",
    "qmf2_ADAM_currents = np.zeros(N)\n",
    "\n",
    "for i in range(N):\n",
    "    qmf2.numeric_integration_solve(N = 1, dt = 0.08, reset = False)     # wichtig ist hier reset auszuschalten, da er sonst immer von vorne anfängt\n",
    "    qmf2_ADAM.ADAM_solve(N = 1, learning_rate = 0.1, reset = False)\n",
    "\n",
    "    current = -qmf2.calc_expected_electrode_current(3)\n",
    "    current_ADAM = -qmf2_ADAM.calc_expected_electrode_current(3)\n",
    "\n",
    "    qmf2_currents[i] = np.copy(current)\n",
    "    qmf2_ADAM_currents[i] = np.copy(current_ADAM)"
   ]
  },
  {
   "cell_type": "code",
   "execution_count": 27,
   "metadata": {},
   "outputs": [
    {
     "data": {
      "text/plain": [
       "<matplotlib.legend.Legend at 0x7fa80dea2d00>"
      ]
     },
     "execution_count": 27,
     "metadata": {},
     "output_type": "execute_result"
    },
    {
     "data": {
      "image/png": "[encoded data removed]",
      "text/plain": [
       "<Figure size 640x480 with 1 Axes>"
      ]
     },
     "metadata": {},
     "output_type": "display_data"
    }
   ],
   "source": [
    "plt.plot(qmf2_currents, label = \"Euler\")\n",
    "plt.plot(qmf2_ADAM_currents, label = \"ADAM\")\n",
    "\n",
    "plt.legend()"
   ]
  },
  {
   "attachments": {},
   "cell_type": "markdown",
   "metadata": {},
   "source": [
    "jetzt die Genauigkeiten:"
   ]
  },
  {
   "cell_type": "code",
   "execution_count": 28,
   "metadata": {},
   "outputs": [],
   "source": [
    "qmf2_dt = 0.3 #[ms]  # statistische Zeit pro step\n",
    "\n",
    "qmf2_rel_errs = np.abs(I_true - qmf2_currents) / np.abs(I_true)             # Eulers method\n",
    "qmf2_ADAM_rel_errs = np.abs(I_true - qmf2_ADAM_currents) / np.abs(I_true)   # ADAM method"
   ]
  },
  {
   "cell_type": "code",
   "execution_count": 31,
   "metadata": {},
   "outputs": [
    {
     "data": {
      "image/png": "[encoded data removed]",
      "text/plain": [
       "<Figure size 640x480 with 1 Axes>"
      ]
     },
     "metadata": {},
     "output_type": "display_data"
    }
   ],
   "source": [
    "plt.scatter(np.arange(N) * qmf2_dt, qmf2_rel_errs, marker = \".\", label = \"QFM2\")\n",
    "plt.scatter(np.arange(N) * qmf2_dt, qmf2_ADAM_rel_errs, marker = \".\", label = \"QMF2 ADAM\")\n",
    "\n",
    "\n",
    "plt.scatter(np.arange(300) * mf_dt, mf_rel_errs, marker = \".\", label = \"MF1\")\n",
    "\n",
    "plt.legend()\n",
    "\n",
    "\n",
    "plt.xlabel(\"Runtime [ms]\")\n",
    "plt.ylabel(\"Accuracy\")\n",
    "\n",
    "plt.yscale(\"log\")\n",
    "plt.title(\"Time-dependent Current Accuracy\")\n",
    "plt.savefig(\"./runtime_ex.pdf\")"
   ]
  },
  {
   "cell_type": "code",
   "execution_count": 133,
   "metadata": {},
   "outputs": [],
   "source": [
    "# jetzt fehlt da noch die KMC kurve :)\n",
    "\n",
    "# am Ende könnte man dann die Durschscnittswerte für 100 versch. Spannungen bilden.\n",
    "# ich kann auch selbst die Anzahl an notwendigen steps zählen und die Integrationsschrittweite der Algorithmen anpassen,\n",
    "# du könntest vllt einmal bestimmen wie lange 1000 Iterationen im 4x4 system dauern:"
   ]
  },
  {
   "cell_type": "code",
   "execution_count": 136,
   "metadata": {},
   "outputs": [
    {
     "data": {
      "text/plain": [
       "array([3.11829332, 3.55339815, 3.80099709, 4.43795496, 3.97158831,\n",
       "       3.51529119, 3.32421634, 3.03844584, 4.71499715, 3.63657707,\n",
       "       2.8101584 , 1.76258997, 5.9765282 , 4.05114721, 2.08484476,\n",
       "       0.052342  ])"
      ]
     },
     "execution_count": 136,
     "metadata": {},
     "output_type": "execute_result"
    }
   ],
   "source": [
    "# timeit\n",
    "\n",
    "mf.numeric_integration_solve(N = 1000, dt = 0.1)\n",
    "\n",
    "# timeit end"
   ]
  },
  {
   "cell_type": "code",
   "execution_count": 137,
   "metadata": {},
   "outputs": [],
   "source": [
    "# timeit\n",
    "\n",
    "qmf2.numeric_integration_solve(N = 1000, dt = 0.1)\n",
    "\n",
    "# timeit end"
   ]
  },
  {
   "cell_type": "code",
   "execution_count": 138,
   "metadata": {},
   "outputs": [],
   "source": [
    "# timeit\n",
    "\n",
    "qmf2_ADAM.ADAM_solve(N = 1000)\n",
    "\n",
    "# timeit end"
   ]
  },
  {
   "cell_type": "code",
   "execution_count": 139,
   "metadata": {},
   "outputs": [],
   "source": [
    "#  das wäre denke ich am einfachsten :)"
   ]
  },
  {
   "attachments": {},
   "cell_type": "markdown",
   "metadata": {},
   "source": [
    "---"
   ]
  }
 ],
 "metadata": {
  "kernelspec": {
   "display_name": "Python 3 (ipykernel)",
   "language": "python",
   "name": "python3"
  },
  "language_info": {
   "codemirror_mode": {
    "name": "ipython",
    "version": 3
   },
   "file_extension": ".py",
   "mimetype": "text/x-python",
   "name": "python",
   "nbconvert_exporter": "python",
   "pygments_lexer": "ipython3",
   "version": "3.8.10"
  }
 },
 "nbformat": 4,
 "nbformat_minor": 2
}

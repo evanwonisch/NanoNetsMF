{
 "cells": [
  {
   "cell_type": "code",
   "execution_count": 97,
   "metadata": {},
   "outputs": [],
   "source": [
    "import sys\n",
    "sys.path.insert(0, \"..\")\n",
    "\n",
    "import numpy as np\n",
    "from matplotlib import pyplot as plt\n",
    "\n",
    "from module.base.network import Network\n",
    "\n",
    "from module.simulation.meanfield import MeanField\n",
    "from module.simulation.quick_meanfield2 import QuickMeanField2\n",
    "from module.simulation.meanfield2 import MeanField2\n",
    "from module.simulation.set_meanfield2 import SetMeanField2\n",
    "\n",
    "import module.components.CONST as CONST\n",
    "from module.components.lawrence_dist import LawrenceDist\n",
    "\n",
    "from module.components.Adam import Adam"
   ]
  },
  {
   "cell_type": "code",
   "execution_count": 105,
   "metadata": {},
   "outputs": [],
   "source": [
    "mf_means = np.loadtxt(\"../data/large_sys/mf2/entropy_means6x6.csv\")\n",
    "mf_currents = np.loadtxt(\"../data/large_sys/mf2/entropy_currents6x6.csv\")\n",
    "mf_convergence = np.loadtxt(\"../data/large_sys/mf2/entropy_conv_means6x6.csv\")"
   ]
  },
  {
   "cell_type": "code",
   "execution_count": 99,
   "metadata": {},
   "outputs": [],
   "source": [
    "kmc_means = np.loadtxt(\"../data/large_sys/kmc/kmc_states6x6.csv\")\n",
    "kmc_currents = np.loadtxt(\"../data/large_sys/kmc/kmc_currents6x6.csv\")\n",
    "kmc_steps = np.loadtxt(\"../data/large_sys/kmc/kmc_steps6x6.csv\")"
   ]
  },
  {
   "cell_type": "code",
   "execution_count": 107,
   "metadata": {},
   "outputs": [],
   "source": [
    "cond = np.logical_and(kmc_currents > 0.01, kmc_steps < 2e7)\n",
    "cond = np.logical_and(cond, mf_convergence < 0.05)\n",
    "valid = np.where(cond)[0]"
   ]
  },
  {
   "cell_type": "code",
   "execution_count": 108,
   "metadata": {},
   "outputs": [],
   "source": [
    "rel_errs = np.abs(mf_currents - kmc_currents)/np.abs(kmc_currents)\n",
    "MAE = np.abs(mf_means - kmc_means)"
   ]
  },
  {
   "cell_type": "code",
   "execution_count": 112,
   "metadata": {},
   "outputs": [
    {
     "data": {
      "text/plain": [
       "0.04200510671954736"
      ]
     },
     "execution_count": 112,
     "metadata": {},
     "output_type": "execute_result"
    }
   ],
   "source": [
    "np.mean(rel_errs[valid])"
   ]
  },
  {
   "cell_type": "code",
   "execution_count": 113,
   "metadata": {},
   "outputs": [
    {
     "data": {
      "text/plain": [
       "0.040329333163539115"
      ]
     },
     "execution_count": 113,
     "metadata": {},
     "output_type": "execute_result"
    }
   ],
   "source": [
    "np.mean(MAE[valid])"
   ]
  },
  {
   "cell_type": "code",
   "execution_count": null,
   "metadata": {},
   "outputs": [],
   "source": []
  }
 ],
 "metadata": {
  "kernelspec": {
   "display_name": ".venv",
   "language": "python",
   "name": "python3"
  },
  "language_info": {
   "codemirror_mode": {
    "name": "ipython",
    "version": 3
   },
   "file_extension": ".py",
   "mimetype": "text/x-python",
   "name": "python",
   "nbconvert_exporter": "python",
   "pygments_lexer": "ipython3",
   "version": "3.8.10"
  },
  "orig_nbformat": 4
 },
 "nbformat": 4,
 "nbformat_minor": 2
}

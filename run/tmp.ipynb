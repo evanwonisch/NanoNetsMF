{
 "cells": [
  {
   "cell_type": "code",
   "execution_count": 1,
   "metadata": {},
   "outputs": [],
   "source": [
    "import sys\n",
    "sys.path.insert(0, \"..\")\n",
    "\n",
    "import numpy as np\n",
    "from matplotlib import pyplot as plt\n",
    "\n",
    "from module.base.network import Network\n",
    "\n",
    "from module.simulation.meanfield import MeanField\n",
    "from module.simulation.quick_meanfield2 import QuickMeanField2\n",
    "from module.simulation.meanfield2 import MeanField2\n",
    "from module.simulation.set_meanfield2 import SetMeanField2\n",
    "\n",
    "import module.components.CONST as CONST\n",
    "from module.components.lawrence_dist import LawrenceDist\n",
    "\n",
    "from module.components.Adam import Adam"
   ]
  },
  {
   "cell_type": "code",
   "execution_count": 63,
   "metadata": {},
   "outputs": [],
   "source": [
    "voltage_configs = np.loadtxt(\"../data/cont_comparison/voltage_configs.csv\")"
   ]
  },
  {
   "cell_type": "code",
   "execution_count": 70,
   "metadata": {},
   "outputs": [],
   "source": [
    "net = Network(4,4,1,[[0,0,0],[3,0,0],[0,3,0],[3,3,0]])\n",
    "net.set_voltage_config(voltage_configs[141], 0)"
   ]
  },
  {
   "cell_type": "code",
   "execution_count": 71,
   "metadata": {},
   "outputs": [
    {
     "name": "stdout",
     "output_type": "stream",
     "text": [
      "convergence: 0.036920045681325106\n",
      "0.3111072456761242\n"
     ]
    }
   ],
   "source": [
    "mf = MeanField(net)\n",
    "mf_mean = mf.numeric_integration_solve(verbose = True, N = 500, dt = 0.01)\n",
    "print(mf_mean[7])"
   ]
  },
  {
   "cell_type": "code",
   "execution_count": 79,
   "metadata": {},
   "outputs": [
    {
     "name": "stdout",
     "output_type": "stream",
     "text": [
      "ADAM convergence: (0.04208388861373268, 0.026882807685154095)\n",
      "0.29151827265916425\n",
      "convergence: (0.04257593802871069, 0.01878283358623962)\n",
      "0.33488740682313556\n"
     ]
    }
   ],
   "source": [
    "qmf2 = QuickMeanField2(net)\n",
    "qmf2.ADAM_solve(N = 700, learning_rate = 0.005, reset = True, verbose = True)\n",
    "print(qmf2.means[7])\n",
    "qmf2.numeric_integration_solve(N = 700, verbose = True, reset = True, dt = 0.01)\n",
    "print(qmf2.means[7])"
   ]
  },
  {
   "cell_type": "code",
   "execution_count": null,
   "metadata": {},
   "outputs": [],
   "source": []
  }
 ],
 "metadata": {
  "kernelspec": {
   "display_name": ".venv",
   "language": "python",
   "name": "python3"
  },
  "language_info": {
   "codemirror_mode": {
    "name": "ipython",
    "version": 3
   },
   "file_extension": ".py",
   "mimetype": "text/x-python",
   "name": "python",
   "nbconvert_exporter": "python",
   "pygments_lexer": "ipython3",
   "version": "3.8.10"
  },
  "orig_nbformat": 4
 },
 "nbformat": 4,
 "nbformat_minor": 2
}

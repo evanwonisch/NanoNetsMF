{
 "cells": [
  {
   "cell_type": "code",
   "execution_count": 1,
   "metadata": {},
   "outputs": [],
   "source": [
    "import sys\n",
    "sys.path.insert(0, \"..\")\n",
    "\n",
    "import numpy as np\n",
    "from matplotlib import pyplot as plt\n",
    "\n",
    "from module.base.network import Network\n",
    "\n",
    "from module.simulation.meanfield import MeanField\n",
    "from module.simulation.quick_meanfield2 import QuickMeanField2\n",
    "from module.simulation.meanfield2 import MeanField2\n",
    "from module.simulation.set_meanfield2 import SetMeanField2\n",
    "\n",
    "import module.components.CONST as CONST\n",
    "from module.components.lawrence_dist import LawrenceDist\n",
    "\n",
    "from module.components.restricted_gaussian1D import RestrictedGaussian1D\n",
    "from module.components.discrete_gaussian1D import DiscreteGaussian1D\n",
    "\n",
    "from module.components.Adam import Adam\n",
    "\n",
    "from scipy.integrate import odeint"
   ]
  },
  {
   "cell_type": "code",
   "execution_count": null,
   "metadata": {},
   "outputs": [],
   "source": [
    " mean = self.means[f_indices]\n",
    "        var = self.vars[f_indices]\n",
    "        d = mean - np.floor(mean)\n",
    "\n",
    "        var = np.clip(var, d * (1 - d), (2 - d) * (1 + d) - 0.2)\n",
    "        alpha = -(d + 1) ** 2 + 5 * (d + 1) - 6 - var\n",
    "        beta = 2 - d\n",
    "        p0_opt = 1/40 * (2 - 10 * alpha - 8 * beta)\n",
    "        a = 0.5 * (var - d * (1 - d))\n",
    "\n",
    "        p0 = np.clip(p0_opt, 0, a * (2-d)/3)\n",
    "        p1 = -0.5 * (alpha + 6 * p0)\n",
    "    p2 = alpha + beta + 3*p0\n",
    "        p3 = 1 - p0 - p1 - p2"
   ]
  },
  {
   "cell_type": "code",
   "execution_count": null,
   "metadata": {},
   "outputs": [],
   "source": []
  },
  {
   "cell_type": "code",
   "execution_count": null,
   "metadata": {},
   "outputs": [],
   "source": []
  }
 ],
 "metadata": {
  "kernelspec": {
   "display_name": ".venv",
   "language": "python",
   "name": "python3"
  },
  "language_info": {
   "codemirror_mode": {
    "name": "ipython",
    "version": 3
   },
   "file_extension": ".py",
   "mimetype": "text/x-python",
   "name": "python",
   "nbconvert_exporter": "python",
   "pygments_lexer": "ipython3",
   "version": "3.8.10"
  },
  "orig_nbformat": 4
 },
 "nbformat": 4,
 "nbformat_minor": 2
}

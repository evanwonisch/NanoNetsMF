{
 "cells": [
  {
   "cell_type": "code",
   "execution_count": 6,
   "metadata": {},
   "outputs": [],
   "source": [
    "import numpy as np\n",
    "from matplotlib import pyplot as plt\n",
    "import scipy.constants\n",
    "import np_lib\n",
    "\n",
    "from typing import Tuple, List"
   ]
  },
  {
   "cell_type": "code",
   "execution_count": 7,
   "metadata": {},
   "outputs": [],
   "source": [
    "# Network dimensions\n",
    "N_x, N_y, N_z = 2, 2, 2\n",
    "\n",
    "# Number of particles\n",
    "N_particles = N_x * N_y * N_z\n",
    "    \n",
    "# Nanoparticle Resistance\n",
    "R               = 25e-12\n",
    "\n",
    "# Input Electrode Positions\n",
    "input_pos = [[0,0,0]]\n",
    "\n",
    "# Output Electrode Positions\n",
    "output_pos = [[N_x - 1, N_y - 1, N_z - 1]]\n",
    "\n",
    "# Control Electrode Positions\n",
    "control_pos = []\n",
    "\n",
    "# Temperature [K]\n",
    "T = 0.28\n",
    "\n",
    "# Further Constants\n",
    "\n",
    "electron_charge = 0.1602176634  # [aC]             a = atto\n",
    "kb = 1.380649e-05               # Boltzmannkonstante [aJ/K]\n",
    "tunnel_resistance = 2.5e-11     # Tunnelwiderstand [1/a Ohm]\n",
    "\n"
   ]
  },
  {
   "cell_type": "code",
   "execution_count": 8,
   "metadata": {},
   "outputs": [],
   "source": [
    "capacitance_values, elec = np_lib.build_network(N_x, N_y, N_z, input_pos, output_pos, control_pos)\n",
    "C = elec.capacitance_matrix     # Capacitance in [aF]\n",
    "inv_C = np.linalg.inv(C)"
   ]
  },
  {
   "cell_type": "code",
   "execution_count": 9,
   "metadata": {},
   "outputs": [],
   "source": [
    "def get_index(index_x : int, index_y : int, index_z : int) -> int:\n",
    "    \"\"\"\n",
    "    Transforms nanoparitcle-3D-coordinates to linear indices\n",
    "    \"\"\"\n",
    "    return index_x + N_x * index_y + N_x * N_y * index_z"
   ]
  },
  {
   "cell_type": "code",
   "execution_count": 10,
   "metadata": {},
   "outputs": [],
   "source": [
    "def get_voltage_config(input_voltages : List[float], output_voltages : List[float], control_voltages : List[float], gate_voltage : float) -> dict:\n",
    "    \"\"\"\n",
    "    Bundles all voltages aplied to the network\n",
    "    input_voltages      :   list of voltages for each input electrode\n",
    "    output_voltages     :   list of voltages for each output electrode\n",
    "    control_voltages    :   list of voltages for each control electrode\n",
    "    \"\"\"\n",
    "\n",
    "    assert len(input_voltages) == len(input_pos), \"Wrong number of input voltages\"\n",
    "    assert len(output_voltages) == len(output_pos), \"Wrong number of output voltages\"\n",
    "    assert len(control_voltages) == len(control_pos), \"Wrong number of control voltages\"\n",
    "\n",
    "    return {\n",
    "        'input_voltages'   : input_voltages,\n",
    "        'output_voltages'  : output_voltages,\n",
    "        'control_voltages' : control_voltages,\n",
    "        'gate_voltage'     : gate_voltage\n",
    "    }"
   ]
  },
  {
   "cell_type": "code",
   "execution_count": 11,
   "metadata": {},
   "outputs": [],
   "source": [
    "def calc_induced_charges(voltage_config : dict) -> List[float]:\n",
    "    \"\"\"\n",
    "    For given voltage configuration, this calculates what needs to be added to the elementary system-charges\n",
    "    to calculate the charge vector. The in/out/control charges will be added only to particles whose positions are specified.\n",
    "    The gate voltage will be apllied to all particles concerning the self-capacitance.\n",
    "\n",
    "    This is just an effect created by applied voltages\n",
    "    \"\"\"\n",
    "\n",
    "    dq = np.zeros(shape = N_particles)\n",
    "\n",
    "    c_electrode = capacitance_values['lead']    #Kapazität zu den Elektroden\n",
    "    c_gate = capacitance_values[\"self\"]         #Kapazität zum Gate\n",
    "\n",
    "    ## input electrodes\n",
    "    for i, (x,y,z) in enumerate(input_pos):\n",
    "        list_index = get_index(x,y,z)\n",
    "        dq[list_index] += voltage_config['input_voltages'][i] * c_electrode\n",
    "\n",
    "    ## output electrodes\n",
    "    for i, (x,y,z) in enumerate(output_pos):\n",
    "        list_index = get_index(x,y,z)\n",
    "        dq[list_index] += voltage_config['output_voltages'][i] * c_electrode\n",
    "\n",
    "    ## control electrodes\n",
    "    for i, (x,y,z) in enumerate(control_pos):\n",
    "        list_index = get_index(x,y,z)\n",
    "        dq[list_index] += voltage_config['control_voltages'][i] * c_electrode\n",
    "\n",
    "    dq += c_gate * voltage_config['gate_voltage']\n",
    "\n",
    "    return dq"
   ]
  },
  {
   "cell_type": "code",
   "execution_count": 7,
   "metadata": {},
   "outputs": [],
   "source": [
    "def calc_free_energy(charge_vector : List[float]) -> float:\n",
    "    \"\"\"\n",
    "    Calculates the total free energy\n",
    "    charge_vector   :   represents the effective charges on each island\n",
    "    \"\"\"\n",
    "    assert charge_vector.shape == (N_particles,), \"Wrong number of particles\"\n",
    "\n",
    "    F = 0.5 * charge_vector.T @ inv_C @ charge_vector\n",
    "\n",
    "    return F"
   ]
  },
  {
   "cell_type": "code",
   "execution_count": 9,
   "metadata": {},
   "outputs": [],
   "source": [
    "def apply_tunnel_event(charge_vector : List[float], index_from : int, index_to : int) -> List[float]:\n",
    "    \"\"\"\n",
    "    Copies the charge vector and changes it according to tunnel event\n",
    "    charge_vector   :   vector describing the effective charges on each island\n",
    "    index_from      :   island-index from where electron tunnels\n",
    "    index_to        :   island to which electron tunnels\n",
    "    \"\"\"\n",
    "    res = np.array(charge_vector, copy = True)\n",
    "    res[index_from] -= electron_charge\n",
    "    res[index_to] += electron_charge\n",
    "\n",
    "    return res"
   ]
  },
  {
   "cell_type": "code",
   "execution_count": 21,
   "metadata": {},
   "outputs": [],
   "source": [
    "def calc_tunnel_rate(deltaF):\n",
    "    return np.where(deltaF == 0, kb*T/electron_charge**2/tunnel_resistance, -deltaF/electron_charge**2/tunnel_resistance/(1 - np.exp(deltaF/kb/T)))"
   ]
  },
  {
   "cell_type": "code",
   "execution_count": 48,
   "metadata": {},
   "outputs": [
    {
     "name": "stderr",
     "output_type": "stream",
     "text": [
      "/tmp/ipykernel_2479/1325591797.py:2: RuntimeWarning: overflow encountered in exp\n",
      "  return np.where(deltaF == 0, kb*T/electron_charge**2/tunnel_resistance, -deltaF/electron_charge**2/tunnel_resistance/(1 - np.exp(deltaF/kb/T)))\n",
      "/tmp/ipykernel_2479/1325591797.py:2: RuntimeWarning: invalid value encountered in scalar divide\n",
      "  return np.where(deltaF == 0, kb*T/electron_charge**2/tunnel_resistance, -deltaF/electron_charge**2/tunnel_resistance/(1 - np.exp(deltaF/kb/T)))\n"
     ]
    },
    {
     "data": {
      "text/plain": [
       "Text(0, 0.5, 'Gama [1/s]')"
      ]
     },
     "execution_count": 48,
     "metadata": {},
     "output_type": "execute_result"
    },
    {
     "data": {
      "image/png": "[encoded data removed]",
      "text/plain": [
       "<Figure size 640x480 with 1 Axes>"
      ]
     },
     "metadata": {},
     "output_type": "display_data"
    }
   ],
   "source": [
    "xs = np.linspace(-100,100)\n",
    "ys = calc_rate(xs)\n",
    "plt.scatter(xs, ys)\n",
    "plt.scatter(0,calc_rate(0))\n",
    "plt.xlabel(\"dF [aJ]\")\n",
    "plt.ylabel(\"Gama [1/s]\")"
   ]
  },
  {
   "cell_type": "code",
   "execution_count": 20,
   "metadata": {},
   "outputs": [],
   "source": [
    "n = np.array([1,2,3,4,1,2,3,4])\n",
    "\n",
    "voltage_config = get_voltage_config(input_voltages=[1],output_voltages=[-1],control_voltages=[],gate_voltage=0)\n",
    "dq = calc_induced_charges(voltage_config)\n",
    "\n",
    "q = electron_charge * n + dq"
   ]
  },
  {
   "cell_type": "code",
   "execution_count": null,
   "metadata": {},
   "outputs": [],
   "source": [
    "calc_tunnel_rate_island()"
   ]
  }
 ],
 "metadata": {
  "kernelspec": {
   "display_name": "Python 3",
   "language": "python",
   "name": "python3"
  },
  "language_info": {
   "codemirror_mode": {
    "name": "ipython",
    "version": 3
   },
   "file_extension": ".py",
   "mimetype": "text/x-python",
   "name": "python",
   "nbconvert_exporter": "python",
   "pygments_lexer": "ipython3",
   "version": "3.8.10"
  },
  "orig_nbformat": 4,
  "vscode": {
   "interpreter": {
    "hash": "31f2aee4e71d21fbe5cf8b01ff0e069b9275f58929596ceb00d14d90e3e16cd6"
   }
  }
 },
 "nbformat": 4,
 "nbformat_minor": 2
}
